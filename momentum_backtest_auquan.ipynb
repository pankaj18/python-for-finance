{
  "nbformat": 4,
  "nbformat_minor": 0,
  "metadata": {
    "colab": {
      "name": "momentum_backtest_auquan.ipynb",
      "provenance": [],
      "authorship_tag": "ABX9TyNyR0cyLqczwbet4px9JS/r",
      "include_colab_link": true
    },
    "kernelspec": {
      "name": "python3",
      "display_name": "Python 3"
    }
  },
  "cells": [
    {
      "cell_type": "markdown",
      "metadata": {
        "id": "view-in-github",
        "colab_type": "text"
      },
      "source": [
        "<a href=\"https://colab.research.google.com/github/pankaj18/python-for-finance/blob/master/momentum_backtest_auquan.ipynb\" target=\"_parent\"><img src=\"https://colab.research.google.com/assets/colab-badge.svg\" alt=\"Open In Colab\"/></a>"
      ]
    },
    {
      "cell_type": "code",
      "metadata": {
        "id": "9W1ma7dWzsX8",
        "colab_type": "code",
        "colab": {
          "base_uri": "https://localhost:8080/",
          "height": 819
        },
        "outputId": "4ec39c18-5208-4bb8-b18b-b30a8422ace6"
      },
      "source": [
        "!pip3 install -U auquan_toolbox"
      ],
      "execution_count": 1,
      "outputs": [
        {
          "output_type": "stream",
          "text": [
            "Collecting auquan_toolbox\n",
            "\u001b[?25l  Downloading https://files.pythonhosted.org/packages/e2/fb/26e4d8f5091d03fbb2dafb47901eceddad9f16066ed37d94a42b9568a214/auquan_toolbox-2.1.92-py3-none-any.whl (103kB)\n",
            "\u001b[K     |████████████████████████████████| 112kB 8.0MB/s \n",
            "\u001b[?25hRequirement already satisfied, skipping upgrade: lxml in /usr/local/lib/python3.6/dist-packages (from auquan_toolbox) (4.2.6)\n",
            "Requirement already satisfied, skipping upgrade: scipy in /usr/local/lib/python3.6/dist-packages (from auquan_toolbox) (1.4.1)\n",
            "Requirement already satisfied, skipping upgrade: numpy in /usr/local/lib/python3.6/dist-packages (from auquan_toolbox) (1.18.5)\n",
            "Requirement already satisfied, skipping upgrade: tensorboard in /usr/local/lib/python3.6/dist-packages (from auquan_toolbox) (2.2.2)\n",
            "Requirement already satisfied, skipping upgrade: bs4 in /usr/local/lib/python3.6/dist-packages (from auquan_toolbox) (0.0.1)\n",
            "Requirement already satisfied, skipping upgrade: requests in /usr/local/lib/python3.6/dist-packages (from auquan_toolbox) (2.23.0)\n",
            "Collecting tensorboardX\n",
            "\u001b[?25l  Downloading https://files.pythonhosted.org/packages/af/0c/4f41bcd45db376e6fe5c619c01100e9b7531c55791b7244815bac6eac32c/tensorboardX-2.1-py2.py3-none-any.whl (308kB)\n",
            "\u001b[K     |████████████████████████████████| 317kB 14.5MB/s \n",
            "\u001b[?25hRequirement already satisfied, skipping upgrade: sklearn in /usr/local/lib/python3.6/dist-packages (from auquan_toolbox) (0.0)\n",
            "Requirement already satisfied, skipping upgrade: pandas in /usr/local/lib/python3.6/dist-packages (from auquan_toolbox) (1.0.5)\n",
            "Requirement already satisfied, skipping upgrade: plotly in /usr/local/lib/python3.6/dist-packages (from auquan_toolbox) (4.4.1)\n",
            "Requirement already satisfied, skipping upgrade: markdown>=2.6.8 in /usr/local/lib/python3.6/dist-packages (from tensorboard->auquan_toolbox) (3.2.2)\n",
            "Requirement already satisfied, skipping upgrade: setuptools>=41.0.0 in /usr/local/lib/python3.6/dist-packages (from tensorboard->auquan_toolbox) (47.3.1)\n",
            "Requirement already satisfied, skipping upgrade: six>=1.10.0 in /usr/local/lib/python3.6/dist-packages (from tensorboard->auquan_toolbox) (1.12.0)\n",
            "Requirement already satisfied, skipping upgrade: grpcio>=1.24.3 in /usr/local/lib/python3.6/dist-packages (from tensorboard->auquan_toolbox) (1.30.0)\n",
            "Requirement already satisfied, skipping upgrade: google-auth-oauthlib<0.5,>=0.4.1 in /usr/local/lib/python3.6/dist-packages (from tensorboard->auquan_toolbox) (0.4.1)\n",
            "Requirement already satisfied, skipping upgrade: tensorboard-plugin-wit>=1.6.0 in /usr/local/lib/python3.6/dist-packages (from tensorboard->auquan_toolbox) (1.6.0.post3)\n",
            "Requirement already satisfied, skipping upgrade: wheel>=0.26; python_version >= \"3\" in /usr/local/lib/python3.6/dist-packages (from tensorboard->auquan_toolbox) (0.34.2)\n",
            "Requirement already satisfied, skipping upgrade: google-auth<2,>=1.6.3 in /usr/local/lib/python3.6/dist-packages (from tensorboard->auquan_toolbox) (1.17.2)\n",
            "Requirement already satisfied, skipping upgrade: absl-py>=0.4 in /usr/local/lib/python3.6/dist-packages (from tensorboard->auquan_toolbox) (0.9.0)\n",
            "Requirement already satisfied, skipping upgrade: protobuf>=3.6.0 in /usr/local/lib/python3.6/dist-packages (from tensorboard->auquan_toolbox) (3.10.0)\n",
            "Requirement already satisfied, skipping upgrade: werkzeug>=0.11.15 in /usr/local/lib/python3.6/dist-packages (from tensorboard->auquan_toolbox) (1.0.1)\n",
            "Requirement already satisfied, skipping upgrade: beautifulsoup4 in /usr/local/lib/python3.6/dist-packages (from bs4->auquan_toolbox) (4.6.3)\n",
            "Requirement already satisfied, skipping upgrade: chardet<4,>=3.0.2 in /usr/local/lib/python3.6/dist-packages (from requests->auquan_toolbox) (3.0.4)\n",
            "Requirement already satisfied, skipping upgrade: urllib3!=1.25.0,!=1.25.1,<1.26,>=1.21.1 in /usr/local/lib/python3.6/dist-packages (from requests->auquan_toolbox) (1.24.3)\n",
            "Requirement already satisfied, skipping upgrade: certifi>=2017.4.17 in /usr/local/lib/python3.6/dist-packages (from requests->auquan_toolbox) (2020.6.20)\n",
            "Requirement already satisfied, skipping upgrade: idna<3,>=2.5 in /usr/local/lib/python3.6/dist-packages (from requests->auquan_toolbox) (2.9)\n",
            "Requirement already satisfied, skipping upgrade: scikit-learn in /usr/local/lib/python3.6/dist-packages (from sklearn->auquan_toolbox) (0.22.2.post1)\n",
            "Requirement already satisfied, skipping upgrade: pytz>=2017.2 in /usr/local/lib/python3.6/dist-packages (from pandas->auquan_toolbox) (2018.9)\n",
            "Requirement already satisfied, skipping upgrade: python-dateutil>=2.6.1 in /usr/local/lib/python3.6/dist-packages (from pandas->auquan_toolbox) (2.8.1)\n",
            "Requirement already satisfied, skipping upgrade: retrying>=1.3.3 in /usr/local/lib/python3.6/dist-packages (from plotly->auquan_toolbox) (1.3.3)\n",
            "Requirement already satisfied, skipping upgrade: importlib-metadata; python_version < \"3.8\" in /usr/local/lib/python3.6/dist-packages (from markdown>=2.6.8->tensorboard->auquan_toolbox) (1.6.1)\n",
            "Requirement already satisfied, skipping upgrade: requests-oauthlib>=0.7.0 in /usr/local/lib/python3.6/dist-packages (from google-auth-oauthlib<0.5,>=0.4.1->tensorboard->auquan_toolbox) (1.3.0)\n",
            "Requirement already satisfied, skipping upgrade: rsa<5,>=3.1.4; python_version >= \"3\" in /usr/local/lib/python3.6/dist-packages (from google-auth<2,>=1.6.3->tensorboard->auquan_toolbox) (4.6)\n",
            "Requirement already satisfied, skipping upgrade: cachetools<5.0,>=2.0.0 in /usr/local/lib/python3.6/dist-packages (from google-auth<2,>=1.6.3->tensorboard->auquan_toolbox) (4.1.0)\n",
            "Requirement already satisfied, skipping upgrade: pyasn1-modules>=0.2.1 in /usr/local/lib/python3.6/dist-packages (from google-auth<2,>=1.6.3->tensorboard->auquan_toolbox) (0.2.8)\n",
            "Requirement already satisfied, skipping upgrade: joblib>=0.11 in /usr/local/lib/python3.6/dist-packages (from scikit-learn->sklearn->auquan_toolbox) (0.15.1)\n",
            "Requirement already satisfied, skipping upgrade: zipp>=0.5 in /usr/local/lib/python3.6/dist-packages (from importlib-metadata; python_version < \"3.8\"->markdown>=2.6.8->tensorboard->auquan_toolbox) (3.1.0)\n",
            "Requirement already satisfied, skipping upgrade: oauthlib>=3.0.0 in /usr/local/lib/python3.6/dist-packages (from requests-oauthlib>=0.7.0->google-auth-oauthlib<0.5,>=0.4.1->tensorboard->auquan_toolbox) (3.1.0)\n",
            "Requirement already satisfied, skipping upgrade: pyasn1>=0.1.3 in /usr/local/lib/python3.6/dist-packages (from rsa<5,>=3.1.4; python_version >= \"3\"->google-auth<2,>=1.6.3->tensorboard->auquan_toolbox) (0.4.8)\n",
            "Installing collected packages: tensorboardX, auquan-toolbox\n",
            "Successfully installed auquan-toolbox-2.1.92 tensorboardX-2.1\n"
          ],
          "name": "stdout"
        }
      ]
    },
    {
      "cell_type": "code",
      "metadata": {
        "id": "ukSZVOMcz_F6",
        "colab_type": "code",
        "colab": {}
      },
      "source": [
        "import scipy\n",
        "import sklearn\n",
        "import numpy as np\n",
        "import pandas as pd\n",
        "from datetime import datetime, timedelta\n",
        "import matplotlib.pyplot as plt\n",
        "import os"
      ],
      "execution_count": 2,
      "outputs": []
    },
    {
      "cell_type": "code",
      "metadata": {
        "id": "u1JmFXTQ0B2C",
        "colab_type": "code",
        "colab": {}
      },
      "source": [
        "plt.style.use('dark_background')"
      ],
      "execution_count": 3,
      "outputs": []
    },
    {
      "cell_type": "code",
      "metadata": {
        "id": "M6I0HdyF0FBX",
        "colab_type": "code",
        "colab": {}
      },
      "source": [
        "from backtester.trading_system_parameters import TradingSystemParameters\n",
        "from backtester.features.feature import Feature\n",
        "from backtester.dataSource.yahoo_data_source import YahooStockDataSource\n",
        "from backtester.timeRule.custom_time_rule import CustomTimeRule\n",
        "from backtester.executionSystem.simple_execution_system import SimpleExecutionSystem\n",
        "from backtester.orderPlacer.backtesting_order_placer import BacktestingOrderPlacer\n",
        "from backtester.trading_system import TradingSystem\n",
        "from backtester.constants import *"
      ],
      "execution_count": 4,
      "outputs": []
    },
    {
      "cell_type": "markdown",
      "metadata": {
        "id": "Ald-nX_00z0-",
        "colab_type": "text"
      },
      "source": [
        "This is the static part of an experiment\n",
        "\n",
        "It is similar to writing a data loader and trainer for a deep learning project. Once written for a particular experiment we hardly need to change it."
      ]
    },
    {
      "cell_type": "code",
      "metadata": {
        "id": "sl56A7vA0Vm-",
        "colab_type": "code",
        "colab": {}
      },
      "source": [
        "class MyTradingParams(TradingSystemParameters):\n",
        "\n",
        "    def __init__(self, tradingFunctions):\n",
        "        self.__tradingFunctions = tradingFunctions\n",
        "        super(MyTradingParams, self).__init__()\n",
        "        self.__dataSetId = 'equity_data'\n",
        "        self.__instrumentIds = self.__tradingFunctions.getSymbolsToTrade()\n",
        "        self.__startDate = '2015/01/02'\n",
        "        self.__endDate = '2017/08/31'\n",
        "\n",
        "    def getDataParser(self):\n",
        "        '''\n",
        "        Returns an instance of class DataParser. Source of data for instruments\n",
        "        '''\n",
        "        instrumentIds = self.__tradingFunctions.getSymbolsToTrade()\n",
        "        return YahooStockDataSource(\n",
        "            cachedFolderName = 'historicalData/',\n",
        "            dataSetId = self.__dataSetId,\n",
        "            instrumentIds = instrumentIds,\n",
        "            startDateStr = self.__startDate,\n",
        "            endDateStr = self.__endDate,\n",
        "        )\n",
        "        \n",
        "    def getTimeRuleForUpdates(self):\n",
        "        return CustomTimeRule(\n",
        "            startDate = self.__startDate, \n",
        "            endDate = self.__endDate, \n",
        "            frequency = 'D', \n",
        "            sample = '30'\n",
        "        )\n",
        "\n",
        "    def getFrequencyOfFeatureUpdates(self):\n",
        "        return timedelta(days = 1)\n",
        "\n",
        "    def getStartingCapital(self):\n",
        "        if len(self.__tradingFunctions.getSymbolsToTrade()) > 0:\n",
        "            return 1000*len(self.__tradingFunctions.getSymbolsToTrade())\n",
        "        else:\n",
        "            return 30000\n",
        "\n",
        "    def getCustomFeatures(self):\n",
        "        '''\n",
        "        This is a way to use any custom features you might have made.\n",
        "        Returns a dictionary where:\n",
        "        \n",
        "        key: featureId to access this feature (Make sure this doesnt conflict with any of the pre defined feature Ids)\n",
        "        value: Your custom Class which computes this feature. The class should be an instance of Feature\n",
        "        \n",
        "        Eg. if your custom class is MyCustomFeature, and you want to access this via featureId='my_custom_feature',\n",
        "        you will import that class, and return this function as {'my_custom_feature': MyCustomFeature}\n",
        "        '''\n",
        "        return {\n",
        "            'my_custom_feature': MyCustomFeature,\n",
        "            'prediction': TrainingPredictionFeature,\n",
        "            'zero_fees': FeesCalculator,\n",
        "            'benchmark_PnL': BuyHoldPnL,\n",
        "            'score': ScoreFeature\n",
        "        }\n",
        "\n",
        "    def getInstrumentFeatureConfigDicts(self):\n",
        "        '''\n",
        "        Returns an array of instrument feature config dictionaries instrument feature config Dictionary has the \n",
        "        following keys:\n",
        "        \n",
        "        featureId: a string representing the type of feature you want to use\n",
        "        featureKey: a string representing the key you will use to access the value of this feature\n",
        "        params: A dictionary with which contains other optional params if needed by the feature\n",
        "        '''\n",
        "\n",
        "        predictionDict = {\n",
        "            'featureKey': 'prediction',\n",
        "            'featureId': 'prediction',\n",
        "            'params': {}\n",
        "        }\n",
        "        feesConfigDict = {\n",
        "            'featureKey': 'fees',\n",
        "            'featureId': 'zero_fees',\n",
        "            'params': {}\n",
        "        }\n",
        "        profitlossConfigDict = {\n",
        "            'featureKey': 'pnl',\n",
        "            'featureId': 'pnl',\n",
        "            'params': {\n",
        "                'price': self.getPriceFeatureKey(),\n",
        "                'fees': 'fees'\n",
        "            }\n",
        "        }\n",
        "        capitalConfigDict = {\n",
        "            'featureKey': 'capital',\n",
        "            'featureId': 'capital',\n",
        "            'params': {\n",
        "                'price': 'adjClose',\n",
        "                'fees': 'fees',\n",
        "                'capitalReqPercent': 0.95\n",
        "            }\n",
        "        }\n",
        "        benchmarkDict = {\n",
        "            'featureKey': 'benchmark',\n",
        "            'featureId': 'benchmark_PnL',\n",
        "            'params': {'pnlKey': 'pnl'}\n",
        "        }\n",
        "        scoreDict = {\n",
        "            'featureKey': 'score',\n",
        "            'featureId': 'score',\n",
        "            'params': {\n",
        "                'featureName1': 'pnl',\n",
        "                'featureName2':'benchmark'\n",
        "            }\n",
        "        }\n",
        "\n",
        "        stockFeatureConfigs = self.__tradingFunctions.getInstrumentFeatureConfigDicts()\n",
        "\n",
        "        return {\n",
        "            INSTRUMENT_TYPE_STOCK: stockFeatureConfigs + [\n",
        "                predictionDict,\n",
        "                feesConfigDict,\n",
        "                profitlossConfigDict,\n",
        "                capitalConfigDict,\n",
        "                benchmarkDict, \n",
        "                scoreDict\n",
        "            ]\n",
        "        }\n",
        "\n",
        "    def getMarketFeatureConfigDicts(self):\n",
        "        '''\n",
        "        Returns an array of market feature config dictionaries having the following keys:\n",
        "        \n",
        "        featureId: a string representing the type of feature you want to use\n",
        "        featureKey: a string representing the key you will use to access the value of this feature\n",
        "        params: A dictionary with which contains other optional params if needed by the feature\n",
        "        '''\n",
        "        scoreDict = {\n",
        "            'featureKey': 'score',\n",
        "            'featureId': 'score_ll',\n",
        "            'params': {\n",
        "                'featureName': self.getPriceFeatureKey(),\n",
        "                'instrument_score_feature': 'score'\n",
        "            }\n",
        "        }\n",
        "        \n",
        "        return [scoreDict]\n",
        "\n",
        "    def getPrediction(self, time, updateNum, instrumentManager):\n",
        "        predictions = pd.Series(index = self.__instrumentIds)\n",
        "        predictions = self.__tradingFunctions.getPrediction(time, updateNum, instrumentManager, predictions)\n",
        "        \n",
        "        return predictions\n",
        "\n",
        "    def getExecutionSystem(self):\n",
        "        '''\n",
        "        Returns the type of execution system we want to use. Its an implementation of the class ExecutionSystem\n",
        "        It converts prediction to intended positions for different instruments.\n",
        "        '''\n",
        "        \n",
        "        return SimpleExecutionSystem(\n",
        "            enter_threshold = 0.7,\n",
        "            exit_threshold = 0.55,\n",
        "            longLimit = 1,\n",
        "            shortLimit = 1,\n",
        "            capitalUsageLimit = 0.10*self.getStartingCapital(),\n",
        "            enterlotSize = 1, \n",
        "            exitlotSize = 1,\n",
        "            limitType = 'L', \n",
        "            price = 'adjClose'\n",
        "        )\n",
        "\n",
        "    def getOrderPlacer(self):\n",
        "        '''\n",
        "        Returns the type of order placer we want to use. It's an implementation of the class OrderPlacer.\n",
        "        It helps place an order, and also read confirmations of orders being placed.\n",
        "        For Backtesting, you can just use the BacktestingOrderPlacer, which places the order which you want, and \n",
        "        automatically confirms it too.\n",
        "        '''\n",
        "        \n",
        "        return BacktestingOrderPlacer()\n",
        "\n",
        "    def getLookbackSize(self):\n",
        "        '''\n",
        "        Returns the amount of lookback data you want for your calculations. The historical market features and instrument features are only\n",
        "        stored upto this amount.\n",
        "        This number is the number of times we have updated our features.\n",
        "        '''\n",
        "        \n",
        "        return 120\n",
        "\n",
        "    def getPriceFeatureKey(self):\n",
        "        '''\n",
        "        The name of column containing the instrument price\n",
        "        '''\n",
        "        \n",
        "        return 'adjClose'\n",
        "\n",
        "    def getInstrumentsIds(self):\n",
        "        '''\n",
        "        Get all instrument ids\n",
        "        '''\n",
        "        \n",
        "        return self.__instrumentIds"
      ],
      "execution_count": 5,
      "outputs": []
    },
    {
      "cell_type": "code",
      "metadata": {
        "id": "avCgmgyA0xeu",
        "colab_type": "code",
        "colab": {}
      },
      "source": [
        "class TrainingPredictionFeature(Feature):\n",
        "    \n",
        "    @classmethod\n",
        "    def computeForInstrument(cls, updateNum, time, featureParams, featureKey, instrumentManager):\n",
        "        tf = MyTradingFunctions()\n",
        "        t = MyTradingParams(tf)\n",
        "        \n",
        "        return t.getPrediction(time, updateNum, instrumentManager)\n",
        "\n",
        "class FeesCalculator(Feature):\n",
        "    @classmethod\n",
        "    def computeForInstrument(cls, updateNum, time, featureParams, featureKey, instrumentManager):\n",
        "        \n",
        "        return pd.Series(0, index = instrumentManager.getAllInstrumentsByInstrumentId())\n",
        "\n",
        "class BuyHoldPnL(Feature):\n",
        "    \n",
        "    @classmethod\n",
        "    def computeForInstrument(cls, updateNum, time, featureParams, featureKey, instrumentManager):\n",
        "        instrumentLookbackData = instrumentManager.getLookbackInstrumentFeatures()\n",
        "\n",
        "        priceData = instrumentLookbackData.getFeatureDf('adjClose')\n",
        "         \n",
        "        if len(priceData) < 2:\n",
        "            return pd.Series(0, index = instrumentManager.getAllInstrumentsByInstrumentId())\n",
        "        else:\n",
        "            bhpnl = instrumentLookbackData.getFeatureDf(featureKey).iloc[-1]\n",
        "            bhpnl += priceData.iloc[-1] - priceData.iloc[-2]\n",
        "\n",
        "        return bhpnl\n",
        "\n",
        "class ScoreFeature(Feature):\n",
        "    \n",
        "    @classmethod\n",
        "    def computeForInstrument(cls, updateNum, time, featureParams, featureKey, instrumentManager):\n",
        "        instrumentLookbackData = instrumentManager.getLookbackInstrumentFeatures()\n",
        "        if len(instrumentLookbackData.getFeatureDf(featureParams['featureName1'])) > 0:\n",
        "            feature1 = instrumentLookbackData.getFeatureDf(featureParams['featureName1']).iloc[-1]\n",
        "            feature2 = instrumentLookbackData.getFeatureDf(featureParams['featureName2']).iloc[-1]\n",
        "            \n",
        "            for instrumentId in feature1.index:\n",
        "                pnls = instrumentLookbackData.getFeatureDf('pnl')[instrumentId]\n",
        "                positions = instrumentLookbackData.getFeatureDf('position')[instrumentId]\n",
        "                \n",
        "                print(instrumentId)\n",
        "                print('pnl: %.2f'%pnls[-1])\n",
        "                if len(positions) > 2 and np.abs(positions[-1] - positions[-2]) > 0:\n",
        "                    print('Position changed to: %.2f'%positions[-1])\n",
        "            \n",
        "            toRtn = (feature1 - feature2) / feature2.abs()\n",
        "            toRtn[toRtn.isnull()] = 0\n",
        "            toRtn[toRtn == np.Inf] = 0\n",
        "        else:\n",
        "            toRtn=0\n",
        "\n",
        "        return toRtn"
      ],
      "execution_count": 11,
      "outputs": []
    },
    {
      "cell_type": "markdown",
      "metadata": {
        "id": "e_OWp5-S1MrI",
        "colab_type": "text"
      },
      "source": [
        "This is the part where the magic takes place, all the logic for prediction and carrying out trades goes here"
      ]
    },
    {
      "cell_type": "code",
      "metadata": {
        "id": "amgdTNSv1N5H",
        "colab_type": "code",
        "colab": {}
      },
      "source": [
        "class MyTradingFunctions():\n",
        "\n",
        "    def __init__(self):\n",
        "        self.count = 0\n",
        "        self.params = {}\n",
        "\n",
        "    def getSymbolsToTrade(self):\n",
        "        '''\n",
        "        Specify the stock names that you want to trade.\n",
        "        '''\n",
        "        \n",
        "        return ['AAPL']\n",
        "\n",
        "    def getInstrumentFeatureConfigDicts(self):\n",
        "        '''\n",
        "        Specify all Features you want to use by creating config dictionaries.\n",
        "        Create one dictionary per feature and return them in an array.\n",
        "\n",
        "        Feature config Dictionary have the following keys:\n",
        "\n",
        "        featureId: a str for the type of feature you want to use\n",
        "        featureKey: {optional} a str for the key you will use to call this feature\n",
        "                    If not present, will just use featureId\n",
        "        params: {optional} A dictionary with which contains other optional params if needed by the feature\n",
        "\n",
        "        msDict = {\n",
        "            'featureKey': 'ms_5',\n",
        "            'featureId': 'moving_sum',\n",
        "            'params': {\n",
        "                'period': 5,\n",
        "                'featureName': 'basis'\n",
        "            }\n",
        "        }\n",
        "\n",
        "        return [msDict]\n",
        "\n",
        "        You can now use this feature by in getPRediction() calling it's featureKey, 'ms_5'\n",
        "        '''\n",
        "\n",
        "        ma1Dict = {\n",
        "            'featureKey': 'ma_90',\n",
        "            'featureId': 'moving_average',\n",
        "            'params': {\n",
        "                'period': 90,\n",
        "                'featureName': 'adjClose'\n",
        "            }\n",
        "        }\n",
        "        mom30Dict = {\n",
        "            'featureKey': 'mom_30',\n",
        "            'featureId': 'momentum',\n",
        "            'params': {\n",
        "                'period': 30,\n",
        "                'featureName': 'adjClose'\n",
        "            }\n",
        "        }\n",
        "        mom10Dict = {\n",
        "            'featureKey': 'mom_10',\n",
        "            'featureId': 'momentum',\n",
        "            'params': {\n",
        "                'period': 10,\n",
        "                'featureName': 'adjClose'\n",
        "            }\n",
        "        }\n",
        "        \n",
        "        return [ma1Dict, mom10Dict, mom30Dict]\n",
        "\n",
        "    def getPrediction(self, time, updateNum, instrumentManager, predictions):\n",
        "        '''\n",
        "        Combine all the features to create the desired predictions for each stock.\n",
        "        'predictions' is Pandas Series with stock as index and predictions as values\n",
        "        We first call the holder for all the instrument features for all stocks as\n",
        "            lookbackInstrumentFeatures = instrumentManager.getLookbackInstrumentFeatures()\n",
        "        Then call the dataframe for a feature using its feature_key as\n",
        "            ms5Data = lookbackInstrumentFeatures.getFeatureDf('ms_5')\n",
        "        This returns a dataFrame for that feature for ALL stocks for all times upto lookback time\n",
        "        Now you can call just the last data point for ALL stocks as\n",
        "            ms5 = ms5Data.iloc[-1]\n",
        "        You can call last datapoint for one stock 'ABC' as\n",
        "            value_for_abs = ms5['ABC']\n",
        "\n",
        "        Output of the prediction function is used by the toolbox to make further trading decisions and evaluate your score.\n",
        "        '''\n",
        "\n",
        "        # self.updateCount() - uncomment if you want a counter\n",
        "\n",
        "        # holder for all the instrument features for all instruments\n",
        "        lookbackInstrumentFeatures = instrumentManager.getLookbackInstrumentFeatures()\n",
        "\n",
        "        #############################################################################################\n",
        "        ### TODO : FILL THIS FUNCTION TO RETURN A BUY (1) or SELL (0) prediction for each stock  ###\n",
        "        ### USE TEMPLATE BELOW AS EXAMPLE\n",
        "        ###\n",
        "        ### HINT: Use the Hurst Exponent \n",
        "        ### http://analytics-magazine.org/the-hurst-exponent-predictability-of-time-series/\n",
        "        #############################################################################################\n",
        "        \n",
        "        # Here's an example implementation of the hurst exponent\n",
        "        def hurst_f(input_ts, lags_to_test=20):  \n",
        "            # interpretation of return value\n",
        "            # hurst < 0.5 - input_ts is mean reverting\n",
        "            # hurst = 0.5 - input_ts is effectively random/geometric brownian motion\n",
        "            # hurst > 0.5 - input_ts is trending\n",
        "            tau = []\n",
        "            lagvec = []  \n",
        "            #  Step through the different lags  \n",
        "            for lag in range(2, lags_to_test):  \n",
        "                #  produce price difference with lag  \n",
        "                pp = np.subtract(input_ts[lag:], input_ts[:-lag])  \n",
        "                #  Write the different lags into a vector  \n",
        "                lagvec.append(lag)  \n",
        "                #  Calculate the variance of the differnce vector  \n",
        "                tau.append(np.sqrt(np.std(pp)))  \n",
        "            #  linear fit to double-log graph (gives power)  \n",
        "            m = np.polyfit(np.log10(lagvec), np.log10(tau), 1)  \n",
        "            # calculate hurst  \n",
        "            hurst = m[0]*2\n",
        "\n",
        "            return hurst \n",
        "\n",
        "        # dataframe for a historical instrument feature (ma_90 in this case). The index is the timestamps\n",
        "        # of upto lookback data points. The columns of this dataframe are the stock symbols/instrumentIds.\n",
        "        mom10Data = lookbackInstrumentFeatures.getFeatureDf('mom_10')\n",
        "        mom30Data = lookbackInstrumentFeatures.getFeatureDf('mom_30')\n",
        "        ma90Data = lookbackInstrumentFeatures.getFeatureDf('ma_90')\n",
        "        \n",
        "        # Here we are making predictions on the basis of Hurst exponent if enough data is available, otherwise\n",
        "        # we simply get out of our position\n",
        "        if len(ma90Data.index)>20:\n",
        "            mom30 = mom30Data.iloc[-1]\n",
        "            mom10 = mom10Data.iloc[-1]\n",
        "            ma90 = ma90Data.iloc[-1]\n",
        "            \n",
        "            # Calculate Hurst Exponent\n",
        "            hurst = ma90Data.apply(hurst_f, axis=0)\n",
        "            # Go long if Hurst > 0.5 and both long term and short term momentum are positive\n",
        "            predictions[(hurst > 0.5) & (mom30 > 0) & (mom10 > 0)] = 1 \n",
        "            # Go short if Hurst > 0.5 and both long term and short term momentum are negative\n",
        "            predictions[(hurst > 0.5) & (mom30 <= 0) & (mom10 <= 0)] = 0 \n",
        "            \n",
        "            # Get out of position if Hurst > 0.5 and long term momentum is positive while short term is negative\n",
        "            predictions[(hurst > 0.5) & (mom30 > 0) & (mom10 <= 0)] = 0.5\n",
        "            # Get out of position if Hurst > 0.5 and long term momentum is negative while short term is positive\n",
        "            predictions[(hurst > 0.5) & (mom30 <= 0) & (mom10 > 0)] = 0.5\n",
        "            \n",
        "            # Get out of position if Hurst < 0.5\n",
        "            predictions[hurst <= 0.5] = 0.5        \n",
        "        else:\n",
        "            # If no sufficient data then don't take any positions\n",
        "            predictions.values[:] = 0.5\n",
        "        return predictions\n",
        "\n",
        "    def updateCount(self):\n",
        "        self.count = self.count + 1"
      ],
      "execution_count": 6,
      "outputs": []
    },
    {
      "cell_type": "markdown",
      "metadata": {
        "id": "Ls3obPfy1nxq",
        "colab_type": "text"
      },
      "source": [
        "Here's another example of a custom feature"
      ]
    },
    {
      "cell_type": "code",
      "metadata": {
        "id": "aq7hxQ8M1gRv",
        "colab_type": "code",
        "colab": {}
      },
      "source": [
        "class MyCustomFeature(Feature):\n",
        "    ''''\n",
        "    Custom Feature to implement for instrument. This function would return the value of the feature you want to implement.\n",
        "    1. create a new class MyCustomFeatureClassName for the feature and implement your logic in the function computeForInstrument() -\n",
        "\n",
        "    2. modify function getCustomFeatures() to return a dictionary with Id for this class\n",
        "        (follow formats like {'my_custom_feature_identifier': MyCustomFeatureClassName}.\n",
        "        Make sure 'my_custom_feature_identifier' doesnt conflict with any of the pre defined feature Ids\n",
        "\n",
        "        def getCustomFeatures(self):\n",
        "            return {'my_custom_feature_identifier': MyCustomFeatureClassName}\n",
        "\n",
        "    3. create a dict for this feature in getInstrumentFeatureConfigDicts() above. Dict format is:\n",
        "            customFeatureDict = {'featureKey': 'my_custom_feature_key',\n",
        "                                'featureId': 'my_custom_feature_identifier',\n",
        "                                'params': {'param1': 'value1'}}\n",
        "    You can now use this feature by calling it's featureKey, 'my_custom_feature_key' in getPrediction()\n",
        "    '''\n",
        "    \n",
        "    @classmethod\n",
        "    def computeForInstrument(cls, updateNum, time, featureParams, featureKey, instrumentManager):\n",
        "        # Custom parameter which can be used as input to computation of this feature\n",
        "        param1Value = featureParams['param1']\n",
        "\n",
        "        # A holder for the all the instrument features\n",
        "        lookbackInstrumentFeatures = instrumentManager.getLookbackInstrumentFeatures()\n",
        "\n",
        "        # dataframe for a historical instrument feature (basis in this case). The index is the timestamps\n",
        "        # atmost upto lookback data points. The columns of this dataframe are the stocks/instrumentIds.\n",
        "        lookbackInstrumentValue = lookbackInstrumentFeatures.getFeatureDf('adjClose')\n",
        "\n",
        "        # The last row of the previous dataframe gives the last calculated value for that feature (basis in this case)\n",
        "        # This returns a series with stocks/instrumentIds as the index.\n",
        "        currentValue = lookbackInstrumentValue.iloc[-1]\n",
        "\n",
        "        if param1Value == 'value1':\n",
        "            return currentValue * 0.1\n",
        "        else:\n",
        "            return currentValue * 0.5"
      ],
      "execution_count": 8,
      "outputs": []
    },
    {
      "cell_type": "code",
      "metadata": {
        "id": "vHRamyX41WRx",
        "colab_type": "code",
        "colab": {
          "base_uri": "https://localhost:8080/",
          "height": 1000
        },
        "outputId": "06fc3ad0-fd4f-45fe-8dc5-5361ac8fff75"
      },
      "source": [
        "tf = MyTradingFunctions()\n",
        "tsParams = MyTradingParams(tf)\n",
        "tradingSystem = TradingSystem(tsParams)\n",
        "results = tradingSystem.startTrading()"
      ],
      "execution_count": 12,
      "outputs": [
        {
          "output_type": "stream",
          "text": [
            "Processing data for stock: AAPL\n",
            "20% done...\n",
            "40% done...\n",
            "60% done...\n",
            "80% done...\n",
            "Logging all the available market metrics in tensorboard\n",
            "Logging all the available instrument metrics in tensorboard\n",
            "2015-01-02 00:00:00\n",
            "2015-01-05 00:00:00\n",
            "AAPL\n",
            "pnl: 0.00\n"
          ],
          "name": "stdout"
        },
        {
          "output_type": "stream",
          "text": [
            "/usr/local/lib/python3.6/dist-packages/ipykernel_launcher.py:144: DeprecationWarning:\n",
            "\n",
            "The default dtype for empty Series will be 'object' instead of 'float64' in a future version. Specify a dtype explicitly to silence this warning.\n",
            "\n",
            "/usr/local/lib/python3.6/dist-packages/ipykernel_launcher.py:144: DeprecationWarning:\n",
            "\n",
            "The default dtype for empty Series will be 'object' instead of 'float64' in a future version. Specify a dtype explicitly to silence this warning.\n",
            "\n",
            "/usr/local/lib/python3.6/dist-packages/ipykernel_launcher.py:144: DeprecationWarning:\n",
            "\n",
            "The default dtype for empty Series will be 'object' instead of 'float64' in a future version. Specify a dtype explicitly to silence this warning.\n",
            "\n",
            "/usr/local/lib/python3.6/dist-packages/ipykernel_launcher.py:144: DeprecationWarning:\n",
            "\n",
            "The default dtype for empty Series will be 'object' instead of 'float64' in a future version. Specify a dtype explicitly to silence this warning.\n",
            "\n",
            "/usr/local/lib/python3.6/dist-packages/ipykernel_launcher.py:144: DeprecationWarning:\n",
            "\n",
            "The default dtype for empty Series will be 'object' instead of 'float64' in a future version. Specify a dtype explicitly to silence this warning.\n",
            "\n"
          ],
          "name": "stderr"
        },
        {
          "output_type": "stream",
          "text": [
            "2015-01-06 00:00:00\n",
            "AAPL\n",
            "pnl: 0.00\n",
            "2015-01-07 00:00:00\n",
            "AAPL\n",
            "pnl: 0.00\n",
            "2015-01-08 00:00:00\n",
            "AAPL\n",
            "pnl: 0.00\n",
            "2015-01-09 00:00:00\n",
            "AAPL\n",
            "pnl: 0.00\n",
            "2015-01-12 00:00:00\n",
            "AAPL\n",
            "pnl: 0.00\n",
            "2015-01-13 00:00:00\n",
            "AAPL\n",
            "pnl: 0.00\n"
          ],
          "name": "stdout"
        },
        {
          "output_type": "stream",
          "text": [
            "/usr/local/lib/python3.6/dist-packages/ipykernel_launcher.py:144: DeprecationWarning:\n",
            "\n",
            "The default dtype for empty Series will be 'object' instead of 'float64' in a future version. Specify a dtype explicitly to silence this warning.\n",
            "\n",
            "/usr/local/lib/python3.6/dist-packages/ipykernel_launcher.py:144: DeprecationWarning:\n",
            "\n",
            "The default dtype for empty Series will be 'object' instead of 'float64' in a future version. Specify a dtype explicitly to silence this warning.\n",
            "\n",
            "/usr/local/lib/python3.6/dist-packages/ipykernel_launcher.py:144: DeprecationWarning:\n",
            "\n",
            "The default dtype for empty Series will be 'object' instead of 'float64' in a future version. Specify a dtype explicitly to silence this warning.\n",
            "\n",
            "/usr/local/lib/python3.6/dist-packages/ipykernel_launcher.py:144: DeprecationWarning:\n",
            "\n",
            "The default dtype for empty Series will be 'object' instead of 'float64' in a future version. Specify a dtype explicitly to silence this warning.\n",
            "\n",
            "/usr/local/lib/python3.6/dist-packages/ipykernel_launcher.py:144: DeprecationWarning:\n",
            "\n",
            "The default dtype for empty Series will be 'object' instead of 'float64' in a future version. Specify a dtype explicitly to silence this warning.\n",
            "\n",
            "/usr/local/lib/python3.6/dist-packages/ipykernel_launcher.py:144: DeprecationWarning:\n",
            "\n",
            "The default dtype for empty Series will be 'object' instead of 'float64' in a future version. Specify a dtype explicitly to silence this warning.\n",
            "\n"
          ],
          "name": "stderr"
        },
        {
          "output_type": "stream",
          "text": [
            "2015-01-14 00:00:00\n",
            "AAPL\n",
            "pnl: 0.00\n",
            "2015-01-15 00:00:00\n",
            "AAPL\n",
            "pnl: 0.00\n",
            "2015-01-16 00:00:00\n",
            "AAPL\n",
            "pnl: 0.00\n"
          ],
          "name": "stdout"
        },
        {
          "output_type": "stream",
          "text": [
            "/usr/local/lib/python3.6/dist-packages/ipykernel_launcher.py:144: DeprecationWarning:\n",
            "\n",
            "The default dtype for empty Series will be 'object' instead of 'float64' in a future version. Specify a dtype explicitly to silence this warning.\n",
            "\n",
            "/usr/local/lib/python3.6/dist-packages/ipykernel_launcher.py:144: DeprecationWarning:\n",
            "\n",
            "The default dtype for empty Series will be 'object' instead of 'float64' in a future version. Specify a dtype explicitly to silence this warning.\n",
            "\n",
            "/usr/local/lib/python3.6/dist-packages/ipykernel_launcher.py:144: DeprecationWarning:\n",
            "\n",
            "The default dtype for empty Series will be 'object' instead of 'float64' in a future version. Specify a dtype explicitly to silence this warning.\n",
            "\n",
            "/usr/local/lib/python3.6/dist-packages/ipykernel_launcher.py:144: DeprecationWarning:\n",
            "\n",
            "The default dtype for empty Series will be 'object' instead of 'float64' in a future version. Specify a dtype explicitly to silence this warning.\n",
            "\n"
          ],
          "name": "stderr"
        },
        {
          "output_type": "stream",
          "text": [
            "2015-01-19 00:00:00\n",
            "AAPL\n",
            "pnl: 0.00\n",
            "2015-01-20 00:00:00\n",
            "AAPL\n",
            "pnl: 0.00\n",
            "2015-01-21 00:00:00\n",
            "AAPL\n",
            "pnl: 0.00\n",
            "2015-01-22 00:00:00\n",
            "AAPL\n",
            "pnl: 0.00\n"
          ],
          "name": "stdout"
        },
        {
          "output_type": "stream",
          "text": [
            "/usr/local/lib/python3.6/dist-packages/ipykernel_launcher.py:144: DeprecationWarning:\n",
            "\n",
            "The default dtype for empty Series will be 'object' instead of 'float64' in a future version. Specify a dtype explicitly to silence this warning.\n",
            "\n",
            "/usr/local/lib/python3.6/dist-packages/ipykernel_launcher.py:144: DeprecationWarning:\n",
            "\n",
            "The default dtype for empty Series will be 'object' instead of 'float64' in a future version. Specify a dtype explicitly to silence this warning.\n",
            "\n",
            "/usr/local/lib/python3.6/dist-packages/ipykernel_launcher.py:144: DeprecationWarning:\n",
            "\n",
            "The default dtype for empty Series will be 'object' instead of 'float64' in a future version. Specify a dtype explicitly to silence this warning.\n",
            "\n"
          ],
          "name": "stderr"
        },
        {
          "output_type": "stream",
          "text": [
            "2015-01-23 00:00:00\n",
            "AAPL\n",
            "pnl: 0.00\n",
            "2015-01-26 00:00:00\n",
            "AAPL\n",
            "pnl: 0.00\n",
            "2015-01-27 00:00:00\n",
            "AAPL\n",
            "pnl: 0.00\n",
            "2015-01-28 00:00:00\n",
            "AAPL\n",
            "pnl: 0.00\n",
            "2015-01-29 00:00:00\n",
            "AAPL\n",
            "pnl: 0.00\n",
            "2015-01-30 00:00:00\n"
          ],
          "name": "stdout"
        },
        {
          "output_type": "stream",
          "text": [
            "/usr/local/lib/python3.6/dist-packages/ipykernel_launcher.py:144: DeprecationWarning:\n",
            "\n",
            "The default dtype for empty Series will be 'object' instead of 'float64' in a future version. Specify a dtype explicitly to silence this warning.\n",
            "\n",
            "/usr/local/lib/python3.6/dist-packages/ipykernel_launcher.py:144: DeprecationWarning:\n",
            "\n",
            "The default dtype for empty Series will be 'object' instead of 'float64' in a future version. Specify a dtype explicitly to silence this warning.\n",
            "\n",
            "/usr/local/lib/python3.6/dist-packages/ipykernel_launcher.py:144: DeprecationWarning:\n",
            "\n",
            "The default dtype for empty Series will be 'object' instead of 'float64' in a future version. Specify a dtype explicitly to silence this warning.\n",
            "\n",
            "/usr/local/lib/python3.6/dist-packages/ipykernel_launcher.py:114: RuntimeWarning:\n",
            "\n",
            "divide by zero encountered in log10\n",
            "\n",
            "WARNING:root:NaN or Inf found in input tensor.\n",
            "WARNING:root:NaN or Inf found in input tensor.\n",
            "WARNING:root:NaN or Inf found in input tensor.\n",
            "WARNING:root:NaN or Inf found in input tensor.\n"
          ],
          "name": "stderr"
        },
        {
          "output_type": "stream",
          "text": [
            "AAPL\n",
            "pnl: 0.00\n",
            "2015-02-02 00:00:00\n",
            "AAPL\n",
            "pnl: 0.00\n",
            "2015-02-03 00:00:00\n",
            "AAPL\n",
            "pnl: 0.00\n"
          ],
          "name": "stdout"
        },
        {
          "output_type": "stream",
          "text": [
            "WARNING:root:NaN or Inf found in input tensor.\n",
            "WARNING:root:NaN or Inf found in input tensor.\n",
            "WARNING:root:NaN or Inf found in input tensor.\n",
            "WARNING:root:NaN or Inf found in input tensor.\n",
            "WARNING:root:NaN or Inf found in input tensor.\n",
            "WARNING:root:NaN or Inf found in input tensor.\n"
          ],
          "name": "stderr"
        },
        {
          "output_type": "stream",
          "text": [
            "2015-02-04 00:00:00\n",
            "AAPL\n",
            "pnl: 0.00\n",
            "2015-02-05 00:00:00\n",
            "AAPL\n",
            "pnl: 0.00\n"
          ],
          "name": "stdout"
        },
        {
          "output_type": "stream",
          "text": [
            "WARNING:root:NaN or Inf found in input tensor.\n",
            "WARNING:root:NaN or Inf found in input tensor.\n"
          ],
          "name": "stderr"
        },
        {
          "output_type": "stream",
          "text": [
            "2015-02-06 00:00:00\n",
            "AAPL\n",
            "pnl: 0.00\n",
            "2015-02-09 00:00:00\n",
            "AAPL\n",
            "pnl: 0.00\n"
          ],
          "name": "stdout"
        },
        {
          "output_type": "stream",
          "text": [
            "WARNING:root:NaN or Inf found in input tensor.\n",
            "WARNING:root:NaN or Inf found in input tensor.\n",
            "WARNING:root:NaN or Inf found in input tensor.\n",
            "WARNING:root:NaN or Inf found in input tensor.\n"
          ],
          "name": "stderr"
        },
        {
          "output_type": "stream",
          "text": [
            "2015-02-10 00:00:00\n",
            "AAPL\n",
            "pnl: 0.00\n",
            "2015-02-11 00:00:00\n",
            "AAPL\n",
            "pnl: 0.00\n"
          ],
          "name": "stdout"
        },
        {
          "output_type": "stream",
          "text": [
            "WARNING:root:NaN or Inf found in input tensor.\n",
            "WARNING:root:NaN or Inf found in input tensor.\n",
            "WARNING:root:NaN or Inf found in input tensor.\n",
            "WARNING:root:NaN or Inf found in input tensor.\n"
          ],
          "name": "stderr"
        },
        {
          "output_type": "stream",
          "text": [
            "2015-02-12 00:00:00\n",
            "AAPL\n",
            "pnl: 0.00\n",
            "2015-02-13 00:00:00\n",
            "AAPL\n",
            "pnl: 0.00\n"
          ],
          "name": "stdout"
        },
        {
          "output_type": "stream",
          "text": [
            "WARNING:root:NaN or Inf found in input tensor.\n",
            "WARNING:root:NaN or Inf found in input tensor.\n",
            "WARNING:root:NaN or Inf found in input tensor.\n",
            "WARNING:root:NaN or Inf found in input tensor.\n"
          ],
          "name": "stderr"
        },
        {
          "output_type": "stream",
          "text": [
            "2015-02-16 00:00:00\n",
            "AAPL\n",
            "pnl: 0.00\n",
            "2015-02-17 00:00:00\n",
            "AAPL\n",
            "pnl: 0.00\n"
          ],
          "name": "stdout"
        },
        {
          "output_type": "stream",
          "text": [
            "WARNING:root:NaN or Inf found in input tensor.\n",
            "WARNING:root:NaN or Inf found in input tensor.\n",
            "WARNING:root:NaN or Inf found in input tensor.\n",
            "WARNING:root:NaN or Inf found in input tensor.\n"
          ],
          "name": "stderr"
        },
        {
          "output_type": "stream",
          "text": [
            "2015-02-18 00:00:00\n",
            "AAPL\n",
            "pnl: 0.00\n",
            "2015-02-19 00:00:00\n",
            "AAPL\n",
            "pnl: 0.00\n"
          ],
          "name": "stdout"
        },
        {
          "output_type": "stream",
          "text": [
            "WARNING:root:NaN or Inf found in input tensor.\n",
            "WARNING:root:NaN or Inf found in input tensor.\n",
            "WARNING:root:NaN or Inf found in input tensor.\n",
            "WARNING:root:NaN or Inf found in input tensor.\n"
          ],
          "name": "stderr"
        },
        {
          "output_type": "stream",
          "text": [
            "2015-02-20 00:00:00\n",
            "AAPL\n",
            "pnl: 0.00\n",
            "2015-02-23 00:00:00\n",
            "AAPL\n",
            "pnl: 0.00\n"
          ],
          "name": "stdout"
        },
        {
          "output_type": "stream",
          "text": [
            "WARNING:root:NaN or Inf found in input tensor.\n",
            "WARNING:root:NaN or Inf found in input tensor.\n",
            "WARNING:root:NaN or Inf found in input tensor.\n",
            "WARNING:root:NaN or Inf found in input tensor.\n"
          ],
          "name": "stderr"
        },
        {
          "output_type": "stream",
          "text": [
            "2015-02-24 00:00:00\n",
            "AAPL\n",
            "pnl: 0.00\n",
            "2015-02-25 00:00:00\n",
            "AAPL\n",
            "pnl: 0.00\n"
          ],
          "name": "stdout"
        },
        {
          "output_type": "stream",
          "text": [
            "WARNING:root:NaN or Inf found in input tensor.\n",
            "WARNING:root:NaN or Inf found in input tensor.\n",
            "WARNING:root:NaN or Inf found in input tensor.\n",
            "WARNING:root:NaN or Inf found in input tensor.\n"
          ],
          "name": "stderr"
        },
        {
          "output_type": "stream",
          "text": [
            "2015-02-26 00:00:00\n",
            "AAPL\n",
            "pnl: 0.00\n",
            "2015-02-27 00:00:00\n",
            "AAPL\n",
            "pnl: 0.00\n"
          ],
          "name": "stdout"
        },
        {
          "output_type": "stream",
          "text": [
            "WARNING:root:NaN or Inf found in input tensor.\n",
            "WARNING:root:NaN or Inf found in input tensor.\n",
            "WARNING:root:NaN or Inf found in input tensor.\n",
            "WARNING:root:NaN or Inf found in input tensor.\n"
          ],
          "name": "stderr"
        },
        {
          "output_type": "stream",
          "text": [
            "2015-03-02 00:00:00\n",
            "AAPL\n",
            "pnl: 0.00\n",
            "2015-03-03 00:00:00\n",
            "AAPL\n",
            "pnl: 0.00\n"
          ],
          "name": "stdout"
        },
        {
          "output_type": "stream",
          "text": [
            "WARNING:root:NaN or Inf found in input tensor.\n",
            "WARNING:root:NaN or Inf found in input tensor.\n",
            "WARNING:root:NaN or Inf found in input tensor.\n",
            "WARNING:root:NaN or Inf found in input tensor.\n"
          ],
          "name": "stderr"
        },
        {
          "output_type": "stream",
          "text": [
            "2015-03-04 00:00:00\n",
            "AAPL\n",
            "pnl: 0.00\n",
            "2015-03-05 00:00:00\n",
            "AAPL\n",
            "pnl: 0.00\n"
          ],
          "name": "stdout"
        },
        {
          "output_type": "stream",
          "text": [
            "WARNING:root:NaN or Inf found in input tensor.\n",
            "WARNING:root:NaN or Inf found in input tensor.\n",
            "WARNING:root:NaN or Inf found in input tensor.\n",
            "WARNING:root:NaN or Inf found in input tensor.\n"
          ],
          "name": "stderr"
        },
        {
          "output_type": "stream",
          "text": [
            "2015-03-06 00:00:00\n",
            "AAPL\n",
            "pnl: 0.00\n",
            "2015-03-09 00:00:00\n",
            "AAPL\n",
            "pnl: 0.00\n"
          ],
          "name": "stdout"
        },
        {
          "output_type": "stream",
          "text": [
            "WARNING:root:NaN or Inf found in input tensor.\n",
            "WARNING:root:NaN or Inf found in input tensor.\n",
            "WARNING:root:NaN or Inf found in input tensor.\n",
            "WARNING:root:NaN or Inf found in input tensor.\n"
          ],
          "name": "stderr"
        },
        {
          "output_type": "stream",
          "text": [
            "2015-03-10 00:00:00\n",
            "AAPL\n",
            "pnl: 0.00\n",
            "2015-03-11 00:00:00\n",
            "AAPL\n",
            "pnl: 0.00\n"
          ],
          "name": "stdout"
        },
        {
          "output_type": "stream",
          "text": [
            "WARNING:root:NaN or Inf found in input tensor.\n",
            "WARNING:root:NaN or Inf found in input tensor.\n",
            "WARNING:root:NaN or Inf found in input tensor.\n",
            "WARNING:root:NaN or Inf found in input tensor.\n"
          ],
          "name": "stderr"
        },
        {
          "output_type": "stream",
          "text": [
            "2015-03-12 00:00:00\n",
            "AAPL\n",
            "pnl: 0.00\n",
            "2015-03-13 00:00:00\n",
            "AAPL\n",
            "pnl: 0.00\n"
          ],
          "name": "stdout"
        },
        {
          "output_type": "stream",
          "text": [
            "WARNING:root:NaN or Inf found in input tensor.\n",
            "WARNING:root:NaN or Inf found in input tensor.\n",
            "WARNING:root:NaN or Inf found in input tensor.\n",
            "WARNING:root:NaN or Inf found in input tensor.\n",
            "WARNING:root:NaN or Inf found in input tensor.\n",
            "WARNING:root:NaN or Inf found in input tensor.\n"
          ],
          "name": "stderr"
        },
        {
          "output_type": "stream",
          "text": [
            "2015-03-16 00:00:00\n",
            "AAPL\n",
            "pnl: 0.00\n",
            "2015-03-17 00:00:00\n",
            "AAPL\n",
            "pnl: 0.00\n",
            "2015-03-18 00:00:00\n"
          ],
          "name": "stdout"
        },
        {
          "output_type": "stream",
          "text": [
            "WARNING:root:NaN or Inf found in input tensor.\n",
            "WARNING:root:NaN or Inf found in input tensor.\n",
            "WARNING:root:NaN or Inf found in input tensor.\n",
            "WARNING:root:NaN or Inf found in input tensor.\n"
          ],
          "name": "stderr"
        },
        {
          "output_type": "stream",
          "text": [
            "AAPL\n",
            "pnl: 0.00\n",
            "2015-03-19 00:00:00\n",
            "AAPL\n",
            "pnl: 0.00\n"
          ],
          "name": "stdout"
        },
        {
          "output_type": "stream",
          "text": [
            "WARNING:root:NaN or Inf found in input tensor.\n",
            "WARNING:root:NaN or Inf found in input tensor.\n",
            "WARNING:root:NaN or Inf found in input tensor.\n"
          ],
          "name": "stderr"
        },
        {
          "output_type": "stream",
          "text": [
            "2015-03-20 00:00:00\n",
            "AAPL\n",
            "pnl: 0.00\n",
            "2015-03-23 00:00:00\n",
            "AAPL\n",
            "pnl: 0.00\n"
          ],
          "name": "stdout"
        },
        {
          "output_type": "stream",
          "text": [
            "WARNING:root:NaN or Inf found in input tensor.\n",
            "WARNING:root:NaN or Inf found in input tensor.\n",
            "WARNING:root:NaN or Inf found in input tensor.\n"
          ],
          "name": "stderr"
        },
        {
          "output_type": "stream",
          "text": [
            "2015-03-24 00:00:00\n",
            "AAPL\n",
            "pnl: 0.00\n",
            "2015-03-25 00:00:00\n",
            "AAPL\n",
            "pnl: 0.00\n"
          ],
          "name": "stdout"
        },
        {
          "output_type": "stream",
          "text": [
            "WARNING:root:NaN or Inf found in input tensor.\n",
            "WARNING:root:NaN or Inf found in input tensor.\n",
            "WARNING:root:NaN or Inf found in input tensor.\n",
            "WARNING:root:NaN or Inf found in input tensor.\n"
          ],
          "name": "stderr"
        },
        {
          "output_type": "stream",
          "text": [
            "2015-03-26 00:00:00\n",
            "AAPL\n",
            "pnl: 0.00\n",
            "2015-03-27 00:00:00\n",
            "AAPL\n",
            "pnl: 0.00\n"
          ],
          "name": "stdout"
        },
        {
          "output_type": "stream",
          "text": [
            "WARNING:root:NaN or Inf found in input tensor.\n",
            "WARNING:root:NaN or Inf found in input tensor.\n",
            "WARNING:root:NaN or Inf found in input tensor.\n",
            "WARNING:root:NaN or Inf found in input tensor.\n"
          ],
          "name": "stderr"
        },
        {
          "output_type": "stream",
          "text": [
            "2015-03-30 00:00:00\n",
            "AAPL\n",
            "pnl: 0.00\n",
            "2015-03-31 00:00:00\n",
            "AAPL\n",
            "pnl: 0.00\n"
          ],
          "name": "stdout"
        },
        {
          "output_type": "stream",
          "text": [
            "WARNING:root:NaN or Inf found in input tensor.\n",
            "WARNING:root:NaN or Inf found in input tensor.\n",
            "WARNING:root:NaN or Inf found in input tensor.\n",
            "WARNING:root:NaN or Inf found in input tensor.\n"
          ],
          "name": "stderr"
        },
        {
          "output_type": "stream",
          "text": [
            "2015-04-01 00:00:00\n",
            "AAPL\n",
            "pnl: 0.00\n",
            "2015-04-02 00:00:00\n",
            "AAPL\n",
            "pnl: 0.00\n"
          ],
          "name": "stdout"
        },
        {
          "output_type": "stream",
          "text": [
            "WARNING:root:NaN or Inf found in input tensor.\n",
            "WARNING:root:NaN or Inf found in input tensor.\n",
            "WARNING:root:NaN or Inf found in input tensor.\n",
            "WARNING:root:NaN or Inf found in input tensor.\n",
            "WARNING:root:NaN or Inf found in input tensor.\n",
            "WARNING:root:NaN or Inf found in input tensor.\n"
          ],
          "name": "stderr"
        },
        {
          "output_type": "stream",
          "text": [
            "2015-04-03 00:00:00\n",
            "AAPL\n",
            "pnl: 0.00\n",
            "2015-04-06 00:00:00\n",
            "AAPL\n",
            "pnl: 0.00\n",
            "2015-04-07 00:00:00\n"
          ],
          "name": "stdout"
        },
        {
          "output_type": "stream",
          "text": [
            "WARNING:root:NaN or Inf found in input tensor.\n",
            "WARNING:root:NaN or Inf found in input tensor.\n"
          ],
          "name": "stderr"
        },
        {
          "output_type": "stream",
          "text": [
            "AAPL\n",
            "pnl: 0.00\n",
            "2015-04-08 00:00:00\n",
            "AAPL\n",
            "pnl: 0.00\n"
          ],
          "name": "stdout"
        },
        {
          "output_type": "stream",
          "text": [
            "WARNING:root:NaN or Inf found in input tensor.\n",
            "WARNING:root:NaN or Inf found in input tensor.\n",
            "WARNING:root:NaN or Inf found in input tensor.\n",
            "WARNING:root:NaN or Inf found in input tensor.\n",
            "WARNING:root:NaN or Inf found in input tensor.\n",
            "WARNING:root:NaN or Inf found in input tensor.\n"
          ],
          "name": "stderr"
        },
        {
          "output_type": "stream",
          "text": [
            "2015-04-09 00:00:00\n",
            "AAPL\n",
            "pnl: 0.00\n",
            "2015-04-10 00:00:00\n",
            "AAPL\n",
            "pnl: 0.00\n",
            "2015-04-13 00:00:00\n"
          ],
          "name": "stdout"
        },
        {
          "output_type": "stream",
          "text": [
            "WARNING:root:NaN or Inf found in input tensor.\n",
            "WARNING:root:NaN or Inf found in input tensor.\n",
            "WARNING:root:NaN or Inf found in input tensor.\n",
            "WARNING:root:NaN or Inf found in input tensor.\n"
          ],
          "name": "stderr"
        },
        {
          "output_type": "stream",
          "text": [
            "AAPL\n",
            "pnl: 0.00\n",
            "2015-04-14 00:00:00\n",
            "AAPL\n",
            "pnl: 0.00\n",
            "2015-04-15 00:00:00\n",
            "AAPL\n",
            "pnl: 0.00\n"
          ],
          "name": "stdout"
        },
        {
          "output_type": "stream",
          "text": [
            "WARNING:root:NaN or Inf found in input tensor.\n",
            "WARNING:root:NaN or Inf found in input tensor.\n",
            "WARNING:root:NaN or Inf found in input tensor.\n",
            "WARNING:root:NaN or Inf found in input tensor.\n"
          ],
          "name": "stderr"
        },
        {
          "output_type": "stream",
          "text": [
            "2015-04-16 00:00:00\n",
            "AAPL\n",
            "pnl: 0.00\n",
            "2015-04-17 00:00:00\n",
            "AAPL\n",
            "pnl: 0.00\n"
          ],
          "name": "stdout"
        },
        {
          "output_type": "stream",
          "text": [
            "WARNING:root:NaN or Inf found in input tensor.\n",
            "WARNING:root:NaN or Inf found in input tensor.\n",
            "WARNING:root:NaN or Inf found in input tensor.\n",
            "WARNING:root:NaN or Inf found in input tensor.\n"
          ],
          "name": "stderr"
        },
        {
          "output_type": "stream",
          "text": [
            "2015-04-20 00:00:00\n",
            "AAPL\n",
            "pnl: 0.00\n",
            "2015-04-21 00:00:00\n",
            "AAPL\n",
            "pnl: 0.00\n"
          ],
          "name": "stdout"
        },
        {
          "output_type": "stream",
          "text": [
            "WARNING:root:NaN or Inf found in input tensor.\n",
            "WARNING:root:NaN or Inf found in input tensor.\n",
            "WARNING:root:NaN or Inf found in input tensor.\n",
            "WARNING:root:NaN or Inf found in input tensor.\n",
            "WARNING:root:NaN or Inf found in input tensor.\n",
            "WARNING:root:NaN or Inf found in input tensor.\n"
          ],
          "name": "stderr"
        },
        {
          "output_type": "stream",
          "text": [
            "2015-04-22 00:00:00\n",
            "AAPL\n",
            "pnl: 0.00\n",
            "2015-04-23 00:00:00\n",
            "AAPL\n",
            "pnl: 0.00\n",
            "2015-04-24 00:00:00\n"
          ],
          "name": "stdout"
        },
        {
          "output_type": "stream",
          "text": [
            "WARNING:root:NaN or Inf found in input tensor.\n",
            "WARNING:root:NaN or Inf found in input tensor.\n",
            "WARNING:root:NaN or Inf found in input tensor.\n",
            "WARNING:root:NaN or Inf found in input tensor.\n"
          ],
          "name": "stderr"
        },
        {
          "output_type": "stream",
          "text": [
            "AAPL\n",
            "pnl: 0.00\n",
            "2015-04-27 00:00:00\n",
            "AAPL\n",
            "pnl: 0.00\n",
            "2015-04-28 00:00:00\n"
          ],
          "name": "stdout"
        },
        {
          "output_type": "stream",
          "text": [
            "WARNING:root:NaN or Inf found in input tensor.\n",
            "WARNING:root:NaN or Inf found in input tensor.\n",
            "WARNING:root:NaN or Inf found in input tensor.\n",
            "WARNING:root:NaN or Inf found in input tensor.\n"
          ],
          "name": "stderr"
        },
        {
          "output_type": "stream",
          "text": [
            "AAPL\n",
            "pnl: 0.00\n",
            "2015-04-29 00:00:00\n",
            "AAPL\n",
            "pnl: 0.00\n",
            "2015-04-30 00:00:00\n"
          ],
          "name": "stdout"
        },
        {
          "output_type": "stream",
          "text": [
            "WARNING:root:NaN or Inf found in input tensor.\n",
            "WARNING:root:NaN or Inf found in input tensor.\n",
            "WARNING:root:NaN or Inf found in input tensor.\n",
            "WARNING:root:NaN or Inf found in input tensor.\n"
          ],
          "name": "stderr"
        },
        {
          "output_type": "stream",
          "text": [
            "AAPL\n",
            "pnl: 0.00\n",
            "2015-05-01 00:00:00\n",
            "AAPL\n",
            "pnl: 0.00\n",
            "2015-05-04 00:00:00\n"
          ],
          "name": "stdout"
        },
        {
          "output_type": "stream",
          "text": [
            "WARNING:root:NaN or Inf found in input tensor.\n",
            "WARNING:root:NaN or Inf found in input tensor.\n",
            "WARNING:root:NaN or Inf found in input tensor.\n",
            "WARNING:root:NaN or Inf found in input tensor.\n"
          ],
          "name": "stderr"
        },
        {
          "output_type": "stream",
          "text": [
            "AAPL\n",
            "pnl: 0.00\n",
            "2015-05-05 00:00:00\n",
            "AAPL\n",
            "pnl: 0.00\n",
            "2015-05-06 00:00:00\n"
          ],
          "name": "stdout"
        },
        {
          "output_type": "stream",
          "text": [
            "WARNING:root:NaN or Inf found in input tensor.\n",
            "WARNING:root:NaN or Inf found in input tensor.\n",
            "WARNING:root:NaN or Inf found in input tensor.\n",
            "WARNING:root:NaN or Inf found in input tensor.\n"
          ],
          "name": "stderr"
        },
        {
          "output_type": "stream",
          "text": [
            "AAPL\n",
            "pnl: 0.00\n",
            "2015-05-07 00:00:00\n",
            "AAPL\n",
            "pnl: 0.00\n",
            "2015-05-08 00:00:00\n",
            "AAPL\n",
            "pnl: 0.00\n"
          ],
          "name": "stdout"
        },
        {
          "output_type": "stream",
          "text": [
            "WARNING:root:NaN or Inf found in input tensor.\n",
            "WARNING:root:NaN or Inf found in input tensor.\n",
            "WARNING:root:NaN or Inf found in input tensor.\n",
            "WARNING:root:NaN or Inf found in input tensor.\n"
          ],
          "name": "stderr"
        },
        {
          "output_type": "stream",
          "text": [
            "2015-05-11 00:00:00\n",
            "AAPL\n",
            "pnl: 0.00\n",
            "2015-05-12 00:00:00\n",
            "AAPL\n",
            "pnl: 0.00\n"
          ],
          "name": "stdout"
        },
        {
          "output_type": "stream",
          "text": [
            "WARNING:root:NaN or Inf found in input tensor.\n",
            "WARNING:root:NaN or Inf found in input tensor.\n",
            "WARNING:root:NaN or Inf found in input tensor.\n",
            "WARNING:root:NaN or Inf found in input tensor.\n",
            "WARNING:root:NaN or Inf found in input tensor.\n"
          ],
          "name": "stderr"
        },
        {
          "output_type": "stream",
          "text": [
            "2015-05-13 00:00:00\n",
            "AAPL\n",
            "pnl: 0.00\n",
            "2015-05-14 00:00:00\n",
            "AAPL\n",
            "pnl: 0.00\n"
          ],
          "name": "stdout"
        },
        {
          "output_type": "stream",
          "text": [
            "WARNING:root:NaN or Inf found in input tensor.\n",
            "WARNING:root:NaN or Inf found in input tensor.\n",
            "WARNING:root:NaN or Inf found in input tensor.\n"
          ],
          "name": "stderr"
        },
        {
          "output_type": "stream",
          "text": [
            "2015-05-15 00:00:00\n",
            "AAPL\n",
            "pnl: 0.00\n",
            "2015-05-18 00:00:00\n",
            "AAPL\n",
            "pnl: 0.00\n"
          ],
          "name": "stdout"
        },
        {
          "output_type": "stream",
          "text": [
            "WARNING:root:NaN or Inf found in input tensor.\n",
            "WARNING:root:NaN or Inf found in input tensor.\n",
            "WARNING:root:NaN or Inf found in input tensor.\n",
            "WARNING:root:NaN or Inf found in input tensor.\n"
          ],
          "name": "stderr"
        },
        {
          "output_type": "stream",
          "text": [
            "2015-05-19 00:00:00\n",
            "AAPL\n",
            "pnl: 0.00\n",
            "2015-05-20 00:00:00\n",
            "AAPL\n",
            "pnl: 0.00\n"
          ],
          "name": "stdout"
        },
        {
          "output_type": "stream",
          "text": [
            "WARNING:root:NaN or Inf found in input tensor.\n",
            "WARNING:root:NaN or Inf found in input tensor.\n",
            "WARNING:root:NaN or Inf found in input tensor.\n",
            "WARNING:root:NaN or Inf found in input tensor.\n"
          ],
          "name": "stderr"
        },
        {
          "output_type": "stream",
          "text": [
            "2015-05-21 00:00:00\n",
            "AAPL\n",
            "pnl: 0.00\n",
            "2015-05-22 00:00:00\n",
            "AAPL\n",
            "pnl: 0.00\n"
          ],
          "name": "stdout"
        },
        {
          "output_type": "stream",
          "text": [
            "WARNING:root:NaN or Inf found in input tensor.\n",
            "WARNING:root:NaN or Inf found in input tensor.\n",
            "WARNING:root:NaN or Inf found in input tensor.\n",
            "WARNING:root:NaN or Inf found in input tensor.\n"
          ],
          "name": "stderr"
        },
        {
          "output_type": "stream",
          "text": [
            "2015-05-25 00:00:00\n",
            "AAPL\n",
            "pnl: 0.00\n",
            "2015-05-26 00:00:00\n",
            "AAPL\n",
            "pnl: 0.00\n"
          ],
          "name": "stdout"
        },
        {
          "output_type": "stream",
          "text": [
            "WARNING:root:NaN or Inf found in input tensor.\n",
            "WARNING:root:NaN or Inf found in input tensor.\n",
            "WARNING:root:NaN or Inf found in input tensor.\n",
            "WARNING:root:NaN or Inf found in input tensor.\n"
          ],
          "name": "stderr"
        },
        {
          "output_type": "stream",
          "text": [
            "2015-05-27 00:00:00\n",
            "AAPL\n",
            "pnl: 0.00\n",
            "2015-05-28 00:00:00\n",
            "AAPL\n",
            "pnl: 0.00\n"
          ],
          "name": "stdout"
        },
        {
          "output_type": "stream",
          "text": [
            "WARNING:root:NaN or Inf found in input tensor.\n",
            "WARNING:root:NaN or Inf found in input tensor.\n",
            "WARNING:root:NaN or Inf found in input tensor.\n",
            "WARNING:root:NaN or Inf found in input tensor.\n"
          ],
          "name": "stderr"
        },
        {
          "output_type": "stream",
          "text": [
            "2015-05-29 00:00:00\n",
            "AAPL\n",
            "pnl: 0.00\n",
            "2015-06-01 00:00:00\n",
            "AAPL\n",
            "pnl: 0.00\n"
          ],
          "name": "stdout"
        },
        {
          "output_type": "stream",
          "text": [
            "WARNING:root:NaN or Inf found in input tensor.\n",
            "WARNING:root:NaN or Inf found in input tensor.\n",
            "WARNING:root:NaN or Inf found in input tensor.\n",
            "WARNING:root:NaN or Inf found in input tensor.\n"
          ],
          "name": "stderr"
        },
        {
          "output_type": "stream",
          "text": [
            "2015-06-02 00:00:00\n",
            "AAPL\n",
            "pnl: 0.00\n",
            "2015-06-03 00:00:00\n",
            "AAPL\n",
            "pnl: 0.00\n"
          ],
          "name": "stdout"
        },
        {
          "output_type": "stream",
          "text": [
            "WARNING:root:NaN or Inf found in input tensor.\n",
            "WARNING:root:NaN or Inf found in input tensor.\n",
            "WARNING:root:NaN or Inf found in input tensor.\n",
            "WARNING:root:NaN or Inf found in input tensor.\n"
          ],
          "name": "stderr"
        },
        {
          "output_type": "stream",
          "text": [
            "2015-06-04 00:00:00\n",
            "AAPL\n",
            "pnl: 0.00\n",
            "2015-06-05 00:00:00\n",
            "AAPL\n",
            "pnl: 0.00\n"
          ],
          "name": "stdout"
        },
        {
          "output_type": "stream",
          "text": [
            "WARNING:root:NaN or Inf found in input tensor.\n",
            "WARNING:root:NaN or Inf found in input tensor.\n",
            "WARNING:root:NaN or Inf found in input tensor.\n",
            "WARNING:root:NaN or Inf found in input tensor.\n",
            "WARNING:root:NaN or Inf found in input tensor.\n",
            "WARNING:root:NaN or Inf found in input tensor.\n"
          ],
          "name": "stderr"
        },
        {
          "output_type": "stream",
          "text": [
            "2015-06-08 00:00:00\n",
            "AAPL\n",
            "pnl: 0.00\n",
            "2015-06-09 00:00:00\n",
            "AAPL\n",
            "pnl: 0.00\n",
            "2015-06-10 00:00:00"
          ],
          "name": "stdout"
        },
        {
          "output_type": "stream",
          "text": [
            "WARNING:root:NaN or Inf found in input tensor.\n",
            "WARNING:root:NaN or Inf found in input tensor.\n"
          ],
          "name": "stderr"
        },
        {
          "output_type": "stream",
          "text": [
            "\n",
            "AAPL\n",
            "pnl: 0.00\n",
            "2015-06-11 00:00:00\n",
            "AAPL\n",
            "pnl: 0.00\n"
          ],
          "name": "stdout"
        },
        {
          "output_type": "stream",
          "text": [
            "WARNING:root:NaN or Inf found in input tensor.\n",
            "WARNING:root:NaN or Inf found in input tensor.\n",
            "WARNING:root:NaN or Inf found in input tensor.\n",
            "WARNING:root:NaN or Inf found in input tensor.\n"
          ],
          "name": "stderr"
        },
        {
          "output_type": "stream",
          "text": [
            "2015-06-12 00:00:00\n",
            "AAPL\n",
            "pnl: 0.00\n",
            "2015-06-15 00:00:00\n",
            "AAPL\n",
            "pnl: 0.00\n"
          ],
          "name": "stdout"
        },
        {
          "output_type": "stream",
          "text": [
            "WARNING:root:NaN or Inf found in input tensor.\n",
            "WARNING:root:NaN or Inf found in input tensor.\n",
            "WARNING:root:NaN or Inf found in input tensor.\n",
            "WARNING:root:NaN or Inf found in input tensor.\n",
            "WARNING:root:NaN or Inf found in input tensor.\n"
          ],
          "name": "stderr"
        },
        {
          "output_type": "stream",
          "text": [
            "2015-06-16 00:00:00\n",
            "AAPL\n",
            "pnl: 0.00\n",
            "2015-06-17 00:00:00\n",
            "AAPL\n",
            "pnl: 0.00\n"
          ],
          "name": "stdout"
        },
        {
          "output_type": "stream",
          "text": [
            "WARNING:root:NaN or Inf found in input tensor.\n",
            "WARNING:root:NaN or Inf found in input tensor.\n",
            "WARNING:root:NaN or Inf found in input tensor.\n",
            "WARNING:root:NaN or Inf found in input tensor.\n"
          ],
          "name": "stderr"
        },
        {
          "output_type": "stream",
          "text": [
            "2015-06-18 00:00:00\n",
            "AAPL\n",
            "pnl: 0.00\n",
            "2015-06-19 00:00:00\n",
            "AAPL\n",
            "pnl: 0.00\n"
          ],
          "name": "stdout"
        },
        {
          "output_type": "stream",
          "text": [
            "WARNING:root:NaN or Inf found in input tensor.\n",
            "WARNING:root:NaN or Inf found in input tensor.\n",
            "WARNING:root:NaN or Inf found in input tensor.\n"
          ],
          "name": "stderr"
        },
        {
          "output_type": "stream",
          "text": [
            "2015-06-22 00:00:00\n",
            "AAPL\n",
            "pnl: 0.00\n",
            "2015-06-23 00:00:00\n",
            "AAPL\n",
            "pnl: 0.00\n"
          ],
          "name": "stdout"
        },
        {
          "output_type": "stream",
          "text": [
            "WARNING:root:NaN or Inf found in input tensor.\n",
            "WARNING:root:NaN or Inf found in input tensor.\n",
            "WARNING:root:NaN or Inf found in input tensor.\n",
            "WARNING:root:NaN or Inf found in input tensor.\n",
            "WARNING:root:NaN or Inf found in input tensor.\n"
          ],
          "name": "stderr"
        },
        {
          "output_type": "stream",
          "text": [
            "2015-06-24 00:00:00\n",
            "AAPL\n",
            "pnl: 0.00\n",
            "2015-06-25 00:00:00\n",
            "AAPL\n",
            "pnl: 0.00\n"
          ],
          "name": "stdout"
        },
        {
          "output_type": "stream",
          "text": [
            "WARNING:root:NaN or Inf found in input tensor.\n",
            "WARNING:root:NaN or Inf found in input tensor.\n",
            "WARNING:root:NaN or Inf found in input tensor.\n"
          ],
          "name": "stderr"
        },
        {
          "output_type": "stream",
          "text": [
            "2015-06-26 00:00:00\n",
            "AAPL\n",
            "pnl: 0.00\n",
            "2015-06-29 00:00:00\n",
            "AAPL\n",
            "pnl: 0.00\n"
          ],
          "name": "stdout"
        },
        {
          "output_type": "stream",
          "text": [
            "WARNING:root:NaN or Inf found in input tensor.\n",
            "WARNING:root:NaN or Inf found in input tensor.\n",
            "WARNING:root:NaN or Inf found in input tensor.\n",
            "WARNING:root:NaN or Inf found in input tensor.\n",
            "WARNING:root:NaN or Inf found in input tensor.\n"
          ],
          "name": "stderr"
        },
        {
          "output_type": "stream",
          "text": [
            "2015-06-30 00:00:00\n",
            "AAPL\n",
            "pnl: 0.00\n",
            "2015-07-01 00:00:00\n",
            "AAPL\n",
            "pnl: 0.00\n"
          ],
          "name": "stdout"
        },
        {
          "output_type": "stream",
          "text": [
            "WARNING:root:NaN or Inf found in input tensor.\n",
            "WARNING:root:NaN or Inf found in input tensor.\n",
            "WARNING:root:NaN or Inf found in input tensor.\n",
            "WARNING:root:NaN or Inf found in input tensor.\n",
            "WARNING:root:NaN or Inf found in input tensor.\n"
          ],
          "name": "stderr"
        },
        {
          "output_type": "stream",
          "text": [
            "2015-07-02 00:00:00\n",
            "AAPL\n",
            "pnl: 0.00\n",
            "2015-07-03 00:00:00\n",
            "AAPL\n",
            "pnl: 0.00\n"
          ],
          "name": "stdout"
        },
        {
          "output_type": "stream",
          "text": [
            "WARNING:root:NaN or Inf found in input tensor.\n",
            "WARNING:root:NaN or Inf found in input tensor.\n"
          ],
          "name": "stderr"
        },
        {
          "output_type": "stream",
          "text": [
            "2015-07-06 00:00:00\n",
            "AAPL\n",
            "pnl: 0.00\n",
            "2015-07-07 00:00:00\n",
            "AAPL\n",
            "pnl: 0.00\n"
          ],
          "name": "stdout"
        },
        {
          "output_type": "stream",
          "text": [
            "WARNING:root:NaN or Inf found in input tensor.\n",
            "WARNING:root:NaN or Inf found in input tensor.\n",
            "WARNING:root:NaN or Inf found in input tensor.\n",
            "WARNING:root:NaN or Inf found in input tensor.\n"
          ],
          "name": "stderr"
        },
        {
          "output_type": "stream",
          "text": [
            "2015-07-08 00:00:00\n",
            "AAPL\n",
            "pnl: 0.00\n",
            "2015-07-09 00:00:00\n",
            "AAPL\n",
            "pnl: 0.00\n"
          ],
          "name": "stdout"
        },
        {
          "output_type": "stream",
          "text": [
            "WARNING:root:NaN or Inf found in input tensor.\n",
            "WARNING:root:NaN or Inf found in input tensor.\n",
            "WARNING:root:NaN or Inf found in input tensor.\n",
            "WARNING:root:NaN or Inf found in input tensor.\n"
          ],
          "name": "stderr"
        },
        {
          "output_type": "stream",
          "text": [
            "2015-07-10 00:00:00\n",
            "AAPL\n",
            "pnl: 0.00\n",
            "2015-07-13 00:00:00\n",
            "AAPL\n",
            "pnl: 0.00\n"
          ],
          "name": "stdout"
        },
        {
          "output_type": "stream",
          "text": [
            "WARNING:root:NaN or Inf found in input tensor.\n",
            "WARNING:root:NaN or Inf found in input tensor.\n",
            "WARNING:root:NaN or Inf found in input tensor.\n",
            "WARNING:root:NaN or Inf found in input tensor.\n",
            "WARNING:root:NaN or Inf found in input tensor.\n",
            "WARNING:root:NaN or Inf found in input tensor.\n"
          ],
          "name": "stderr"
        },
        {
          "output_type": "stream",
          "text": [
            "2015-07-14 00:00:00\n",
            "AAPL\n",
            "pnl: 0.00\n",
            "2015-07-15 00:00:00\n",
            "AAPL\n",
            "pnl: 0.00\n",
            "2015-07-16 00:00:00\n"
          ],
          "name": "stdout"
        },
        {
          "output_type": "stream",
          "text": [
            "WARNING:root:NaN or Inf found in input tensor.\n",
            "WARNING:root:NaN or Inf found in input tensor.\n",
            "WARNING:root:NaN or Inf found in input tensor.\n",
            "WARNING:root:NaN or Inf found in input tensor.\n"
          ],
          "name": "stderr"
        },
        {
          "output_type": "stream",
          "text": [
            "AAPL\n",
            "pnl: 0.00\n",
            "2015-07-17 00:00:00\n",
            "AAPL\n",
            "pnl: 0.00\n",
            "2015-07-20 00:00:00\n",
            "AAPL\n",
            "pnl: 0.00\n"
          ],
          "name": "stdout"
        },
        {
          "output_type": "stream",
          "text": [
            "WARNING:root:NaN or Inf found in input tensor.\n",
            "WARNING:root:NaN or Inf found in input tensor.\n",
            "WARNING:root:NaN or Inf found in input tensor.\n",
            "WARNING:root:NaN or Inf found in input tensor.\n",
            "WARNING:root:NaN or Inf found in input tensor.\n",
            "WARNING:root:NaN or Inf found in input tensor.\n"
          ],
          "name": "stderr"
        },
        {
          "output_type": "stream",
          "text": [
            "2015-07-21 00:00:00\n",
            "AAPL\n",
            "pnl: 0.00\n",
            "2015-07-22 00:00:00\n",
            "AAPL\n",
            "pnl: 0.00\n",
            "2015-07-23 00:00:00\n"
          ],
          "name": "stdout"
        },
        {
          "output_type": "stream",
          "text": [
            "WARNING:root:NaN or Inf found in input tensor.\n",
            "WARNING:root:NaN or Inf found in input tensor.\n",
            "WARNING:root:NaN or Inf found in input tensor.\n",
            "WARNING:root:NaN or Inf found in input tensor.\n"
          ],
          "name": "stderr"
        },
        {
          "output_type": "stream",
          "text": [
            "AAPL\n",
            "pnl: 0.00\n",
            "2015-07-24 00:00:00\n",
            "AAPL\n",
            "pnl: 0.00\n",
            "2015-07-27 00:00:00\n"
          ],
          "name": "stdout"
        },
        {
          "output_type": "stream",
          "text": [
            "WARNING:root:NaN or Inf found in input tensor.\n",
            "WARNING:root:NaN or Inf found in input tensor.\n",
            "WARNING:root:NaN or Inf found in input tensor.\n",
            "WARNING:root:NaN or Inf found in input tensor.\n"
          ],
          "name": "stderr"
        },
        {
          "output_type": "stream",
          "text": [
            "AAPL\n",
            "pnl: 0.00\n",
            "2015-07-28 00:00:00\n",
            "AAPL\n",
            "pnl: 0.00\n",
            "2015-07-29 00:00:00\n"
          ],
          "name": "stdout"
        },
        {
          "output_type": "stream",
          "text": [
            "WARNING:root:NaN or Inf found in input tensor.\n",
            "WARNING:root:NaN or Inf found in input tensor.\n",
            "WARNING:root:NaN or Inf found in input tensor.\n",
            "WARNING:root:NaN or Inf found in input tensor.\n"
          ],
          "name": "stderr"
        },
        {
          "output_type": "stream",
          "text": [
            "AAPL\n",
            "pnl: 0.00\n",
            "2015-07-30 00:00:00\n",
            "AAPL\n",
            "pnl: 0.00\n"
          ],
          "name": "stdout"
        },
        {
          "output_type": "stream",
          "text": [
            "WARNING:root:NaN or Inf found in input tensor.\n",
            "WARNING:root:NaN or Inf found in input tensor.\n",
            "WARNING:root:NaN or Inf found in input tensor.\n",
            "WARNING:root:NaN or Inf found in input tensor.\n"
          ],
          "name": "stderr"
        },
        {
          "output_type": "stream",
          "text": [
            "2015-07-31 00:00:00\n",
            "AAPL\n",
            "pnl: 0.00\n",
            "2015-08-03 00:00:00\n",
            "AAPL\n",
            "pnl: 0.00\n",
            "2015-08-04 00:00:00\n"
          ],
          "name": "stdout"
        },
        {
          "output_type": "stream",
          "text": [
            "WARNING:root:NaN or Inf found in input tensor.\n",
            "WARNING:root:NaN or Inf found in input tensor.\n",
            "WARNING:root:NaN or Inf found in input tensor.\n",
            "WARNING:root:NaN or Inf found in input tensor.\n"
          ],
          "name": "stderr"
        },
        {
          "output_type": "stream",
          "text": [
            "AAPL\n",
            "pnl: 0.00\n",
            "2015-08-05 00:00:00\n",
            "AAPL\n",
            "pnl: 0.00\n",
            "2015-08-06 00:00:00\n"
          ],
          "name": "stdout"
        },
        {
          "output_type": "stream",
          "text": [
            "WARNING:root:NaN or Inf found in input tensor.\n",
            "WARNING:root:NaN or Inf found in input tensor.\n",
            "WARNING:root:NaN or Inf found in input tensor.\n",
            "WARNING:root:NaN or Inf found in input tensor.\n"
          ],
          "name": "stderr"
        },
        {
          "output_type": "stream",
          "text": [
            "AAPL\n",
            "pnl: 0.00\n",
            "2015-08-07 00:00:00\n",
            "AAPL\n",
            "pnl: 0.00\n",
            "2015-08-10 00:00:00\n",
            "AAPL\n",
            "pnl: 0.00\n"
          ],
          "name": "stdout"
        },
        {
          "output_type": "stream",
          "text": [
            "WARNING:root:NaN or Inf found in input tensor.\n",
            "WARNING:root:NaN or Inf found in input tensor.\n",
            "WARNING:root:NaN or Inf found in input tensor.\n",
            "WARNING:root:NaN or Inf found in input tensor.\n"
          ],
          "name": "stderr"
        },
        {
          "output_type": "stream",
          "text": [
            "2015-08-11 00:00:00\n",
            "AAPL\n",
            "pnl: 0.00\n",
            "2015-08-12 00:00:00\n",
            "AAPL\n",
            "pnl: 0.00\n"
          ],
          "name": "stdout"
        },
        {
          "output_type": "stream",
          "text": [
            "WARNING:root:NaN or Inf found in input tensor.\n",
            "WARNING:root:NaN or Inf found in input tensor.\n",
            "WARNING:root:NaN or Inf found in input tensor.\n",
            "WARNING:root:NaN or Inf found in input tensor.\n"
          ],
          "name": "stderr"
        },
        {
          "output_type": "stream",
          "text": [
            "2015-08-13 00:00:00\n",
            "AAPL\n",
            "pnl: 0.00\n",
            "2015-08-14 00:00:00\n",
            "AAPL\n",
            "pnl: 0.00\n"
          ],
          "name": "stdout"
        },
        {
          "output_type": "stream",
          "text": [
            "WARNING:root:NaN or Inf found in input tensor.\n",
            "WARNING:root:NaN or Inf found in input tensor.\n",
            "WARNING:root:NaN or Inf found in input tensor.\n",
            "WARNING:root:NaN or Inf found in input tensor.\n"
          ],
          "name": "stderr"
        },
        {
          "output_type": "stream",
          "text": [
            "2015-08-17 00:00:00\n",
            "AAPL\n",
            "pnl: 0.00\n",
            "2015-08-18 00:00:00\n",
            "AAPL\n",
            "pnl: 0.00\n"
          ],
          "name": "stdout"
        },
        {
          "output_type": "stream",
          "text": [
            "WARNING:root:NaN or Inf found in input tensor.\n",
            "WARNING:root:NaN or Inf found in input tensor.\n",
            "WARNING:root:NaN or Inf found in input tensor.\n",
            "WARNING:root:NaN or Inf found in input tensor.\n"
          ],
          "name": "stderr"
        },
        {
          "output_type": "stream",
          "text": [
            "2015-08-19 00:00:00\n",
            "AAPL\n",
            "pnl: 0.00\n",
            "2015-08-20 00:00:00\n",
            "AAPL\n",
            "pnl: 0.00\n"
          ],
          "name": "stdout"
        },
        {
          "output_type": "stream",
          "text": [
            "WARNING:root:NaN or Inf found in input tensor.\n",
            "WARNING:root:NaN or Inf found in input tensor.\n",
            "WARNING:root:NaN or Inf found in input tensor.\n",
            "WARNING:root:NaN or Inf found in input tensor.\n",
            "WARNING:root:NaN or Inf found in input tensor.\n"
          ],
          "name": "stderr"
        },
        {
          "output_type": "stream",
          "text": [
            "2015-08-21 00:00:00\n",
            "AAPL\n",
            "pnl: 0.00\n",
            "2015-08-24 00:00:00\n",
            "AAPL\n",
            "pnl: 0.00\n"
          ],
          "name": "stdout"
        },
        {
          "output_type": "stream",
          "text": [
            "WARNING:root:NaN or Inf found in input tensor.\n",
            "WARNING:root:NaN or Inf found in input tensor.\n",
            "WARNING:root:NaN or Inf found in input tensor.\n"
          ],
          "name": "stderr"
        },
        {
          "output_type": "stream",
          "text": [
            "2015-08-25 00:00:00\n",
            "AAPL\n",
            "pnl: 0.00\n",
            "2015-08-26 00:00:00\n",
            "AAPL\n",
            "pnl: 0.00\n"
          ],
          "name": "stdout"
        },
        {
          "output_type": "stream",
          "text": [
            "WARNING:root:NaN or Inf found in input tensor.\n",
            "WARNING:root:NaN or Inf found in input tensor.\n",
            "WARNING:root:NaN or Inf found in input tensor.\n",
            "WARNING:root:NaN or Inf found in input tensor.\n"
          ],
          "name": "stderr"
        },
        {
          "output_type": "stream",
          "text": [
            "2015-08-27 00:00:00\n",
            "AAPL\n",
            "pnl: 0.00\n",
            "2015-08-28 00:00:00\n",
            "AAPL\n",
            "pnl: 0.00\n"
          ],
          "name": "stdout"
        },
        {
          "output_type": "stream",
          "text": [
            "WARNING:root:NaN or Inf found in input tensor.\n",
            "WARNING:root:NaN or Inf found in input tensor.\n",
            "WARNING:root:NaN or Inf found in input tensor.\n",
            "WARNING:root:NaN or Inf found in input tensor.\n"
          ],
          "name": "stderr"
        },
        {
          "output_type": "stream",
          "text": [
            "2015-08-31 00:00:00\n",
            "AAPL\n",
            "pnl: 0.00\n",
            "2015-09-01 00:00:00\n",
            "AAPL\n",
            "pnl: 0.00\n"
          ],
          "name": "stdout"
        },
        {
          "output_type": "stream",
          "text": [
            "WARNING:root:NaN or Inf found in input tensor.\n",
            "WARNING:root:NaN or Inf found in input tensor.\n",
            "WARNING:root:NaN or Inf found in input tensor.\n",
            "WARNING:root:NaN or Inf found in input tensor.\n"
          ],
          "name": "stderr"
        },
        {
          "output_type": "stream",
          "text": [
            "2015-09-02 00:00:00\n",
            "AAPL\n",
            "pnl: 0.00\n",
            "2015-09-03 00:00:00\n",
            "AAPL\n",
            "pnl: 0.00\n"
          ],
          "name": "stdout"
        },
        {
          "output_type": "stream",
          "text": [
            "WARNING:root:NaN or Inf found in input tensor.\n",
            "WARNING:root:NaN or Inf found in input tensor.\n",
            "WARNING:root:NaN or Inf found in input tensor.\n",
            "WARNING:root:NaN or Inf found in input tensor.\n",
            "WARNING:root:NaN or Inf found in input tensor.\n"
          ],
          "name": "stderr"
        },
        {
          "output_type": "stream",
          "text": [
            "2015-09-04 00:00:00\n",
            "AAPL\n",
            "pnl: 0.00\n",
            "2015-09-07 00:00:00\n",
            "AAPL\n",
            "pnl: 0.00\n"
          ],
          "name": "stdout"
        },
        {
          "output_type": "stream",
          "text": [
            "WARNING:root:NaN or Inf found in input tensor.\n",
            "WARNING:root:NaN or Inf found in input tensor.\n",
            "WARNING:root:NaN or Inf found in input tensor.\n"
          ],
          "name": "stderr"
        },
        {
          "output_type": "stream",
          "text": [
            "2015-09-08 00:00:00\n",
            "AAPL\n",
            "pnl: 0.00\n",
            "2015-09-09 00:00:00\n",
            "AAPL\n",
            "pnl: 0.00\n"
          ],
          "name": "stdout"
        },
        {
          "output_type": "stream",
          "text": [
            "WARNING:root:NaN or Inf found in input tensor.\n",
            "WARNING:root:NaN or Inf found in input tensor.\n",
            "WARNING:root:NaN or Inf found in input tensor.\n",
            "WARNING:root:NaN or Inf found in input tensor.\n",
            "WARNING:root:NaN or Inf found in input tensor.\n"
          ],
          "name": "stderr"
        },
        {
          "output_type": "stream",
          "text": [
            "2015-09-10 00:00:00\n",
            "AAPL\n",
            "pnl: 0.00\n",
            "2015-09-11 00:00:00\n",
            "AAPL\n",
            "pnl: 0.00\n"
          ],
          "name": "stdout"
        },
        {
          "output_type": "stream",
          "text": [
            "WARNING:root:NaN or Inf found in input tensor.\n",
            "WARNING:root:NaN or Inf found in input tensor.\n",
            "WARNING:root:NaN or Inf found in input tensor.\n"
          ],
          "name": "stderr"
        },
        {
          "output_type": "stream",
          "text": [
            "2015-09-14 00:00:00\n",
            "AAPL\n",
            "pnl: 0.00\n",
            "2015-09-15 00:00:00\n",
            "AAPL\n",
            "pnl: 0.00\n"
          ],
          "name": "stdout"
        },
        {
          "output_type": "stream",
          "text": [
            "WARNING:root:NaN or Inf found in input tensor.\n",
            "WARNING:root:NaN or Inf found in input tensor.\n",
            "WARNING:root:NaN or Inf found in input tensor.\n",
            "WARNING:root:NaN or Inf found in input tensor.\n"
          ],
          "name": "stderr"
        },
        {
          "output_type": "stream",
          "text": [
            "2015-09-16 00:00:00\n",
            "AAPL\n",
            "pnl: 0.00\n",
            "2015-09-17 00:00:00\n",
            "AAPL\n",
            "pnl: 0.00\n"
          ],
          "name": "stdout"
        },
        {
          "output_type": "stream",
          "text": [
            "WARNING:root:NaN or Inf found in input tensor.\n",
            "WARNING:root:NaN or Inf found in input tensor.\n",
            "WARNING:root:NaN or Inf found in input tensor.\n",
            "WARNING:root:NaN or Inf found in input tensor.\n",
            "WARNING:root:NaN or Inf found in input tensor.\n"
          ],
          "name": "stderr"
        },
        {
          "output_type": "stream",
          "text": [
            "2015-09-18 00:00:00\n",
            "AAPL\n",
            "pnl: 0.00\n",
            "2015-09-21 00:00:00\n",
            "AAPL\n",
            "pnl: 0.00\n"
          ],
          "name": "stdout"
        },
        {
          "output_type": "stream",
          "text": [
            "WARNING:root:NaN or Inf found in input tensor.\n",
            "WARNING:root:NaN or Inf found in input tensor.\n",
            "WARNING:root:NaN or Inf found in input tensor.\n",
            "WARNING:root:NaN or Inf found in input tensor.\n",
            "WARNING:root:NaN or Inf found in input tensor.\n"
          ],
          "name": "stderr"
        },
        {
          "output_type": "stream",
          "text": [
            "2015-09-22 00:00:00\n",
            "AAPL\n",
            "pnl: 0.00\n",
            "2015-09-23 00:00:00\n",
            "AAPL\n",
            "pnl: 0.00\n",
            "2015-09-24 00:00:00\n"
          ],
          "name": "stdout"
        },
        {
          "output_type": "stream",
          "text": [
            "WARNING:root:NaN or Inf found in input tensor.\n",
            "WARNING:root:NaN or Inf found in input tensor.\n",
            "WARNING:root:NaN or Inf found in input tensor.\n",
            "WARNING:root:NaN or Inf found in input tensor.\n"
          ],
          "name": "stderr"
        },
        {
          "output_type": "stream",
          "text": [
            "AAPL\n",
            "pnl: 0.00\n",
            "2015-09-25 00:00:00\n",
            "AAPL\n",
            "pnl: 0.00\n",
            "2015-09-28 00:00:00\n",
            "AAPL\n",
            "pnl: 0.00\n"
          ],
          "name": "stdout"
        },
        {
          "output_type": "stream",
          "text": [
            "WARNING:root:NaN or Inf found in input tensor.\n",
            "WARNING:root:NaN or Inf found in input tensor.\n",
            "WARNING:root:NaN or Inf found in input tensor.\n",
            "WARNING:root:NaN or Inf found in input tensor.\n",
            "WARNING:root:NaN or Inf found in input tensor.\n"
          ],
          "name": "stderr"
        },
        {
          "output_type": "stream",
          "text": [
            "2015-09-29 00:00:00\n",
            "AAPL\n",
            "pnl: 0.00\n",
            "2015-09-30 00:00:00\n",
            "AAPL\n",
            "pnl: 0.00\n"
          ],
          "name": "stdout"
        },
        {
          "output_type": "stream",
          "text": [
            "WARNING:root:NaN or Inf found in input tensor.\n",
            "WARNING:root:NaN or Inf found in input tensor.\n",
            "WARNING:root:NaN or Inf found in input tensor.\n"
          ],
          "name": "stderr"
        },
        {
          "output_type": "stream",
          "text": [
            "2015-10-01 00:00:00\n",
            "AAPL\n",
            "pnl: 0.00\n",
            "2015-10-02 00:00:00\n",
            "AAPL\n",
            "pnl: 0.00\n"
          ],
          "name": "stdout"
        },
        {
          "output_type": "stream",
          "text": [
            "WARNING:root:NaN or Inf found in input tensor.\n",
            "WARNING:root:NaN or Inf found in input tensor.\n",
            "WARNING:root:NaN or Inf found in input tensor.\n",
            "WARNING:root:NaN or Inf found in input tensor.\n"
          ],
          "name": "stderr"
        },
        {
          "output_type": "stream",
          "text": [
            "2015-10-05 00:00:00\n",
            "AAPL\n",
            "pnl: 0.00\n",
            "2015-10-06 00:00:00\n",
            "AAPL\n",
            "pnl: 0.00\n"
          ],
          "name": "stdout"
        },
        {
          "output_type": "stream",
          "text": [
            "WARNING:root:NaN or Inf found in input tensor.\n",
            "WARNING:root:NaN or Inf found in input tensor.\n",
            "WARNING:root:NaN or Inf found in input tensor.\n",
            "WARNING:root:NaN or Inf found in input tensor.\n"
          ],
          "name": "stderr"
        },
        {
          "output_type": "stream",
          "text": [
            "2015-10-07 00:00:00\n",
            "AAPL\n",
            "pnl: 0.00\n",
            "2015-10-08 00:00:00\n",
            "AAPL\n",
            "pnl: 0.00\n"
          ],
          "name": "stdout"
        },
        {
          "output_type": "stream",
          "text": [
            "WARNING:root:NaN or Inf found in input tensor.\n",
            "WARNING:root:NaN or Inf found in input tensor.\n",
            "WARNING:root:NaN or Inf found in input tensor.\n",
            "WARNING:root:NaN or Inf found in input tensor.\n"
          ],
          "name": "stderr"
        },
        {
          "output_type": "stream",
          "text": [
            "2015-10-09 00:00:00\n",
            "AAPL\n",
            "pnl: 0.00\n",
            "2015-10-12 00:00:00\n",
            "AAPL\n",
            "pnl: 0.00\n"
          ],
          "name": "stdout"
        },
        {
          "output_type": "stream",
          "text": [
            "WARNING:root:NaN or Inf found in input tensor.\n",
            "WARNING:root:NaN or Inf found in input tensor.\n",
            "WARNING:root:NaN or Inf found in input tensor.\n",
            "WARNING:root:NaN or Inf found in input tensor.\n"
          ],
          "name": "stderr"
        },
        {
          "output_type": "stream",
          "text": [
            "2015-10-13 00:00:00\n",
            "AAPL\n",
            "pnl: 0.00\n",
            "2015-10-14 00:00:00\n",
            "AAPL\n",
            "pnl: 0.00\n"
          ],
          "name": "stdout"
        },
        {
          "output_type": "stream",
          "text": [
            "WARNING:root:NaN or Inf found in input tensor.\n",
            "WARNING:root:NaN or Inf found in input tensor.\n",
            "WARNING:root:NaN or Inf found in input tensor.\n",
            "WARNING:root:NaN or Inf found in input tensor.\n"
          ],
          "name": "stderr"
        },
        {
          "output_type": "stream",
          "text": [
            "2015-10-15 00:00:00\n",
            "AAPL\n",
            "pnl: 0.00\n",
            "2015-10-16 00:00:00\n",
            "AAPL\n",
            "pnl: 0.00\n"
          ],
          "name": "stdout"
        },
        {
          "output_type": "stream",
          "text": [
            "WARNING:root:NaN or Inf found in input tensor.\n",
            "WARNING:root:NaN or Inf found in input tensor.\n",
            "WARNING:root:NaN or Inf found in input tensor.\n",
            "WARNING:root:NaN or Inf found in input tensor.\n",
            "WARNING:root:NaN or Inf found in input tensor.\n"
          ],
          "name": "stderr"
        },
        {
          "output_type": "stream",
          "text": [
            "2015-10-19 00:00:00\n",
            "AAPL\n",
            "pnl: 0.00\n",
            "2015-10-20 00:00:00\n",
            "AAPL\n",
            "pnl: 0.00\n"
          ],
          "name": "stdout"
        },
        {
          "output_type": "stream",
          "text": [
            "WARNING:root:NaN or Inf found in input tensor.\n",
            "WARNING:root:NaN or Inf found in input tensor.\n",
            "WARNING:root:NaN or Inf found in input tensor.\n",
            "WARNING:root:NaN or Inf found in input tensor.\n",
            "WARNING:root:NaN or Inf found in input tensor.\n"
          ],
          "name": "stderr"
        },
        {
          "output_type": "stream",
          "text": [
            "2015-10-21 00:00:00\n",
            "AAPL\n",
            "pnl: 0.00\n",
            "2015-10-22 00:00:00\n",
            "AAPL\n",
            "pnl: 0.00\n",
            "2015-10-23 00:00:00\n"
          ],
          "name": "stdout"
        },
        {
          "output_type": "stream",
          "text": [
            "WARNING:root:NaN or Inf found in input tensor.\n",
            "WARNING:root:NaN or Inf found in input tensor.\n",
            "WARNING:root:NaN or Inf found in input tensor.\n",
            "WARNING:root:NaN or Inf found in input tensor.\n"
          ],
          "name": "stderr"
        },
        {
          "output_type": "stream",
          "text": [
            "AAPL\n",
            "pnl: 0.00\n",
            "2015-10-26 00:00:00\n",
            "AAPL\n",
            "pnl: 0.00\n"
          ],
          "name": "stdout"
        },
        {
          "output_type": "stream",
          "text": [
            "WARNING:root:NaN or Inf found in input tensor.\n",
            "WARNING:root:NaN or Inf found in input tensor.\n",
            "WARNING:root:NaN or Inf found in input tensor.\n",
            "WARNING:root:NaN or Inf found in input tensor.\n"
          ],
          "name": "stderr"
        },
        {
          "output_type": "stream",
          "text": [
            "2015-10-27 00:00:00\n",
            "AAPL\n",
            "pnl: 0.00\n",
            "2015-10-28 00:00:00\n",
            "AAPL\n",
            "pnl: 0.00\n",
            "2015-10-29 00:00:00\n"
          ],
          "name": "stdout"
        },
        {
          "output_type": "stream",
          "text": [
            "WARNING:root:NaN or Inf found in input tensor.\n",
            "WARNING:root:NaN or Inf found in input tensor.\n",
            "WARNING:root:NaN or Inf found in input tensor.\n",
            "WARNING:root:NaN or Inf found in input tensor.\n"
          ],
          "name": "stderr"
        },
        {
          "output_type": "stream",
          "text": [
            "AAPL\n",
            "pnl: 0.00\n",
            "2015-10-30 00:00:00\n",
            "AAPL\n",
            "pnl: 0.00\n",
            "2015-11-02 00:00:00\n",
            "AAPL\n",
            "pnl: 0.00\n"
          ],
          "name": "stdout"
        },
        {
          "output_type": "stream",
          "text": [
            "WARNING:root:NaN or Inf found in input tensor.\n",
            "WARNING:root:NaN or Inf found in input tensor.\n",
            "WARNING:root:NaN or Inf found in input tensor.\n",
            "WARNING:root:NaN or Inf found in input tensor.\n"
          ],
          "name": "stderr"
        },
        {
          "output_type": "stream",
          "text": [
            "2015-11-03 00:00:00\n",
            "AAPL\n",
            "pnl: 0.00\n",
            "2015-11-04 00:00:00\n",
            "AAPL\n",
            "pnl: 0.00\n"
          ],
          "name": "stdout"
        },
        {
          "output_type": "stream",
          "text": [
            "WARNING:root:NaN or Inf found in input tensor.\n",
            "WARNING:root:NaN or Inf found in input tensor.\n",
            "WARNING:root:NaN or Inf found in input tensor.\n",
            "WARNING:root:NaN or Inf found in input tensor.\n"
          ],
          "name": "stderr"
        },
        {
          "output_type": "stream",
          "text": [
            "2015-11-05 00:00:00\n",
            "AAPL\n",
            "pnl: 0.00\n",
            "2015-11-06 00:00:00\n",
            "AAPL\n",
            "pnl: 0.00\n"
          ],
          "name": "stdout"
        },
        {
          "output_type": "stream",
          "text": [
            "WARNING:root:NaN or Inf found in input tensor.\n",
            "WARNING:root:NaN or Inf found in input tensor.\n",
            "WARNING:root:NaN or Inf found in input tensor.\n",
            "WARNING:root:NaN or Inf found in input tensor.\n"
          ],
          "name": "stderr"
        },
        {
          "output_type": "stream",
          "text": [
            "2015-11-09 00:00:00\n",
            "AAPL\n",
            "pnl: 0.00\n",
            "2015-11-10 00:00:00\n",
            "AAPL\n",
            "pnl: 0.00\n"
          ],
          "name": "stdout"
        },
        {
          "output_type": "stream",
          "text": [
            "WARNING:root:NaN or Inf found in input tensor.\n",
            "WARNING:root:NaN or Inf found in input tensor.\n",
            "WARNING:root:NaN or Inf found in input tensor.\n",
            "WARNING:root:NaN or Inf found in input tensor.\n"
          ],
          "name": "stderr"
        },
        {
          "output_type": "stream",
          "text": [
            "2015-11-11 00:00:00\n",
            "AAPL\n",
            "pnl: 0.00\n",
            "2015-11-12 00:00:00\n",
            "AAPL\n",
            "pnl: 0.00\n"
          ],
          "name": "stdout"
        },
        {
          "output_type": "stream",
          "text": [
            "WARNING:root:NaN or Inf found in input tensor.\n",
            "WARNING:root:NaN or Inf found in input tensor.\n",
            "WARNING:root:NaN or Inf found in input tensor.\n",
            "WARNING:root:NaN or Inf found in input tensor.\n",
            "WARNING:root:NaN or Inf found in input tensor.\n"
          ],
          "name": "stderr"
        },
        {
          "output_type": "stream",
          "text": [
            "2015-11-13 00:00:00\n",
            "AAPL\n",
            "pnl: 0.00\n",
            "2015-11-16 00:00:00\n",
            "AAPL\n",
            "pnl: 0.00\n"
          ],
          "name": "stdout"
        },
        {
          "output_type": "stream",
          "text": [
            "WARNING:root:NaN or Inf found in input tensor.\n",
            "WARNING:root:NaN or Inf found in input tensor.\n",
            "WARNING:root:NaN or Inf found in input tensor.\n"
          ],
          "name": "stderr"
        },
        {
          "output_type": "stream",
          "text": [
            "2015-11-17 00:00:00\n",
            "AAPL\n",
            "pnl: 0.00\n",
            "2015-11-18 00:00:00\n",
            "AAPL\n",
            "pnl: 0.00\n"
          ],
          "name": "stdout"
        },
        {
          "output_type": "stream",
          "text": [
            "WARNING:root:NaN or Inf found in input tensor.\n",
            "WARNING:root:NaN or Inf found in input tensor.\n",
            "WARNING:root:NaN or Inf found in input tensor.\n",
            "WARNING:root:NaN or Inf found in input tensor.\n"
          ],
          "name": "stderr"
        },
        {
          "output_type": "stream",
          "text": [
            "2015-11-19 00:00:00\n",
            "AAPL\n",
            "pnl: 0.00\n",
            "2015-11-20 00:00:00\n",
            "AAPL\n",
            "pnl: 0.00\n"
          ],
          "name": "stdout"
        },
        {
          "output_type": "stream",
          "text": [
            "WARNING:root:NaN or Inf found in input tensor.\n",
            "WARNING:root:NaN or Inf found in input tensor.\n",
            "WARNING:root:NaN or Inf found in input tensor.\n",
            "WARNING:root:NaN or Inf found in input tensor.\n",
            "WARNING:root:NaN or Inf found in input tensor.\n"
          ],
          "name": "stderr"
        },
        {
          "output_type": "stream",
          "text": [
            "2015-11-23 00:00:00\n",
            "AAPL\n",
            "pnl: 0.00\n",
            "2015-11-24 00:00:00\n",
            "AAPL\n",
            "pnl: 0.00\n"
          ],
          "name": "stdout"
        },
        {
          "output_type": "stream",
          "text": [
            "WARNING:root:NaN or Inf found in input tensor.\n",
            "WARNING:root:NaN or Inf found in input tensor.\n",
            "WARNING:root:NaN or Inf found in input tensor.\n",
            "WARNING:root:NaN or Inf found in input tensor.\n",
            "WARNING:root:NaN or Inf found in input tensor.\n"
          ],
          "name": "stderr"
        },
        {
          "output_type": "stream",
          "text": [
            "2015-11-25 00:00:00\n",
            "AAPL\n",
            "pnl: 0.00\n",
            "2015-11-26 00:00:00\n",
            "AAPL\n",
            "pnl: 0.00\n"
          ],
          "name": "stdout"
        },
        {
          "output_type": "stream",
          "text": [
            "WARNING:root:NaN or Inf found in input tensor.\n",
            "WARNING:root:NaN or Inf found in input tensor.\n",
            "WARNING:root:NaN or Inf found in input tensor.\n",
            "WARNING:root:NaN or Inf found in input tensor.\n"
          ],
          "name": "stderr"
        },
        {
          "output_type": "stream",
          "text": [
            "2015-11-27 00:00:00\n",
            "AAPL\n",
            "pnl: 0.00\n",
            "2015-11-30 00:00:00\n",
            "AAPL\n",
            "pnl: 0.00\n",
            "2015-12-01 00:00:00\n"
          ],
          "name": "stdout"
        },
        {
          "output_type": "stream",
          "text": [
            "WARNING:root:NaN or Inf found in input tensor.\n",
            "WARNING:root:NaN or Inf found in input tensor.\n",
            "WARNING:root:NaN or Inf found in input tensor.\n",
            "WARNING:root:NaN or Inf found in input tensor.\n"
          ],
          "name": "stderr"
        },
        {
          "output_type": "stream",
          "text": [
            "AAPL\n",
            "pnl: 0.00\n",
            "2015-12-02 00:00:00\n",
            "AAPL\n",
            "pnl: 0.00\n",
            "2015-12-03 00:00:00\n",
            "AAPL\n",
            "pnl: 0.00\n"
          ],
          "name": "stdout"
        },
        {
          "output_type": "stream",
          "text": [
            "WARNING:root:NaN or Inf found in input tensor.\n",
            "WARNING:root:NaN or Inf found in input tensor.\n",
            "WARNING:root:NaN or Inf found in input tensor.\n",
            "WARNING:root:NaN or Inf found in input tensor.\n"
          ],
          "name": "stderr"
        },
        {
          "output_type": "stream",
          "text": [
            "2015-12-04 00:00:00\n",
            "AAPL\n",
            "pnl: 0.00\n",
            "2015-12-07 00:00:00\n",
            "AAPL\n",
            "pnl: 0.00\n"
          ],
          "name": "stdout"
        },
        {
          "output_type": "stream",
          "text": [
            "WARNING:root:NaN or Inf found in input tensor.\n",
            "WARNING:root:NaN or Inf found in input tensor.\n",
            "WARNING:root:NaN or Inf found in input tensor.\n",
            "WARNING:root:NaN or Inf found in input tensor.\n"
          ],
          "name": "stderr"
        },
        {
          "output_type": "stream",
          "text": [
            "2015-12-08 00:00:00\n",
            "AAPL\n",
            "pnl: 0.00\n",
            "2015-12-09 00:00:00\n",
            "AAPL\n",
            "pnl: 0.00\n"
          ],
          "name": "stdout"
        },
        {
          "output_type": "stream",
          "text": [
            "WARNING:root:NaN or Inf found in input tensor.\n",
            "WARNING:root:NaN or Inf found in input tensor.\n",
            "WARNING:root:NaN or Inf found in input tensor.\n",
            "WARNING:root:NaN or Inf found in input tensor.\n",
            "WARNING:root:NaN or Inf found in input tensor.\n"
          ],
          "name": "stderr"
        },
        {
          "output_type": "stream",
          "text": [
            "2015-12-10 00:00:00\n",
            "AAPL\n",
            "pnl: 0.00\n",
            "2015-12-11 00:00:00\n",
            "AAPL\n",
            "pnl: 0.00\n"
          ],
          "name": "stdout"
        },
        {
          "output_type": "stream",
          "text": [
            "WARNING:root:NaN or Inf found in input tensor.\n",
            "WARNING:root:NaN or Inf found in input tensor.\n",
            "WARNING:root:NaN or Inf found in input tensor.\n",
            "WARNING:root:NaN or Inf found in input tensor.\n",
            "WARNING:root:NaN or Inf found in input tensor.\n"
          ],
          "name": "stderr"
        },
        {
          "output_type": "stream",
          "text": [
            "2015-12-14 00:00:00\n",
            "AAPL\n",
            "pnl: 0.00\n",
            "2015-12-15 00:00:00\n",
            "AAPL\n",
            "pnl: 0.00\n",
            "2015-12-16 00:00:00\n",
            "AAPL\n",
            "pnl: 0.00\n"
          ],
          "name": "stdout"
        },
        {
          "output_type": "stream",
          "text": [
            "WARNING:root:NaN or Inf found in input tensor.\n",
            "WARNING:root:NaN or Inf found in input tensor.\n",
            "WARNING:root:NaN or Inf found in input tensor.\n",
            "WARNING:root:NaN or Inf found in input tensor.\n"
          ],
          "name": "stderr"
        },
        {
          "output_type": "stream",
          "text": [
            "2015-12-17 00:00:00\n",
            "AAPL\n",
            "pnl: 0.00\n",
            "2015-12-18 00:00:00\n",
            "AAPL\n",
            "pnl: 0.00\n"
          ],
          "name": "stdout"
        },
        {
          "output_type": "stream",
          "text": [
            "WARNING:root:NaN or Inf found in input tensor.\n",
            "WARNING:root:NaN or Inf found in input tensor.\n",
            "WARNING:root:NaN or Inf found in input tensor.\n",
            "WARNING:root:NaN or Inf found in input tensor.\n"
          ],
          "name": "stderr"
        },
        {
          "output_type": "stream",
          "text": [
            "2015-12-21 00:00:00\n",
            "AAPL\n",
            "pnl: 0.00\n",
            "2015-12-22 00:00:00\n",
            "AAPL\n",
            "pnl: 0.00\n"
          ],
          "name": "stdout"
        },
        {
          "output_type": "stream",
          "text": [
            "WARNING:root:NaN or Inf found in input tensor.\n",
            "WARNING:root:NaN or Inf found in input tensor.\n",
            "WARNING:root:NaN or Inf found in input tensor.\n",
            "WARNING:root:NaN or Inf found in input tensor.\n",
            "WARNING:root:NaN or Inf found in input tensor.\n",
            "WARNING:root:NaN or Inf found in input tensor.\n"
          ],
          "name": "stderr"
        },
        {
          "output_type": "stream",
          "text": [
            "2015-12-23 00:00:00\n",
            "AAPL\n",
            "pnl: 0.00\n",
            "2015-12-24 00:00:00\n",
            "AAPL\n",
            "pnl: 0.00\n",
            "2015-12-25 00:00:00\n"
          ],
          "name": "stdout"
        },
        {
          "output_type": "stream",
          "text": [
            "WARNING:root:NaN or Inf found in input tensor.\n",
            "WARNING:root:NaN or Inf found in input tensor.\n",
            "WARNING:root:NaN or Inf found in input tensor.\n",
            "WARNING:root:NaN or Inf found in input tensor.\n"
          ],
          "name": "stderr"
        },
        {
          "output_type": "stream",
          "text": [
            "AAPL\n",
            "pnl: 0.00\n",
            "2015-12-28 00:00:00\n",
            "AAPL\n",
            "pnl: 0.00\n",
            "2015-12-29 00:00:00\n"
          ],
          "name": "stdout"
        },
        {
          "output_type": "stream",
          "text": [
            "WARNING:root:NaN or Inf found in input tensor.\n",
            "WARNING:root:NaN or Inf found in input tensor.\n",
            "WARNING:root:NaN or Inf found in input tensor.\n",
            "WARNING:root:NaN or Inf found in input tensor.\n"
          ],
          "name": "stderr"
        },
        {
          "output_type": "stream",
          "text": [
            "AAPL\n",
            "pnl: 0.00\n",
            "2015-12-30 00:00:00\n",
            "AAPL\n",
            "pnl: 0.00\n",
            "2015-12-31 00:00:00\n"
          ],
          "name": "stdout"
        },
        {
          "output_type": "stream",
          "text": [
            "WARNING:root:NaN or Inf found in input tensor.\n",
            "WARNING:root:NaN or Inf found in input tensor.\n",
            "WARNING:root:NaN or Inf found in input tensor.\n",
            "WARNING:root:NaN or Inf found in input tensor.\n"
          ],
          "name": "stderr"
        },
        {
          "output_type": "stream",
          "text": [
            "AAPL\n",
            "pnl: 0.00\n",
            "2016-01-01 00:00:00\n",
            "AAPL\n",
            "pnl: 0.00\n",
            "2016-01-04 00:00:00\n"
          ],
          "name": "stdout"
        },
        {
          "output_type": "stream",
          "text": [
            "WARNING:root:NaN or Inf found in input tensor.\n",
            "WARNING:root:NaN or Inf found in input tensor.\n",
            "WARNING:root:NaN or Inf found in input tensor.\n",
            "WARNING:root:NaN or Inf found in input tensor.\n"
          ],
          "name": "stderr"
        },
        {
          "output_type": "stream",
          "text": [
            "AAPL\n",
            "pnl: 0.00\n",
            "2016-01-05 00:00:00\n",
            "AAPL\n",
            "pnl: 0.00\n"
          ],
          "name": "stdout"
        },
        {
          "output_type": "stream",
          "text": [
            "WARNING:root:NaN or Inf found in input tensor.\n",
            "WARNING:root:NaN or Inf found in input tensor.\n",
            "WARNING:root:NaN or Inf found in input tensor.\n",
            "WARNING:root:NaN or Inf found in input tensor.\n"
          ],
          "name": "stderr"
        },
        {
          "output_type": "stream",
          "text": [
            "2016-01-06 00:00:00\n",
            "AAPL\n",
            "pnl: 0.00\n",
            "2016-01-07 00:00:00\n",
            "AAPL\n",
            "pnl: 0.00\n",
            "2016-01-08 00:00:00\n"
          ],
          "name": "stdout"
        },
        {
          "output_type": "stream",
          "text": [
            "WARNING:root:NaN or Inf found in input tensor.\n",
            "WARNING:root:NaN or Inf found in input tensor.\n",
            "WARNING:root:NaN or Inf found in input tensor.\n",
            "WARNING:root:NaN or Inf found in input tensor.\n"
          ],
          "name": "stderr"
        },
        {
          "output_type": "stream",
          "text": [
            "AAPL\n",
            "pnl: 0.00\n",
            "2016-01-11 00:00:00\n",
            "AAPL\n",
            "pnl: 0.00\n",
            "2016-01-12 00:00:00\n"
          ],
          "name": "stdout"
        },
        {
          "output_type": "stream",
          "text": [
            "WARNING:root:NaN or Inf found in input tensor.\n",
            "WARNING:root:NaN or Inf found in input tensor.\n",
            "WARNING:root:NaN or Inf found in input tensor.\n",
            "WARNING:root:NaN or Inf found in input tensor.\n",
            "WARNING:root:NaN or Inf found in input tensor.\n"
          ],
          "name": "stderr"
        },
        {
          "output_type": "stream",
          "text": [
            "AAPL\n",
            "pnl: 0.00\n",
            "2016-01-13 00:00:00\n",
            "AAPL\n",
            "pnl: 0.00\n",
            "2016-01-14 00:00:00\n",
            "AAPL\n",
            "pnl: 0.00\n"
          ],
          "name": "stdout"
        },
        {
          "output_type": "stream",
          "text": [
            "WARNING:root:NaN or Inf found in input tensor.\n",
            "WARNING:root:NaN or Inf found in input tensor.\n",
            "WARNING:root:NaN or Inf found in input tensor.\n"
          ],
          "name": "stderr"
        },
        {
          "output_type": "stream",
          "text": [
            "2016-01-15 00:00:00\n",
            "AAPL\n",
            "pnl: 0.00\n",
            "2016-01-18 00:00:00\n",
            "AAPL\n",
            "pnl: 0.00\n"
          ],
          "name": "stdout"
        },
        {
          "output_type": "stream",
          "text": [
            "WARNING:root:NaN or Inf found in input tensor.\n",
            "WARNING:root:NaN or Inf found in input tensor.\n",
            "WARNING:root:NaN or Inf found in input tensor.\n",
            "WARNING:root:NaN or Inf found in input tensor.\n"
          ],
          "name": "stderr"
        },
        {
          "output_type": "stream",
          "text": [
            "2016-01-19 00:00:00\n",
            "AAPL\n",
            "pnl: 0.00\n",
            "2016-01-20 00:00:00\n",
            "AAPL\n",
            "pnl: 0.00\n"
          ],
          "name": "stdout"
        },
        {
          "output_type": "stream",
          "text": [
            "WARNING:root:NaN or Inf found in input tensor.\n",
            "WARNING:root:NaN or Inf found in input tensor.\n",
            "WARNING:root:NaN or Inf found in input tensor.\n",
            "WARNING:root:NaN or Inf found in input tensor.\n",
            "WARNING:root:NaN or Inf found in input tensor.\n"
          ],
          "name": "stderr"
        },
        {
          "output_type": "stream",
          "text": [
            "2016-01-21 00:00:00\n",
            "AAPL\n",
            "pnl: 0.00\n",
            "2016-01-22 00:00:00\n",
            "AAPL\n",
            "pnl: 0.00\n"
          ],
          "name": "stdout"
        },
        {
          "output_type": "stream",
          "text": [
            "WARNING:root:NaN or Inf found in input tensor.\n",
            "WARNING:root:NaN or Inf found in input tensor.\n",
            "WARNING:root:NaN or Inf found in input tensor.\n",
            "WARNING:root:NaN or Inf found in input tensor.\n"
          ],
          "name": "stderr"
        },
        {
          "output_type": "stream",
          "text": [
            "2016-01-25 00:00:00\n",
            "AAPL\n",
            "pnl: 0.00\n",
            "2016-01-26 00:00:00\n",
            "AAPL\n",
            "pnl: 0.00\n"
          ],
          "name": "stdout"
        },
        {
          "output_type": "stream",
          "text": [
            "WARNING:root:NaN or Inf found in input tensor.\n",
            "WARNING:root:NaN or Inf found in input tensor.\n",
            "WARNING:root:NaN or Inf found in input tensor.\n"
          ],
          "name": "stderr"
        },
        {
          "output_type": "stream",
          "text": [
            "2016-01-27 00:00:00\n",
            "AAPL\n",
            "pnl: 0.00\n",
            "2016-01-28 00:00:00\n",
            "AAPL\n",
            "pnl: 0.00\n"
          ],
          "name": "stdout"
        },
        {
          "output_type": "stream",
          "text": [
            "WARNING:root:NaN or Inf found in input tensor.\n",
            "WARNING:root:NaN or Inf found in input tensor.\n",
            "WARNING:root:NaN or Inf found in input tensor.\n",
            "WARNING:root:NaN or Inf found in input tensor.\n"
          ],
          "name": "stderr"
        },
        {
          "output_type": "stream",
          "text": [
            "2016-01-29 00:00:00\n",
            "AAPL\n",
            "pnl: 0.00\n",
            "2016-02-01 00:00:00\n",
            "AAPL\n",
            "pnl: 0.00\n"
          ],
          "name": "stdout"
        },
        {
          "output_type": "stream",
          "text": [
            "WARNING:root:NaN or Inf found in input tensor.\n",
            "WARNING:root:NaN or Inf found in input tensor.\n",
            "WARNING:root:NaN or Inf found in input tensor.\n",
            "WARNING:root:NaN or Inf found in input tensor.\n"
          ],
          "name": "stderr"
        },
        {
          "output_type": "stream",
          "text": [
            "2016-02-02 00:00:00\n",
            "AAPL\n",
            "pnl: 0.00\n",
            "2016-02-03 00:00:00\n",
            "AAPL\n",
            "pnl: 0.00\n"
          ],
          "name": "stdout"
        },
        {
          "output_type": "stream",
          "text": [
            "WARNING:root:NaN or Inf found in input tensor.\n",
            "WARNING:root:NaN or Inf found in input tensor.\n",
            "WARNING:root:NaN or Inf found in input tensor.\n",
            "WARNING:root:NaN or Inf found in input tensor.\n",
            "WARNING:root:NaN or Inf found in input tensor.\n",
            "WARNING:root:NaN or Inf found in input tensor.\n"
          ],
          "name": "stderr"
        },
        {
          "output_type": "stream",
          "text": [
            "2016-02-04 00:00:00\n",
            "AAPL\n",
            "pnl: 0.00\n",
            "2016-02-05 00:00:00\n",
            "AAPL\n",
            "pnl: 0.00\n"
          ],
          "name": "stdout"
        },
        {
          "output_type": "stream",
          "text": [
            "WARNING:root:NaN or Inf found in input tensor.\n",
            "WARNING:root:NaN or Inf found in input tensor.\n"
          ],
          "name": "stderr"
        },
        {
          "output_type": "stream",
          "text": [
            "2016-02-08 00:00:00\n",
            "AAPL\n",
            "pnl: 0.00\n",
            "2016-02-09 00:00:00\n",
            "AAPL\n",
            "pnl: 0.00\n"
          ],
          "name": "stdout"
        },
        {
          "output_type": "stream",
          "text": [
            "WARNING:root:NaN or Inf found in input tensor.\n",
            "WARNING:root:NaN or Inf found in input tensor.\n",
            "WARNING:root:NaN or Inf found in input tensor.\n",
            "WARNING:root:NaN or Inf found in input tensor.\n"
          ],
          "name": "stderr"
        },
        {
          "output_type": "stream",
          "text": [
            "2016-02-10 00:00:00\n",
            "AAPL\n",
            "pnl: 0.00\n",
            "2016-02-11 00:00:00\n",
            "AAPL\n",
            "pnl: 0.00\n"
          ],
          "name": "stdout"
        },
        {
          "output_type": "stream",
          "text": [
            "WARNING:root:NaN or Inf found in input tensor.\n",
            "WARNING:root:NaN or Inf found in input tensor.\n",
            "WARNING:root:NaN or Inf found in input tensor.\n",
            "WARNING:root:NaN or Inf found in input tensor.\n"
          ],
          "name": "stderr"
        },
        {
          "output_type": "stream",
          "text": [
            "2016-02-12 00:00:00\n",
            "AAPL\n",
            "pnl: 0.00\n",
            "2016-02-15 00:00:00\n",
            "AAPL\n",
            "pnl: 0.00\n"
          ],
          "name": "stdout"
        },
        {
          "output_type": "stream",
          "text": [
            "WARNING:root:NaN or Inf found in input tensor.\n",
            "WARNING:root:NaN or Inf found in input tensor.\n",
            "WARNING:root:NaN or Inf found in input tensor.\n",
            "WARNING:root:NaN or Inf found in input tensor.\n",
            "WARNING:root:NaN or Inf found in input tensor.\n"
          ],
          "name": "stderr"
        },
        {
          "output_type": "stream",
          "text": [
            "2016-02-16 00:00:00\n",
            "AAPL\n",
            "pnl: 0.00\n",
            "2016-02-17 00:00:00\n",
            "AAPL\n",
            "pnl: 0.00\n"
          ],
          "name": "stdout"
        },
        {
          "output_type": "stream",
          "text": [
            "WARNING:root:NaN or Inf found in input tensor.\n",
            "WARNING:root:NaN or Inf found in input tensor.\n",
            "WARNING:root:NaN or Inf found in input tensor.\n"
          ],
          "name": "stderr"
        },
        {
          "output_type": "stream",
          "text": [
            "2016-02-18 00:00:00\n",
            "AAPL\n",
            "pnl: 0.00\n",
            "2016-02-19 00:00:00\n",
            "AAPL\n",
            "pnl: 0.00\n"
          ],
          "name": "stdout"
        },
        {
          "output_type": "stream",
          "text": [
            "WARNING:root:NaN or Inf found in input tensor.\n",
            "WARNING:root:NaN or Inf found in input tensor.\n",
            "WARNING:root:NaN or Inf found in input tensor.\n",
            "WARNING:root:NaN or Inf found in input tensor.\n",
            "WARNING:root:NaN or Inf found in input tensor.\n",
            "WARNING:root:NaN or Inf found in input tensor.\n"
          ],
          "name": "stderr"
        },
        {
          "output_type": "stream",
          "text": [
            "2016-02-22 00:00:00\n",
            "AAPL\n",
            "pnl: 0.00\n",
            "2016-02-23 00:00:00\n",
            "AAPL\n",
            "pnl: 0.00\n",
            "2016-02-24 00:00:00\n"
          ],
          "name": "stdout"
        },
        {
          "output_type": "stream",
          "text": [
            "WARNING:root:NaN or Inf found in input tensor.\n",
            "WARNING:root:NaN or Inf found in input tensor.\n",
            "WARNING:root:NaN or Inf found in input tensor.\n",
            "WARNING:root:NaN or Inf found in input tensor.\n"
          ],
          "name": "stderr"
        },
        {
          "output_type": "stream",
          "text": [
            "AAPL\n",
            "pnl: 0.00\n",
            "2016-02-25 00:00:00\n",
            "AAPL\n",
            "pnl: 0.00\n",
            "2016-02-26 00:00:00\n"
          ],
          "name": "stdout"
        },
        {
          "output_type": "stream",
          "text": [
            "WARNING:root:NaN or Inf found in input tensor.\n",
            "WARNING:root:NaN or Inf found in input tensor.\n",
            "WARNING:root:NaN or Inf found in input tensor.\n",
            "WARNING:root:NaN or Inf found in input tensor.\n"
          ],
          "name": "stderr"
        },
        {
          "output_type": "stream",
          "text": [
            "AAPL\n",
            "pnl: 0.00\n",
            "2016-02-29 00:00:00\n",
            "AAPL\n",
            "pnl: 0.00\n",
            "2016-03-01 00:00:00\n"
          ],
          "name": "stdout"
        },
        {
          "output_type": "stream",
          "text": [
            "WARNING:root:NaN or Inf found in input tensor.\n",
            "WARNING:root:NaN or Inf found in input tensor.\n",
            "WARNING:root:NaN or Inf found in input tensor.\n",
            "WARNING:root:NaN or Inf found in input tensor.\n"
          ],
          "name": "stderr"
        },
        {
          "output_type": "stream",
          "text": [
            "AAPL\n",
            "pnl: 0.00\n",
            "2016-03-02 00:00:00\n",
            "AAPL\n",
            "pnl: 0.00\n",
            "2016-03-03 00:00:00"
          ],
          "name": "stdout"
        },
        {
          "output_type": "stream",
          "text": [
            "WARNING:root:NaN or Inf found in input tensor.\n",
            "WARNING:root:NaN or Inf found in input tensor.\n"
          ],
          "name": "stderr"
        },
        {
          "output_type": "stream",
          "text": [
            "\n",
            "AAPL\n",
            "pnl: 0.00\n",
            "2016-03-04 00:00:00\n",
            "AAPL\n",
            "pnl: 0.00\n"
          ],
          "name": "stdout"
        },
        {
          "output_type": "stream",
          "text": [
            "WARNING:root:NaN or Inf found in input tensor.\n",
            "WARNING:root:NaN or Inf found in input tensor.\n",
            "WARNING:root:NaN or Inf found in input tensor.\n",
            "WARNING:root:NaN or Inf found in input tensor.\n"
          ],
          "name": "stderr"
        },
        {
          "output_type": "stream",
          "text": [
            "2016-03-07 00:00:00\n",
            "AAPL\n",
            "pnl: 0.00\n",
            "2016-03-08 00:00:00\n",
            "AAPL\n",
            "pnl: 0.00\n"
          ],
          "name": "stdout"
        },
        {
          "output_type": "stream",
          "text": [
            "WARNING:root:NaN or Inf found in input tensor.\n",
            "WARNING:root:NaN or Inf found in input tensor.\n",
            "WARNING:root:NaN or Inf found in input tensor.\n",
            "WARNING:root:NaN or Inf found in input tensor.\n",
            "WARNING:root:NaN or Inf found in input tensor.\n",
            "WARNING:root:NaN or Inf found in input tensor.\n"
          ],
          "name": "stderr"
        },
        {
          "output_type": "stream",
          "text": [
            "2016-03-09 00:00:00\n",
            "AAPL\n",
            "pnl: 0.00\n",
            "2016-03-10 00:00:00\n",
            "AAPL\n",
            "pnl: 0.00\n"
          ],
          "name": "stdout"
        },
        {
          "output_type": "stream",
          "text": [
            "WARNING:root:NaN or Inf found in input tensor.\n",
            "WARNING:root:NaN or Inf found in input tensor.\n",
            "WARNING:root:NaN or Inf found in input tensor.\n",
            "WARNING:root:NaN or Inf found in input tensor.\n"
          ],
          "name": "stderr"
        },
        {
          "output_type": "stream",
          "text": [
            "2016-03-11 00:00:00\n",
            "AAPL\n",
            "pnl: 0.00\n",
            "2016-03-14 00:00:00\n",
            "AAPL\n",
            "pnl: 0.00\n",
            "2016-03-15 00:00:00\n"
          ],
          "name": "stdout"
        },
        {
          "output_type": "stream",
          "text": [
            "WARNING:root:NaN or Inf found in input tensor.\n",
            "WARNING:root:NaN or Inf found in input tensor.\n",
            "WARNING:root:NaN or Inf found in input tensor.\n",
            "WARNING:root:NaN or Inf found in input tensor.\n"
          ],
          "name": "stderr"
        },
        {
          "output_type": "stream",
          "text": [
            "AAPL\n",
            "pnl: 0.00\n",
            "2016-03-16 00:00:00\n",
            "AAPL\n",
            "pnl: 0.00\n",
            "2016-03-17 00:00:00\n",
            "AAPL\n",
            "pnl: 0.00\n"
          ],
          "name": "stdout"
        },
        {
          "output_type": "stream",
          "text": [
            "WARNING:root:NaN or Inf found in input tensor.\n",
            "WARNING:root:NaN or Inf found in input tensor.\n",
            "WARNING:root:NaN or Inf found in input tensor.\n",
            "WARNING:root:NaN or Inf found in input tensor.\n"
          ],
          "name": "stderr"
        },
        {
          "output_type": "stream",
          "text": [
            "2016-03-18 00:00:00\n",
            "AAPL\n",
            "pnl: 0.00\n",
            "2016-03-21 00:00:00\n",
            "AAPL\n",
            "pnl: 0.00\n"
          ],
          "name": "stdout"
        },
        {
          "output_type": "stream",
          "text": [
            "WARNING:root:NaN or Inf found in input tensor.\n",
            "WARNING:root:NaN or Inf found in input tensor.\n",
            "WARNING:root:NaN or Inf found in input tensor.\n",
            "WARNING:root:NaN or Inf found in input tensor.\n",
            "WARNING:root:NaN or Inf found in input tensor.\n",
            "WARNING:root:NaN or Inf found in input tensor.\n"
          ],
          "name": "stderr"
        },
        {
          "output_type": "stream",
          "text": [
            "2016-03-22 00:00:00\n",
            "AAPL\n",
            "pnl: 0.00\n",
            "2016-03-23 00:00:00\n",
            "AAPL\n",
            "pnl: 0.00\n",
            "2016-03-24 00:00:00\n",
            "AAPL\n",
            "pnl: 0.00\n"
          ],
          "name": "stdout"
        },
        {
          "output_type": "stream",
          "text": [
            "WARNING:root:NaN or Inf found in input tensor.\n",
            "WARNING:root:NaN or Inf found in input tensor.\n",
            "WARNING:root:NaN or Inf found in input tensor.\n",
            "WARNING:root:NaN or Inf found in input tensor.\n"
          ],
          "name": "stderr"
        },
        {
          "output_type": "stream",
          "text": [
            "2016-03-25 00:00:00\n",
            "AAPL\n",
            "pnl: 0.00\n",
            "2016-03-28 00:00:00\n",
            "AAPL\n",
            "pnl: 0.00\n"
          ],
          "name": "stdout"
        },
        {
          "output_type": "stream",
          "text": [
            "WARNING:root:NaN or Inf found in input tensor.\n",
            "WARNING:root:NaN or Inf found in input tensor.\n",
            "WARNING:root:NaN or Inf found in input tensor.\n",
            "WARNING:root:NaN or Inf found in input tensor.\n"
          ],
          "name": "stderr"
        },
        {
          "output_type": "stream",
          "text": [
            "2016-03-29 00:00:00\n",
            "AAPL\n",
            "pnl: 0.00\n",
            "2016-03-30 00:00:00\n",
            "AAPL\n",
            "pnl: 0.00\n"
          ],
          "name": "stdout"
        },
        {
          "output_type": "stream",
          "text": [
            "WARNING:root:NaN or Inf found in input tensor.\n",
            "WARNING:root:NaN or Inf found in input tensor.\n",
            "WARNING:root:NaN or Inf found in input tensor.\n",
            "WARNING:root:NaN or Inf found in input tensor.\n",
            "WARNING:root:NaN or Inf found in input tensor.\n",
            "WARNING:root:NaN or Inf found in input tensor.\n"
          ],
          "name": "stderr"
        },
        {
          "output_type": "stream",
          "text": [
            "2016-03-31 00:00:00\n",
            "AAPL\n",
            "pnl: 0.00\n",
            "2016-04-01 00:00:00\n",
            "AAPL\n",
            "pnl: 0.00\n"
          ],
          "name": "stdout"
        },
        {
          "output_type": "stream",
          "text": [
            "WARNING:root:NaN or Inf found in input tensor.\n",
            "WARNING:root:NaN or Inf found in input tensor.\n"
          ],
          "name": "stderr"
        },
        {
          "output_type": "stream",
          "text": [
            "2016-04-04 00:00:00\n",
            "AAPL\n",
            "pnl: 0.00\n",
            "2016-04-05 00:00:00\n",
            "AAPL\n",
            "pnl: 0.00\n"
          ],
          "name": "stdout"
        },
        {
          "output_type": "stream",
          "text": [
            "WARNING:root:NaN or Inf found in input tensor.\n",
            "WARNING:root:NaN or Inf found in input tensor.\n",
            "WARNING:root:NaN or Inf found in input tensor.\n",
            "WARNING:root:NaN or Inf found in input tensor.\n"
          ],
          "name": "stderr"
        },
        {
          "output_type": "stream",
          "text": [
            "2016-04-06 00:00:00\n",
            "AAPL\n",
            "pnl: 0.00\n",
            "2016-04-07 00:00:00\n",
            "AAPL\n",
            "pnl: 0.00\n"
          ],
          "name": "stdout"
        },
        {
          "output_type": "stream",
          "text": [
            "WARNING:root:NaN or Inf found in input tensor.\n",
            "WARNING:root:NaN or Inf found in input tensor.\n",
            "WARNING:root:NaN or Inf found in input tensor.\n",
            "WARNING:root:NaN or Inf found in input tensor.\n",
            "WARNING:root:NaN or Inf found in input tensor.\n"
          ],
          "name": "stderr"
        },
        {
          "output_type": "stream",
          "text": [
            "2016-04-08 00:00:00\n",
            "AAPL\n",
            "pnl: 0.00\n",
            "2016-04-11 00:00:00\n",
            "AAPL\n",
            "pnl: 0.00\n"
          ],
          "name": "stdout"
        },
        {
          "output_type": "stream",
          "text": [
            "WARNING:root:NaN or Inf found in input tensor.\n",
            "WARNING:root:NaN or Inf found in input tensor.\n",
            "WARNING:root:NaN or Inf found in input tensor.\n",
            "WARNING:root:NaN or Inf found in input tensor.\n",
            "WARNING:root:NaN or Inf found in input tensor.\n"
          ],
          "name": "stderr"
        },
        {
          "output_type": "stream",
          "text": [
            "2016-04-12 00:00:00\n",
            "AAPL\n",
            "pnl: 0.00\n",
            "2016-04-13 00:00:00\n",
            "AAPL\n",
            "pnl: 0.00\n",
            "2016-04-14 00:00:00\n",
            "AAPL\n",
            "pnl: 0.00\n"
          ],
          "name": "stdout"
        },
        {
          "output_type": "stream",
          "text": [
            "WARNING:root:NaN or Inf found in input tensor.\n",
            "WARNING:root:NaN or Inf found in input tensor.\n",
            "WARNING:root:NaN or Inf found in input tensor.\n",
            "WARNING:root:NaN or Inf found in input tensor.\n",
            "WARNING:root:NaN or Inf found in input tensor."
          ],
          "name": "stderr"
        },
        {
          "output_type": "stream",
          "text": [
            "2016-04-15 00:00:00\n",
            "AAPL\n",
            "pnl: 0.00\n",
            "2016-04-18 00:00:00\n",
            "AAPL\n",
            "pnl: 0.00\n"
          ],
          "name": "stdout"
        },
        {
          "output_type": "stream",
          "text": [
            "\n",
            "WARNING:root:NaN or Inf found in input tensor.\n",
            "WARNING:root:NaN or Inf found in input tensor.\n",
            "WARNING:root:NaN or Inf found in input tensor.\n"
          ],
          "name": "stderr"
        },
        {
          "output_type": "stream",
          "text": [
            "2016-04-19 00:00:00\n",
            "AAPL\n",
            "pnl: 0.00\n",
            "2016-04-20 00:00:00\n",
            "AAPL\n",
            "pnl: 0.00\n"
          ],
          "name": "stdout"
        },
        {
          "output_type": "stream",
          "text": [
            "WARNING:root:NaN or Inf found in input tensor.\n",
            "WARNING:root:NaN or Inf found in input tensor.\n",
            "WARNING:root:NaN or Inf found in input tensor.\n",
            "WARNING:root:NaN or Inf found in input tensor.\n",
            "WARNING:root:NaN or Inf found in input tensor.\n"
          ],
          "name": "stderr"
        },
        {
          "output_type": "stream",
          "text": [
            "2016-04-21 00:00:00\n",
            "AAPL\n",
            "pnl: 0.00\n",
            "2016-04-22 00:00:00\n",
            "AAPL\n",
            "pnl: 0.00\n"
          ],
          "name": "stdout"
        },
        {
          "output_type": "stream",
          "text": [
            "WARNING:root:NaN or Inf found in input tensor.\n",
            "WARNING:root:NaN or Inf found in input tensor.\n",
            "WARNING:root:NaN or Inf found in input tensor.\n",
            "WARNING:root:NaN or Inf found in input tensor.\n",
            "WARNING:root:NaN or Inf found in input tensor.\n"
          ],
          "name": "stderr"
        },
        {
          "output_type": "stream",
          "text": [
            "2016-04-25 00:00:00\n",
            "AAPL\n",
            "pnl: 0.00\n",
            "2016-04-26 00:00:00\n",
            "AAPL\n",
            "pnl: 0.00\n"
          ],
          "name": "stdout"
        },
        {
          "output_type": "stream",
          "text": [
            "WARNING:root:NaN or Inf found in input tensor.\n",
            "WARNING:root:NaN or Inf found in input tensor.\n"
          ],
          "name": "stderr"
        },
        {
          "output_type": "stream",
          "text": [
            "2016-04-27 00:00:00\n",
            "AAPL\n",
            "pnl: 0.00\n",
            "2016-04-28 00:00:00\n",
            "AAPL\n",
            "pnl: 0.00\n"
          ],
          "name": "stdout"
        },
        {
          "output_type": "stream",
          "text": [
            "WARNING:root:NaN or Inf found in input tensor.\n",
            "WARNING:root:NaN or Inf found in input tensor.\n",
            "WARNING:root:NaN or Inf found in input tensor.\n",
            "WARNING:root:NaN or Inf found in input tensor.\n",
            "WARNING:root:NaN or Inf found in input tensor.\n"
          ],
          "name": "stderr"
        },
        {
          "output_type": "stream",
          "text": [
            "2016-04-29 00:00:00\n",
            "AAPL\n",
            "pnl: 0.00\n",
            "2016-05-02 00:00:00\n",
            "AAPL\n",
            "pnl: 0.00\n"
          ],
          "name": "stdout"
        },
        {
          "output_type": "stream",
          "text": [
            "WARNING:root:NaN or Inf found in input tensor.\n",
            "WARNING:root:NaN or Inf found in input tensor.\n",
            "WARNING:root:NaN or Inf found in input tensor.\n"
          ],
          "name": "stderr"
        },
        {
          "output_type": "stream",
          "text": [
            "2016-05-03 00:00:00\n",
            "AAPL\n",
            "pnl: 0.00\n",
            "2016-05-04 00:00:00\n",
            "AAPL\n",
            "pnl: 0.00\n"
          ],
          "name": "stdout"
        },
        {
          "output_type": "stream",
          "text": [
            "WARNING:root:NaN or Inf found in input tensor.\n",
            "WARNING:root:NaN or Inf found in input tensor.\n",
            "WARNING:root:NaN or Inf found in input tensor.\n",
            "WARNING:root:NaN or Inf found in input tensor.\n"
          ],
          "name": "stderr"
        },
        {
          "output_type": "stream",
          "text": [
            "2016-05-05 00:00:00\n",
            "AAPL\n",
            "pnl: 0.00\n",
            "2016-05-06 00:00:00\n",
            "AAPL\n",
            "pnl: 0.00\n"
          ],
          "name": "stdout"
        },
        {
          "output_type": "stream",
          "text": [
            "WARNING:root:NaN or Inf found in input tensor.\n",
            "WARNING:root:NaN or Inf found in input tensor.\n",
            "WARNING:root:NaN or Inf found in input tensor.\n",
            "WARNING:root:NaN or Inf found in input tensor.\n"
          ],
          "name": "stderr"
        },
        {
          "output_type": "stream",
          "text": [
            "2016-05-09 00:00:00\n",
            "AAPL\n",
            "pnl: 0.00\n",
            "2016-05-10 00:00:00\n",
            "AAPL\n",
            "pnl: 0.00\n"
          ],
          "name": "stdout"
        },
        {
          "output_type": "stream",
          "text": [
            "WARNING:root:NaN or Inf found in input tensor.\n",
            "WARNING:root:NaN or Inf found in input tensor.\n",
            "WARNING:root:NaN or Inf found in input tensor.\n",
            "WARNING:root:NaN or Inf found in input tensor.\n",
            "WARNING:root:NaN or Inf found in input tensor.\n"
          ],
          "name": "stderr"
        },
        {
          "output_type": "stream",
          "text": [
            "2016-05-11 00:00:00\n",
            "AAPL\n",
            "pnl: 0.00\n",
            "2016-05-12 00:00:00\n",
            "AAPL\n",
            "pnl: 0.00\n"
          ],
          "name": "stdout"
        },
        {
          "output_type": "stream",
          "text": [
            "WARNING:root:NaN or Inf found in input tensor.\n",
            "WARNING:root:NaN or Inf found in input tensor.\n",
            "WARNING:root:NaN or Inf found in input tensor.\n"
          ],
          "name": "stderr"
        },
        {
          "output_type": "stream",
          "text": [
            "2016-05-13 00:00:00\n",
            "AAPL\n",
            "pnl: 0.00\n",
            "2016-05-16 00:00:00\n",
            "AAPL\n",
            "pnl: 0.00\n"
          ],
          "name": "stdout"
        },
        {
          "output_type": "stream",
          "text": [
            "WARNING:root:NaN or Inf found in input tensor.\n",
            "WARNING:root:NaN or Inf found in input tensor.\n",
            "WARNING:root:NaN or Inf found in input tensor.\n",
            "WARNING:root:NaN or Inf found in input tensor.\n"
          ],
          "name": "stderr"
        },
        {
          "output_type": "stream",
          "text": [
            "2016-05-17 00:00:00\n",
            "AAPL\n",
            "pnl: 0.00\n",
            "2016-05-18 00:00:00\n",
            "AAPL\n",
            "pnl: 0.00\n"
          ],
          "name": "stdout"
        },
        {
          "output_type": "stream",
          "text": [
            "WARNING:root:NaN or Inf found in input tensor.\n",
            "WARNING:root:NaN or Inf found in input tensor.\n",
            "WARNING:root:NaN or Inf found in input tensor.\n",
            "WARNING:root:NaN or Inf found in input tensor.\n"
          ],
          "name": "stderr"
        },
        {
          "output_type": "stream",
          "text": [
            "2016-05-19 00:00:00\n",
            "AAPL\n",
            "pnl: 0.00\n",
            "2016-05-20 00:00:00\n",
            "AAPL\n",
            "pnl: 0.00\n"
          ],
          "name": "stdout"
        },
        {
          "output_type": "stream",
          "text": [
            "WARNING:root:NaN or Inf found in input tensor.\n",
            "WARNING:root:NaN or Inf found in input tensor.\n",
            "WARNING:root:NaN or Inf found in input tensor.\n",
            "WARNING:root:NaN or Inf found in input tensor.\n"
          ],
          "name": "stderr"
        },
        {
          "output_type": "stream",
          "text": [
            "2016-05-23 00:00:00\n",
            "AAPL\n",
            "pnl: 0.00\n",
            "2016-05-24 00:00:00\n",
            "AAPL\n",
            "pnl: 0.00\n"
          ],
          "name": "stdout"
        },
        {
          "output_type": "stream",
          "text": [
            "WARNING:root:NaN or Inf found in input tensor.\n",
            "WARNING:root:NaN or Inf found in input tensor.\n",
            "WARNING:root:NaN or Inf found in input tensor.\n",
            "WARNING:root:NaN or Inf found in input tensor.\n"
          ],
          "name": "stderr"
        },
        {
          "output_type": "stream",
          "text": [
            "2016-05-25 00:00:00\n",
            "AAPL\n",
            "pnl: 0.00\n",
            "2016-05-26 00:00:00\n",
            "AAPL\n",
            "pnl: 0.00\n"
          ],
          "name": "stdout"
        },
        {
          "output_type": "stream",
          "text": [
            "WARNING:root:NaN or Inf found in input tensor.\n",
            "WARNING:root:NaN or Inf found in input tensor.\n",
            "WARNING:root:NaN or Inf found in input tensor.\n",
            "WARNING:root:NaN or Inf found in input tensor.\n"
          ],
          "name": "stderr"
        },
        {
          "output_type": "stream",
          "text": [
            "2016-05-27 00:00:00\n",
            "AAPL\n",
            "pnl: 0.00\n",
            "2016-05-30 00:00:00\n",
            "AAPL\n",
            "pnl: 0.00\n"
          ],
          "name": "stdout"
        },
        {
          "output_type": "stream",
          "text": [
            "WARNING:root:NaN or Inf found in input tensor.\n",
            "WARNING:root:NaN or Inf found in input tensor.\n",
            "WARNING:root:NaN or Inf found in input tensor.\n",
            "WARNING:root:NaN or Inf found in input tensor.\n"
          ],
          "name": "stderr"
        },
        {
          "output_type": "stream",
          "text": [
            "2016-05-31 00:00:00\n",
            "AAPL\n",
            "pnl: 0.00\n",
            "2016-06-01 00:00:00\n",
            "AAPL\n",
            "pnl: 0.00\n"
          ],
          "name": "stdout"
        },
        {
          "output_type": "stream",
          "text": [
            "WARNING:root:NaN or Inf found in input tensor.\n",
            "WARNING:root:NaN or Inf found in input tensor.\n",
            "WARNING:root:NaN or Inf found in input tensor.\n",
            "WARNING:root:NaN or Inf found in input tensor.\n"
          ],
          "name": "stderr"
        },
        {
          "output_type": "stream",
          "text": [
            "2016-06-02 00:00:00\n",
            "AAPL\n",
            "pnl: 0.00\n",
            "2016-06-03 00:00:00\n",
            "AAPL\n",
            "pnl: 0.00\n"
          ],
          "name": "stdout"
        },
        {
          "output_type": "stream",
          "text": [
            "WARNING:root:NaN or Inf found in input tensor.\n",
            "WARNING:root:NaN or Inf found in input tensor.\n",
            "WARNING:root:NaN or Inf found in input tensor.\n",
            "WARNING:root:NaN or Inf found in input tensor.\n",
            "WARNING:root:NaN or Inf found in input tensor.\n",
            "WARNING:root:NaN or Inf found in input tensor.\n"
          ],
          "name": "stderr"
        },
        {
          "output_type": "stream",
          "text": [
            "2016-06-06 00:00:00\n",
            "AAPL\n",
            "pnl: 0.00\n",
            "2016-06-07 00:00:00\n",
            "AAPL\n",
            "pnl: 0.00\n",
            "2016-06-08 00:00:00\n"
          ],
          "name": "stdout"
        },
        {
          "output_type": "stream",
          "text": [
            "WARNING:root:NaN or Inf found in input tensor.\n",
            "WARNING:root:NaN or Inf found in input tensor.\n",
            "WARNING:root:NaN or Inf found in input tensor.\n",
            "WARNING:root:NaN or Inf found in input tensor.\n",
            "WARNING:root:NaN or Inf found in input tensor.\n",
            "WARNING:root:NaN or Inf found in input tensor.\n"
          ],
          "name": "stderr"
        },
        {
          "output_type": "stream",
          "text": [
            "AAPL\n",
            "pnl: 0.00\n",
            "2016-06-09 00:00:00\n",
            "AAPL\n",
            "pnl: 0.00\n",
            "2016-06-10 00:00:00\n",
            "AAPL\n",
            "pnl: 0.00\n"
          ],
          "name": "stdout"
        },
        {
          "output_type": "stream",
          "text": [
            "WARNING:root:NaN or Inf found in input tensor.\n",
            "WARNING:root:NaN or Inf found in input tensor.\n"
          ],
          "name": "stderr"
        },
        {
          "output_type": "stream",
          "text": [
            "2016-06-13 00:00:00\n",
            "AAPL\n",
            "pnl: 0.00\n",
            "2016-06-14 00:00:00\n",
            "AAPL\n",
            "pnl: 0.00\n"
          ],
          "name": "stdout"
        },
        {
          "output_type": "stream",
          "text": [
            "WARNING:root:NaN or Inf found in input tensor.\n",
            "WARNING:root:NaN or Inf found in input tensor.\n",
            "WARNING:root:NaN or Inf found in input tensor.\n",
            "WARNING:root:NaN or Inf found in input tensor.\n",
            "WARNING:root:NaN or Inf found in input tensor.\n"
          ],
          "name": "stderr"
        },
        {
          "output_type": "stream",
          "text": [
            "2016-06-15 00:00:00\n",
            "AAPL\n",
            "pnl: 0.00\n",
            "2016-06-16 00:00:00\n",
            "AAPL\n",
            "pnl: 0.00\n"
          ],
          "name": "stdout"
        },
        {
          "output_type": "stream",
          "text": [
            "WARNING:root:NaN or Inf found in input tensor.\n",
            "WARNING:root:NaN or Inf found in input tensor.\n",
            "WARNING:root:NaN or Inf found in input tensor.\n",
            "WARNING:root:NaN or Inf found in input tensor.\n",
            "WARNING:root:NaN or Inf found in input tensor.\n"
          ],
          "name": "stderr"
        },
        {
          "output_type": "stream",
          "text": [
            "2016-06-17 00:00:00\n",
            "AAPL\n",
            "pnl: 0.00\n",
            "2016-06-20 00:00:00\n",
            "AAPL\n",
            "pnl: 0.00\n",
            "2016-06-21 00:00:00\n",
            "AAPL\n",
            "pnl: 0.00\n"
          ],
          "name": "stdout"
        },
        {
          "output_type": "stream",
          "text": [
            "WARNING:root:NaN or Inf found in input tensor.\n",
            "WARNING:root:NaN or Inf found in input tensor.\n",
            "WARNING:root:NaN or Inf found in input tensor.\n",
            "WARNING:root:NaN or Inf found in input tensor.\n"
          ],
          "name": "stderr"
        },
        {
          "output_type": "stream",
          "text": [
            "2016-06-22 00:00:00\n",
            "AAPL\n",
            "pnl: 0.00\n",
            "2016-06-23 00:00:00\n",
            "AAPL\n",
            "pnl: 0.00\n"
          ],
          "name": "stdout"
        },
        {
          "output_type": "stream",
          "text": [
            "WARNING:root:NaN or Inf found in input tensor.\n",
            "WARNING:root:NaN or Inf found in input tensor.\n",
            "WARNING:root:NaN or Inf found in input tensor.\n",
            "WARNING:root:NaN or Inf found in input tensor.\n",
            "WARNING:root:NaN or Inf found in input tensor.\n",
            "WARNING:root:NaN or Inf found in input tensor.\n"
          ],
          "name": "stderr"
        },
        {
          "output_type": "stream",
          "text": [
            "2016-06-24 00:00:00\n",
            "AAPL\n",
            "pnl: 0.00\n",
            "2016-06-27 00:00:00\n",
            "AAPL\n",
            "pnl: 0.00\n"
          ],
          "name": "stdout"
        },
        {
          "output_type": "stream",
          "text": [
            "WARNING:root:NaN or Inf found in input tensor.\n",
            "WARNING:root:NaN or Inf found in input tensor.\n",
            "WARNING:root:NaN or Inf found in input tensor.\n"
          ],
          "name": "stderr"
        },
        {
          "output_type": "stream",
          "text": [
            "2016-06-28 00:00:00\n",
            "AAPL\n",
            "pnl: 0.00\n",
            "2016-06-29 00:00:00\n",
            "AAPL\n",
            "pnl: 0.00\n"
          ],
          "name": "stdout"
        },
        {
          "output_type": "stream",
          "text": [
            "WARNING:root:NaN or Inf found in input tensor.\n",
            "WARNING:root:NaN or Inf found in input tensor.\n",
            "WARNING:root:NaN or Inf found in input tensor.\n",
            "WARNING:root:NaN or Inf found in input tensor.\n",
            "WARNING:root:NaN or Inf found in input tensor.\n"
          ],
          "name": "stderr"
        },
        {
          "output_type": "stream",
          "text": [
            "2016-06-30 00:00:00\n",
            "AAPL\n",
            "pnl: 0.00\n",
            "2016-07-01 00:00:00\n",
            "AAPL\n",
            "pnl: 0.00\n",
            "2016-07-04 00:00:00\n",
            "AAPL\n",
            "pnl: 0.00\n"
          ],
          "name": "stdout"
        },
        {
          "output_type": "stream",
          "text": [
            "WARNING:root:NaN or Inf found in input tensor.\n",
            "WARNING:root:NaN or Inf found in input tensor.\n",
            "WARNING:root:NaN or Inf found in input tensor.\n",
            "WARNING:root:NaN or Inf found in input tensor.\n"
          ],
          "name": "stderr"
        },
        {
          "output_type": "stream",
          "text": [
            "2016-07-05 00:00:00\n",
            "AAPL\n",
            "pnl: 0.00\n",
            "2016-07-06 00:00:00\n",
            "AAPL\n",
            "pnl: 0.00\n"
          ],
          "name": "stdout"
        },
        {
          "output_type": "stream",
          "text": [
            "WARNING:root:NaN or Inf found in input tensor.\n",
            "WARNING:root:NaN or Inf found in input tensor.\n",
            "WARNING:root:NaN or Inf found in input tensor.\n",
            "WARNING:root:NaN or Inf found in input tensor.\n",
            "WARNING:root:NaN or Inf found in input tensor."
          ],
          "name": "stderr"
        },
        {
          "output_type": "stream",
          "text": [
            "2016-07-07 00:00:00\n",
            "AAPL\n",
            "pnl: 0.00\n",
            "2016-07-08 00:00:00\n",
            "AAPL\n",
            "pnl: 0.00\n"
          ],
          "name": "stdout"
        },
        {
          "output_type": "stream",
          "text": [
            "\n",
            "WARNING:root:NaN or Inf found in input tensor.\n",
            "WARNING:root:NaN or Inf found in input tensor.\n",
            "WARNING:root:NaN or Inf found in input tensor.\n",
            "WARNING:root:NaN or Inf found in input tensor.\n"
          ],
          "name": "stderr"
        },
        {
          "output_type": "stream",
          "text": [
            "2016-07-11 00:00:00\n",
            "AAPL\n",
            "pnl: 0.00\n",
            "2016-07-12 00:00:00\n",
            "AAPL\n",
            "pnl: 0.00\n"
          ],
          "name": "stdout"
        },
        {
          "output_type": "stream",
          "text": [
            "WARNING:root:NaN or Inf found in input tensor.\n",
            "WARNING:root:NaN or Inf found in input tensor.\n",
            "WARNING:root:NaN or Inf found in input tensor.\n",
            "WARNING:root:NaN or Inf found in input tensor.\n"
          ],
          "name": "stderr"
        },
        {
          "output_type": "stream",
          "text": [
            "2016-07-13 00:00:00\n",
            "AAPL\n",
            "pnl: 0.00\n",
            "2016-07-14 00:00:00\n",
            "AAPL\n",
            "pnl: 0.00\n"
          ],
          "name": "stdout"
        },
        {
          "output_type": "stream",
          "text": [
            "WARNING:root:NaN or Inf found in input tensor.\n",
            "WARNING:root:NaN or Inf found in input tensor.\n",
            "WARNING:root:NaN or Inf found in input tensor.\n"
          ],
          "name": "stderr"
        },
        {
          "output_type": "stream",
          "text": [
            "2016-07-15 00:00:00\n",
            "AAPL\n",
            "pnl: 0.00\n",
            "2016-07-18 00:00:00\n",
            "AAPL\n",
            "pnl: 0.00\n"
          ],
          "name": "stdout"
        },
        {
          "output_type": "stream",
          "text": [
            "WARNING:root:NaN or Inf found in input tensor.\n",
            "WARNING:root:NaN or Inf found in input tensor.\n",
            "WARNING:root:NaN or Inf found in input tensor.\n",
            "WARNING:root:NaN or Inf found in input tensor.\n"
          ],
          "name": "stderr"
        },
        {
          "output_type": "stream",
          "text": [
            "2016-07-19 00:00:00\n",
            "AAPL\n",
            "pnl: 0.00\n",
            "2016-07-20 00:00:00\n",
            "AAPL\n",
            "pnl: 0.00\n"
          ],
          "name": "stdout"
        },
        {
          "output_type": "stream",
          "text": [
            "WARNING:root:NaN or Inf found in input tensor.\n",
            "WARNING:root:NaN or Inf found in input tensor.\n",
            "WARNING:root:NaN or Inf found in input tensor.\n",
            "WARNING:root:NaN or Inf found in input tensor.\n"
          ],
          "name": "stderr"
        },
        {
          "output_type": "stream",
          "text": [
            "2016-07-21 00:00:00\n",
            "AAPL\n",
            "pnl: 0.00\n",
            "2016-07-22 00:00:00\n",
            "AAPL\n",
            "pnl: 0.00\n"
          ],
          "name": "stdout"
        },
        {
          "output_type": "stream",
          "text": [
            "WARNING:root:NaN or Inf found in input tensor.\n",
            "WARNING:root:NaN or Inf found in input tensor.\n",
            "WARNING:root:NaN or Inf found in input tensor.\n",
            "WARNING:root:NaN or Inf found in input tensor.\n",
            "WARNING:root:NaN or Inf found in input tensor.\n",
            "WARNING:root:NaN or Inf found in input tensor.\n"
          ],
          "name": "stderr"
        },
        {
          "output_type": "stream",
          "text": [
            "2016-07-25 00:00:00\n",
            "AAPL\n",
            "pnl: 0.00\n",
            "2016-07-26 00:00:00\n",
            "AAPL\n",
            "pnl: 0.00\n",
            "2016-07-27 00:00:00\n"
          ],
          "name": "stdout"
        },
        {
          "output_type": "stream",
          "text": [
            "WARNING:root:NaN or Inf found in input tensor.\n",
            "WARNING:root:NaN or Inf found in input tensor.\n",
            "WARNING:root:NaN or Inf found in input tensor.\n",
            "WARNING:root:NaN or Inf found in input tensor.\n"
          ],
          "name": "stderr"
        },
        {
          "output_type": "stream",
          "text": [
            "AAPL\n",
            "pnl: 0.00\n",
            "2016-07-28 00:00:00\n",
            "AAPL\n",
            "pnl: 0.00\n",
            "2016-07-29 00:00:00\n"
          ],
          "name": "stdout"
        },
        {
          "output_type": "stream",
          "text": [
            "WARNING:root:NaN or Inf found in input tensor.\n",
            "WARNING:root:NaN or Inf found in input tensor.\n",
            "WARNING:root:NaN or Inf found in input tensor.\n",
            "WARNING:root:NaN or Inf found in input tensor.\n"
          ],
          "name": "stderr"
        },
        {
          "output_type": "stream",
          "text": [
            "AAPL\n",
            "pnl: 0.00\n",
            "2016-08-01 00:00:00\n",
            "AAPL\n",
            "pnl: 0.00\n",
            "2016-08-02 00:00:00\n",
            "AAPL\n",
            "pnl: 0.00\n"
          ],
          "name": "stdout"
        },
        {
          "output_type": "stream",
          "text": [
            "WARNING:root:NaN or Inf found in input tensor.\n",
            "WARNING:root:NaN or Inf found in input tensor.\n",
            "WARNING:root:NaN or Inf found in input tensor.\n",
            "WARNING:root:NaN or Inf found in input tensor.\n",
            "WARNING:root:NaN or Inf found in input tensor.\n",
            "WARNING:root:NaN or Inf found in input tensor.\n"
          ],
          "name": "stderr"
        },
        {
          "output_type": "stream",
          "text": [
            "2016-08-03 00:00:00\n",
            "AAPL\n",
            "pnl: 0.00\n",
            "2016-08-04 00:00:00\n",
            "AAPL\n",
            "pnl: 0.00\n",
            "2016-08-05 00:00:00\n"
          ],
          "name": "stdout"
        },
        {
          "output_type": "stream",
          "text": [
            "WARNING:root:NaN or Inf found in input tensor.\n",
            "WARNING:root:NaN or Inf found in input tensor.\n",
            "WARNING:root:NaN or Inf found in input tensor.\n",
            "WARNING:root:NaN or Inf found in input tensor.\n"
          ],
          "name": "stderr"
        },
        {
          "output_type": "stream",
          "text": [
            "AAPL\n",
            "pnl: 0.00\n",
            "2016-08-08 00:00:00\n",
            "AAPL\n",
            "pnl: 0.00\n",
            "2016-08-09 00:00:00\n"
          ],
          "name": "stdout"
        },
        {
          "output_type": "stream",
          "text": [
            "WARNING:root:NaN or Inf found in input tensor.\n",
            "WARNING:root:NaN or Inf found in input tensor.\n",
            "WARNING:root:NaN or Inf found in input tensor.\n",
            "WARNING:root:NaN or Inf found in input tensor.\n"
          ],
          "name": "stderr"
        },
        {
          "output_type": "stream",
          "text": [
            "AAPL\n",
            "pnl: 0.00\n",
            "2016-08-10 00:00:00\n",
            "AAPL\n",
            "pnl: 0.00\n",
            "2016-08-11 00:00:00\n"
          ],
          "name": "stdout"
        },
        {
          "output_type": "stream",
          "text": [
            "WARNING:root:NaN or Inf found in input tensor.\n",
            "WARNING:root:NaN or Inf found in input tensor.\n",
            "WARNING:root:NaN or Inf found in input tensor.\n",
            "WARNING:root:NaN or Inf found in input tensor.\n"
          ],
          "name": "stderr"
        },
        {
          "output_type": "stream",
          "text": [
            "AAPL\n",
            "pnl: 0.00\n",
            "2016-08-12 00:00:00\n",
            "AAPL\n",
            "pnl: 0.00\n",
            "2016-08-15 00:00:00\n"
          ],
          "name": "stdout"
        },
        {
          "output_type": "stream",
          "text": [
            "WARNING:root:NaN or Inf found in input tensor.\n",
            "WARNING:root:NaN or Inf found in input tensor.\n",
            "WARNING:root:NaN or Inf found in input tensor.\n",
            "WARNING:root:NaN or Inf found in input tensor.\n"
          ],
          "name": "stderr"
        },
        {
          "output_type": "stream",
          "text": [
            "AAPL\n",
            "pnl: 0.00\n",
            "2016-08-16 00:00:00\n",
            "AAPL\n",
            "pnl: 0.00\n",
            "2016-08-17 00:00:00\n",
            "AAPL\n",
            "pnl: 0.00\n"
          ],
          "name": "stdout"
        },
        {
          "output_type": "stream",
          "text": [
            "WARNING:root:NaN or Inf found in input tensor.\n",
            "WARNING:root:NaN or Inf found in input tensor.\n",
            "WARNING:root:NaN or Inf found in input tensor.\n",
            "WARNING:root:NaN or Inf found in input tensor.\n"
          ],
          "name": "stderr"
        },
        {
          "output_type": "stream",
          "text": [
            "2016-08-18 00:00:00\n",
            "AAPL\n",
            "pnl: 0.00\n",
            "2016-08-19 00:00:00\n",
            "AAPL\n",
            "pnl: 0.00\n"
          ],
          "name": "stdout"
        },
        {
          "output_type": "stream",
          "text": [
            "WARNING:root:NaN or Inf found in input tensor.\n",
            "WARNING:root:NaN or Inf found in input tensor.\n",
            "WARNING:root:NaN or Inf found in input tensor.\n",
            "WARNING:root:NaN or Inf found in input tensor.\n"
          ],
          "name": "stderr"
        },
        {
          "output_type": "stream",
          "text": [
            "2016-08-22 00:00:00\n",
            "AAPL\n",
            "pnl: 0.00\n",
            "2016-08-23 00:00:00\n",
            "AAPL\n",
            "pnl: 0.00\n"
          ],
          "name": "stdout"
        },
        {
          "output_type": "stream",
          "text": [
            "WARNING:root:NaN or Inf found in input tensor.\n",
            "WARNING:root:NaN or Inf found in input tensor.\n",
            "WARNING:root:NaN or Inf found in input tensor.\n",
            "WARNING:root:NaN or Inf found in input tensor.\n"
          ],
          "name": "stderr"
        },
        {
          "output_type": "stream",
          "text": [
            "2016-08-24 00:00:00\n",
            "AAPL\n",
            "pnl: 0.00\n",
            "2016-08-25 00:00:00\n",
            "AAPL\n",
            "pnl: 0.00\n"
          ],
          "name": "stdout"
        },
        {
          "output_type": "stream",
          "text": [
            "WARNING:root:NaN or Inf found in input tensor.\n",
            "WARNING:root:NaN or Inf found in input tensor.\n",
            "WARNING:root:NaN or Inf found in input tensor.\n",
            "WARNING:root:NaN or Inf found in input tensor.\n"
          ],
          "name": "stderr"
        },
        {
          "output_type": "stream",
          "text": [
            "2016-08-26 00:00:00\n",
            "AAPL\n",
            "pnl: 0.00\n",
            "2016-08-29 00:00:00\n",
            "AAPL\n",
            "pnl: 0.00\n"
          ],
          "name": "stdout"
        },
        {
          "output_type": "stream",
          "text": [
            "WARNING:root:NaN or Inf found in input tensor.\n",
            "WARNING:root:NaN or Inf found in input tensor.\n",
            "WARNING:root:NaN or Inf found in input tensor.\n",
            "WARNING:root:NaN or Inf found in input tensor.\n",
            "WARNING:root:NaN or Inf found in input tensor.\n"
          ],
          "name": "stderr"
        },
        {
          "output_type": "stream",
          "text": [
            "2016-08-30 00:00:00\n",
            "AAPL\n",
            "pnl: 0.00\n",
            "2016-08-31 00:00:00\n",
            "AAPL\n",
            "pnl: 0.00\n"
          ],
          "name": "stdout"
        },
        {
          "output_type": "stream",
          "text": [
            "WARNING:root:NaN or Inf found in input tensor.\n",
            "WARNING:root:NaN or Inf found in input tensor.\n",
            "WARNING:root:NaN or Inf found in input tensor.\n"
          ],
          "name": "stderr"
        },
        {
          "output_type": "stream",
          "text": [
            "2016-09-01 00:00:00\n",
            "AAPL\n",
            "pnl: 0.00\n",
            "2016-09-02 00:00:00\n",
            "AAPL\n",
            "pnl: 0.00\n"
          ],
          "name": "stdout"
        },
        {
          "output_type": "stream",
          "text": [
            "WARNING:root:NaN or Inf found in input tensor.\n",
            "WARNING:root:NaN or Inf found in input tensor.\n",
            "WARNING:root:NaN or Inf found in input tensor.\n",
            "WARNING:root:NaN or Inf found in input tensor.\n"
          ],
          "name": "stderr"
        },
        {
          "output_type": "stream",
          "text": [
            "2016-09-05 00:00:00\n",
            "AAPL\n",
            "pnl: 0.00\n",
            "2016-09-06 00:00:00\n",
            "AAPL\n",
            "pnl: 0.00\n"
          ],
          "name": "stdout"
        },
        {
          "output_type": "stream",
          "text": [
            "WARNING:root:NaN or Inf found in input tensor.\n",
            "WARNING:root:NaN or Inf found in input tensor.\n",
            "WARNING:root:NaN or Inf found in input tensor.\n",
            "WARNING:root:NaN or Inf found in input tensor.\n"
          ],
          "name": "stderr"
        },
        {
          "output_type": "stream",
          "text": [
            "2016-09-07 00:00:00\n",
            "AAPL\n",
            "pnl: 0.00\n",
            "2016-09-08 00:00:00\n",
            "AAPL\n",
            "pnl: 0.00\n"
          ],
          "name": "stdout"
        },
        {
          "output_type": "stream",
          "text": [
            "WARNING:root:NaN or Inf found in input tensor.\n",
            "WARNING:root:NaN or Inf found in input tensor.\n",
            "WARNING:root:NaN or Inf found in input tensor.\n",
            "WARNING:root:NaN or Inf found in input tensor.\n"
          ],
          "name": "stderr"
        },
        {
          "output_type": "stream",
          "text": [
            "2016-09-09 00:00:00\n",
            "AAPL\n",
            "pnl: 0.00\n",
            "2016-09-12 00:00:00\n",
            "AAPL\n",
            "pnl: 0.00\n"
          ],
          "name": "stdout"
        },
        {
          "output_type": "stream",
          "text": [
            "WARNING:root:NaN or Inf found in input tensor.\n",
            "WARNING:root:NaN or Inf found in input tensor.\n",
            "WARNING:root:NaN or Inf found in input tensor.\n",
            "WARNING:root:NaN or Inf found in input tensor.\n"
          ],
          "name": "stderr"
        },
        {
          "output_type": "stream",
          "text": [
            "2016-09-13 00:00:00\n",
            "AAPL\n",
            "pnl: 0.00\n",
            "2016-09-14 00:00:00\n",
            "AAPL\n",
            "pnl: 0.00\n"
          ],
          "name": "stdout"
        },
        {
          "output_type": "stream",
          "text": [
            "WARNING:root:NaN or Inf found in input tensor.\n",
            "WARNING:root:NaN or Inf found in input tensor.\n",
            "WARNING:root:NaN or Inf found in input tensor.\n",
            "WARNING:root:NaN or Inf found in input tensor.\n"
          ],
          "name": "stderr"
        },
        {
          "output_type": "stream",
          "text": [
            "2016-09-15 00:00:00\n",
            "AAPL\n",
            "pnl: 0.00\n",
            "2016-09-16 00:00:00\n",
            "AAPL\n",
            "pnl: 0.00\n"
          ],
          "name": "stdout"
        },
        {
          "output_type": "stream",
          "text": [
            "WARNING:root:NaN or Inf found in input tensor.\n",
            "WARNING:root:NaN or Inf found in input tensor.\n",
            "WARNING:root:NaN or Inf found in input tensor.\n",
            "WARNING:root:NaN or Inf found in input tensor.\n",
            "WARNING:root:NaN or Inf found in input tensor.\n"
          ],
          "name": "stderr"
        },
        {
          "output_type": "stream",
          "text": [
            "2016-09-19 00:00:00\n",
            "AAPL\n",
            "pnl: 0.00\n",
            "2016-09-20 00:00:00\n",
            "AAPL\n",
            "pnl: 0.00\n"
          ],
          "name": "stdout"
        },
        {
          "output_type": "stream",
          "text": [
            "WARNING:root:NaN or Inf found in input tensor.\n",
            "WARNING:root:NaN or Inf found in input tensor.\n",
            "WARNING:root:NaN or Inf found in input tensor.\n"
          ],
          "name": "stderr"
        },
        {
          "output_type": "stream",
          "text": [
            "2016-09-21 00:00:00\n",
            "AAPL\n",
            "pnl: 0.00\n",
            "2016-09-22 00:00:00\n",
            "AAPL\n",
            "pnl: 0.00\n"
          ],
          "name": "stdout"
        },
        {
          "output_type": "stream",
          "text": [
            "WARNING:root:NaN or Inf found in input tensor.\n",
            "WARNING:root:NaN or Inf found in input tensor.\n",
            "WARNING:root:NaN or Inf found in input tensor.\n",
            "WARNING:root:NaN or Inf found in input tensor.\n"
          ],
          "name": "stderr"
        },
        {
          "output_type": "stream",
          "text": [
            "2016-09-23 00:00:00\n",
            "AAPL\n",
            "pnl: 0.00\n",
            "2016-09-26 00:00:00\n",
            "AAPL\n",
            "pnl: 0.00\n"
          ],
          "name": "stdout"
        },
        {
          "output_type": "stream",
          "text": [
            "WARNING:root:NaN or Inf found in input tensor.\n",
            "WARNING:root:NaN or Inf found in input tensor.\n",
            "WARNING:root:NaN or Inf found in input tensor.\n",
            "WARNING:root:NaN or Inf found in input tensor.\n"
          ],
          "name": "stderr"
        },
        {
          "output_type": "stream",
          "text": [
            "2016-09-27 00:00:00\n",
            "AAPL\n",
            "pnl: 0.00\n",
            "2016-09-28 00:00:00\n",
            "AAPL\n",
            "pnl: 0.00\n"
          ],
          "name": "stdout"
        },
        {
          "output_type": "stream",
          "text": [
            "WARNING:root:NaN or Inf found in input tensor.\n",
            "WARNING:root:NaN or Inf found in input tensor.\n",
            "WARNING:root:NaN or Inf found in input tensor.\n",
            "WARNING:root:NaN or Inf found in input tensor.\n",
            "WARNING:root:NaN or Inf found in input tensor.\n"
          ],
          "name": "stderr"
        },
        {
          "output_type": "stream",
          "text": [
            "2016-09-29 00:00:00\n",
            "AAPL\n",
            "pnl: 0.00\n",
            "2016-09-30 00:00:00\n",
            "AAPL\n",
            "pnl: 0.00\n"
          ],
          "name": "stdout"
        },
        {
          "output_type": "stream",
          "text": [
            "WARNING:root:NaN or Inf found in input tensor.\n",
            "WARNING:root:NaN or Inf found in input tensor.\n",
            "WARNING:root:NaN or Inf found in input tensor.\n"
          ],
          "name": "stderr"
        },
        {
          "output_type": "stream",
          "text": [
            "2016-10-03 00:00:00\n",
            "AAPL\n",
            "pnl: 0.00\n",
            "2016-10-04 00:00:00\n",
            "AAPL\n",
            "pnl: 0.00\n"
          ],
          "name": "stdout"
        },
        {
          "output_type": "stream",
          "text": [
            "WARNING:root:NaN or Inf found in input tensor.\n",
            "WARNING:root:NaN or Inf found in input tensor.\n",
            "WARNING:root:NaN or Inf found in input tensor.\n",
            "WARNING:root:NaN or Inf found in input tensor.\n"
          ],
          "name": "stderr"
        },
        {
          "output_type": "stream",
          "text": [
            "2016-10-05 00:00:00\n",
            "AAPL\n",
            "pnl: 0.00\n",
            "2016-10-06 00:00:00\n",
            "AAPL\n",
            "pnl: 0.00\n"
          ],
          "name": "stdout"
        },
        {
          "output_type": "stream",
          "text": [
            "WARNING:root:NaN or Inf found in input tensor.\n",
            "WARNING:root:NaN or Inf found in input tensor.\n",
            "WARNING:root:NaN or Inf found in input tensor.\n",
            "WARNING:root:NaN or Inf found in input tensor.\n"
          ],
          "name": "stderr"
        },
        {
          "output_type": "stream",
          "text": [
            "2016-10-07 00:00:00\n",
            "AAPL\n",
            "pnl: 0.00\n",
            "2016-10-10 00:00:00\n",
            "AAPL\n",
            "pnl: 0.00\n"
          ],
          "name": "stdout"
        },
        {
          "output_type": "stream",
          "text": [
            "WARNING:root:NaN or Inf found in input tensor.\n",
            "WARNING:root:NaN or Inf found in input tensor.\n",
            "WARNING:root:NaN or Inf found in input tensor.\n",
            "WARNING:root:NaN or Inf found in input tensor.\n"
          ],
          "name": "stderr"
        },
        {
          "output_type": "stream",
          "text": [
            "2016-10-11 00:00:00\n",
            "AAPL\n",
            "pnl: 0.00\n",
            "2016-10-12 00:00:00\n",
            "AAPL\n",
            "pnl: 0.00\n"
          ],
          "name": "stdout"
        },
        {
          "output_type": "stream",
          "text": [
            "WARNING:root:NaN or Inf found in input tensor.\n",
            "WARNING:root:NaN or Inf found in input tensor.\n",
            "WARNING:root:NaN or Inf found in input tensor.\n",
            "WARNING:root:NaN or Inf found in input tensor.\n"
          ],
          "name": "stderr"
        },
        {
          "output_type": "stream",
          "text": [
            "2016-10-13 00:00:00\n",
            "AAPL\n",
            "pnl: 0.00\n",
            "2016-10-14 00:00:00\n",
            "AAPL\n",
            "pnl: 0.00\n"
          ],
          "name": "stdout"
        },
        {
          "output_type": "stream",
          "text": [
            "WARNING:root:NaN or Inf found in input tensor.\n",
            "WARNING:root:NaN or Inf found in input tensor.\n",
            "WARNING:root:NaN or Inf found in input tensor.\n",
            "WARNING:root:NaN or Inf found in input tensor.\n"
          ],
          "name": "stderr"
        },
        {
          "output_type": "stream",
          "text": [
            "2016-10-17 00:00:00\n",
            "AAPL\n",
            "pnl: 0.00\n",
            "2016-10-18 00:00:00\n",
            "AAPL\n",
            "pnl: 0.00\n"
          ],
          "name": "stdout"
        },
        {
          "output_type": "stream",
          "text": [
            "WARNING:root:NaN or Inf found in input tensor.\n",
            "WARNING:root:NaN or Inf found in input tensor.\n",
            "WARNING:root:NaN or Inf found in input tensor.\n",
            "WARNING:root:NaN or Inf found in input tensor.\n"
          ],
          "name": "stderr"
        },
        {
          "output_type": "stream",
          "text": [
            "2016-10-19 00:00:00\n",
            "AAPL\n",
            "pnl: 0.00\n",
            "2016-10-20 00:00:00\n",
            "AAPL\n",
            "pnl: 0.00\n"
          ],
          "name": "stdout"
        },
        {
          "output_type": "stream",
          "text": [
            "WARNING:root:NaN or Inf found in input tensor.\n",
            "WARNING:root:NaN or Inf found in input tensor.\n",
            "WARNING:root:NaN or Inf found in input tensor.\n",
            "WARNING:root:NaN or Inf found in input tensor.\n"
          ],
          "name": "stderr"
        },
        {
          "output_type": "stream",
          "text": [
            "2016-10-21 00:00:00\n",
            "AAPL\n",
            "pnl: 0.00\n",
            "2016-10-24 00:00:00\n",
            "AAPL\n",
            "pnl: 0.00\n"
          ],
          "name": "stdout"
        },
        {
          "output_type": "stream",
          "text": [
            "WARNING:root:NaN or Inf found in input tensor.\n",
            "WARNING:root:NaN or Inf found in input tensor.\n",
            "WARNING:root:NaN or Inf found in input tensor.\n",
            "WARNING:root:NaN or Inf found in input tensor.\n"
          ],
          "name": "stderr"
        },
        {
          "output_type": "stream",
          "text": [
            "2016-10-25 00:00:00\n",
            "AAPL\n",
            "pnl: 0.00\n",
            "2016-10-26 00:00:00\n",
            "AAPL\n",
            "pnl: 0.00\n"
          ],
          "name": "stdout"
        },
        {
          "output_type": "stream",
          "text": [
            "WARNING:root:NaN or Inf found in input tensor.\n",
            "WARNING:root:NaN or Inf found in input tensor.\n",
            "WARNING:root:NaN or Inf found in input tensor.\n",
            "WARNING:root:NaN or Inf found in input tensor.\n",
            "WARNING:root:NaN or Inf found in input tensor.\n",
            "WARNING:root:NaN or Inf found in input tensor.\n"
          ],
          "name": "stderr"
        },
        {
          "output_type": "stream",
          "text": [
            "2016-10-27 00:00:00\n",
            "AAPL\n",
            "pnl: 0.00\n",
            "2016-10-28 00:00:00\n",
            "AAPL\n",
            "pnl: 0.00\n"
          ],
          "name": "stdout"
        },
        {
          "output_type": "stream",
          "text": [
            "WARNING:root:NaN or Inf found in input tensor.\n",
            "WARNING:root:NaN or Inf found in input tensor.\n",
            "WARNING:root:NaN or Inf found in input tensor.\n"
          ],
          "name": "stderr"
        },
        {
          "output_type": "stream",
          "text": [
            "2016-10-31 00:00:00\n",
            "AAPL\n",
            "pnl: 0.00\n",
            "2016-11-01 00:00:00\n",
            "AAPL\n",
            "pnl: 0.00\n"
          ],
          "name": "stdout"
        },
        {
          "output_type": "stream",
          "text": [
            "WARNING:root:NaN or Inf found in input tensor.\n",
            "WARNING:root:NaN or Inf found in input tensor.\n",
            "WARNING:root:NaN or Inf found in input tensor.\n"
          ],
          "name": "stderr"
        },
        {
          "output_type": "stream",
          "text": [
            "2016-11-02 00:00:00\n",
            "AAPL\n",
            "pnl: 0.00\n",
            "2016-11-03 00:00:00\n",
            "AAPL\n",
            "pnl: 0.00\n"
          ],
          "name": "stdout"
        },
        {
          "output_type": "stream",
          "text": [
            "WARNING:root:NaN or Inf found in input tensor.\n",
            "WARNING:root:NaN or Inf found in input tensor.\n",
            "WARNING:root:NaN or Inf found in input tensor.\n",
            "WARNING:root:NaN or Inf found in input tensor.\n"
          ],
          "name": "stderr"
        },
        {
          "output_type": "stream",
          "text": [
            "2016-11-04 00:00:00\n",
            "AAPL\n",
            "pnl: 0.00\n",
            "2016-11-07 00:00:00\n",
            "AAPL\n",
            "pnl: 0.00\n"
          ],
          "name": "stdout"
        },
        {
          "output_type": "stream",
          "text": [
            "WARNING:root:NaN or Inf found in input tensor.\n",
            "WARNING:root:NaN or Inf found in input tensor.\n",
            "WARNING:root:NaN or Inf found in input tensor.\n",
            "WARNING:root:NaN or Inf found in input tensor.\n"
          ],
          "name": "stderr"
        },
        {
          "output_type": "stream",
          "text": [
            "2016-11-08 00:00:00\n",
            "AAPL\n",
            "pnl: 0.00\n",
            "2016-11-09 00:00:00\n",
            "AAPL\n",
            "pnl: 0.00\n"
          ],
          "name": "stdout"
        },
        {
          "output_type": "stream",
          "text": [
            "WARNING:root:NaN or Inf found in input tensor.\n",
            "WARNING:root:NaN or Inf found in input tensor.\n",
            "WARNING:root:NaN or Inf found in input tensor.\n",
            "WARNING:root:NaN or Inf found in input tensor.\n",
            "WARNING:root:NaN or Inf found in input tensor.\n",
            "WARNING:root:NaN or Inf found in input tensor.\n"
          ],
          "name": "stderr"
        },
        {
          "output_type": "stream",
          "text": [
            "2016-11-10 00:00:00\n",
            "AAPL\n",
            "pnl: 0.00\n",
            "2016-11-11 00:00:00\n",
            "AAPL\n",
            "pnl: 0.00\n"
          ],
          "name": "stdout"
        },
        {
          "output_type": "stream",
          "text": [
            "WARNING:root:NaN or Inf found in input tensor.\n",
            "WARNING:root:NaN or Inf found in input tensor.\n"
          ],
          "name": "stderr"
        },
        {
          "output_type": "stream",
          "text": [
            "2016-11-14 00:00:00\n",
            "AAPL\n",
            "pnl: 0.00\n",
            "2016-11-15 00:00:00\n",
            "AAPL\n",
            "pnl: 0.00\n"
          ],
          "name": "stdout"
        },
        {
          "output_type": "stream",
          "text": [
            "WARNING:root:NaN or Inf found in input tensor.\n",
            "WARNING:root:NaN or Inf found in input tensor.\n",
            "WARNING:root:NaN or Inf found in input tensor.\n",
            "WARNING:root:NaN or Inf found in input tensor.\n",
            "WARNING:root:NaN or Inf found in input tensor.\n",
            "WARNING:root:NaN or Inf found in input tensor.\n"
          ],
          "name": "stderr"
        },
        {
          "output_type": "stream",
          "text": [
            "2016-11-16 00:00:00\n",
            "AAPL\n",
            "pnl: 0.00\n",
            "2016-11-17 00:00:00\n",
            "AAPL\n",
            "pnl: 0.00\n",
            "2016-11-18 00:00:00\n"
          ],
          "name": "stdout"
        },
        {
          "output_type": "stream",
          "text": [
            "WARNING:root:NaN or Inf found in input tensor.\n",
            "WARNING:root:NaN or Inf found in input tensor.\n",
            "WARNING:root:NaN or Inf found in input tensor.\n",
            "WARNING:root:NaN or Inf found in input tensor.\n"
          ],
          "name": "stderr"
        },
        {
          "output_type": "stream",
          "text": [
            "AAPL\n",
            "pnl: 0.00\n",
            "2016-11-21 00:00:00\n",
            "AAPL\n",
            "pnl: 0.00\n",
            "2016-11-22 00:00:00\n"
          ],
          "name": "stdout"
        },
        {
          "output_type": "stream",
          "text": [
            "WARNING:root:NaN or Inf found in input tensor.\n",
            "WARNING:root:NaN or Inf found in input tensor.\n",
            "WARNING:root:NaN or Inf found in input tensor.\n",
            "WARNING:root:NaN or Inf found in input tensor.\n"
          ],
          "name": "stderr"
        },
        {
          "output_type": "stream",
          "text": [
            "AAPL\n",
            "pnl: 0.00\n",
            "2016-11-23 00:00:00\n",
            "AAPL\n",
            "pnl: 0.00\n",
            "2016-11-24 00:00:00\n",
            "AAPL\n",
            "pnl: 0.00\n"
          ],
          "name": "stdout"
        },
        {
          "output_type": "stream",
          "text": [
            "WARNING:root:NaN or Inf found in input tensor.\n",
            "WARNING:root:NaN or Inf found in input tensor.\n",
            "WARNING:root:NaN or Inf found in input tensor.\n",
            "WARNING:root:NaN or Inf found in input tensor.\n"
          ],
          "name": "stderr"
        },
        {
          "output_type": "stream",
          "text": [
            "2016-11-25 00:00:00\n",
            "AAPL\n",
            "pnl: 0.00\n",
            "2016-11-28 00:00:00\n",
            "AAPL\n",
            "pnl: 0.00\n"
          ],
          "name": "stdout"
        },
        {
          "output_type": "stream",
          "text": [
            "WARNING:root:NaN or Inf found in input tensor.\n",
            "WARNING:root:NaN or Inf found in input tensor.\n",
            "WARNING:root:NaN or Inf found in input tensor.\n",
            "WARNING:root:NaN or Inf found in input tensor.\n"
          ],
          "name": "stderr"
        },
        {
          "output_type": "stream",
          "text": [
            "2016-11-29 00:00:00\n",
            "AAPL\n",
            "pnl: 0.00\n",
            "2016-11-30 00:00:00\n",
            "AAPL\n",
            "pnl: 0.00\n"
          ],
          "name": "stdout"
        },
        {
          "output_type": "stream",
          "text": [
            "WARNING:root:NaN or Inf found in input tensor.\n",
            "WARNING:root:NaN or Inf found in input tensor.\n",
            "WARNING:root:NaN or Inf found in input tensor.\n",
            "WARNING:root:NaN or Inf found in input tensor.\n"
          ],
          "name": "stderr"
        },
        {
          "output_type": "stream",
          "text": [
            "2016-12-01 00:00:00\n",
            "AAPL\n",
            "pnl: 0.00\n",
            "2016-12-02 00:00:00\n"
          ],
          "name": "stdout"
        },
        {
          "output_type": "stream",
          "text": [
            "WARNING:root:NaN or Inf found in input tensor.\n",
            "WARNING:root:NaN or Inf found in input tensor.\n",
            "WARNING:root:NaN or Inf found in input tensor.\n",
            "WARNING:root:NaN or Inf found in input tensor.\n"
          ],
          "name": "stderr"
        },
        {
          "output_type": "stream",
          "text": [
            "AAPL\n",
            "pnl: 0.00\n",
            "2016-12-05 00:00:00\n",
            "AAPL\n",
            "pnl: 0.00\n",
            "2016-12-06 00:00:00\n",
            "AAPL\n",
            "pnl: 0.00\n"
          ],
          "name": "stdout"
        },
        {
          "output_type": "stream",
          "text": [
            "WARNING:root:NaN or Inf found in input tensor.\n",
            "WARNING:root:NaN or Inf found in input tensor.\n",
            "WARNING:root:NaN or Inf found in input tensor.\n",
            "WARNING:root:NaN or Inf found in input tensor.\n"
          ],
          "name": "stderr"
        },
        {
          "output_type": "stream",
          "text": [
            "2016-12-07 00:00:00\n",
            "AAPL\n",
            "pnl: 0.00\n",
            "2016-12-08 00:00:00\n",
            "AAPL\n",
            "pnl: 0.00\n"
          ],
          "name": "stdout"
        },
        {
          "output_type": "stream",
          "text": [
            "WARNING:root:NaN or Inf found in input tensor.\n",
            "WARNING:root:NaN or Inf found in input tensor.\n",
            "WARNING:root:NaN or Inf found in input tensor.\n",
            "WARNING:root:NaN or Inf found in input tensor.\n",
            "WARNING:root:NaN or Inf found in input tensor.\n",
            "WARNING:root:NaN or Inf found in input tensor.\n"
          ],
          "name": "stderr"
        },
        {
          "output_type": "stream",
          "text": [
            "2016-12-09 00:00:00\n",
            "AAPL\n",
            "pnl: 0.00\n",
            "2016-12-12 00:00:00\n",
            "AAPL\n",
            "pnl: 0.00\n",
            "2016-12-13 00:00:00\n"
          ],
          "name": "stdout"
        },
        {
          "output_type": "stream",
          "text": [
            "WARNING:root:NaN or Inf found in input tensor.\n",
            "WARNING:root:NaN or Inf found in input tensor.\n",
            "WARNING:root:NaN or Inf found in input tensor.\n",
            "WARNING:root:NaN or Inf found in input tensor.\n"
          ],
          "name": "stderr"
        },
        {
          "output_type": "stream",
          "text": [
            "AAPL\n",
            "pnl: 0.00\n",
            "2016-12-14 00:00:00\n",
            "AAPL\n",
            "pnl: 0.00\n",
            "2016-12-15 00:00:00\n"
          ],
          "name": "stdout"
        },
        {
          "output_type": "stream",
          "text": [
            "WARNING:root:NaN or Inf found in input tensor.\n",
            "WARNING:root:NaN or Inf found in input tensor.\n",
            "WARNING:root:NaN or Inf found in input tensor.\n",
            "WARNING:root:NaN or Inf found in input tensor.\n"
          ],
          "name": "stderr"
        },
        {
          "output_type": "stream",
          "text": [
            "AAPL\n",
            "pnl: 0.00\n",
            "2016-12-16 00:00:00\n",
            "AAPL\n",
            "pnl: 0.00\n",
            "2016-12-19 00:00:00\n"
          ],
          "name": "stdout"
        },
        {
          "output_type": "stream",
          "text": [
            "WARNING:root:NaN or Inf found in input tensor.\n",
            "WARNING:root:NaN or Inf found in input tensor.\n",
            "WARNING:root:NaN or Inf found in input tensor.\n",
            "WARNING:root:NaN or Inf found in input tensor.\n"
          ],
          "name": "stderr"
        },
        {
          "output_type": "stream",
          "text": [
            "AAPL\n",
            "pnl: 0.00\n",
            "2016-12-20 00:00:00\n",
            "AAPL\n",
            "pnl: 0.00\n",
            "2016-12-21 00:00:00\n"
          ],
          "name": "stdout"
        },
        {
          "output_type": "stream",
          "text": [
            "WARNING:root:NaN or Inf found in input tensor.\n",
            "WARNING:root:NaN or Inf found in input tensor.\n",
            "WARNING:root:NaN or Inf found in input tensor.\n",
            "WARNING:root:NaN or Inf found in input tensor.\n"
          ],
          "name": "stderr"
        },
        {
          "output_type": "stream",
          "text": [
            "AAPL\n",
            "pnl: 0.00\n",
            "2016-12-22 00:00:00\n",
            "AAPL\n",
            "pnl: 0.00\n",
            "2016-12-23 00:00:00\n",
            "AAPL\n",
            "pnl: 0.00\n"
          ],
          "name": "stdout"
        },
        {
          "output_type": "stream",
          "text": [
            "WARNING:root:NaN or Inf found in input tensor.\n",
            "WARNING:root:NaN or Inf found in input tensor.\n",
            "WARNING:root:NaN or Inf found in input tensor.\n",
            "WARNING:root:NaN or Inf found in input tensor.\n"
          ],
          "name": "stderr"
        },
        {
          "output_type": "stream",
          "text": [
            "2016-12-26 00:00:00\n",
            "AAPL\n",
            "pnl: 0.00\n",
            "2016-12-27 00:00:00\n",
            "AAPL\n",
            "pnl: 0.00\n"
          ],
          "name": "stdout"
        },
        {
          "output_type": "stream",
          "text": [
            "WARNING:root:NaN or Inf found in input tensor.\n",
            "WARNING:root:NaN or Inf found in input tensor.\n",
            "WARNING:root:NaN or Inf found in input tensor.\n",
            "WARNING:root:NaN or Inf found in input tensor.\n"
          ],
          "name": "stderr"
        },
        {
          "output_type": "stream",
          "text": [
            "2016-12-28 00:00:00\n",
            "AAPL\n",
            "pnl: 0.00\n",
            "2016-12-29 00:00:00\n",
            "AAPL\n",
            "pnl: 0.00\n"
          ],
          "name": "stdout"
        },
        {
          "output_type": "stream",
          "text": [
            "WARNING:root:NaN or Inf found in input tensor.\n",
            "WARNING:root:NaN or Inf found in input tensor.\n",
            "WARNING:root:NaN or Inf found in input tensor.\n",
            "WARNING:root:NaN or Inf found in input tensor.\n",
            "WARNING:root:NaN or Inf found in input tensor.\n"
          ],
          "name": "stderr"
        },
        {
          "output_type": "stream",
          "text": [
            "2016-12-30 00:00:00\n",
            "AAPL\n",
            "pnl: 0.00\n",
            "2017-01-02 00:00:00\n",
            "AAPL\n",
            "pnl: 0.00\n"
          ],
          "name": "stdout"
        },
        {
          "output_type": "stream",
          "text": [
            "WARNING:root:NaN or Inf found in input tensor.\n",
            "WARNING:root:NaN or Inf found in input tensor.\n",
            "WARNING:root:NaN or Inf found in input tensor.\n"
          ],
          "name": "stderr"
        },
        {
          "output_type": "stream",
          "text": [
            "2017-01-03 00:00:00\n",
            "AAPL\n",
            "pnl: 0.00\n",
            "2017-01-04 00:00:00\n",
            "AAPL\n",
            "pnl: 0.00\n"
          ],
          "name": "stdout"
        },
        {
          "output_type": "stream",
          "text": [
            "WARNING:root:NaN or Inf found in input tensor.\n",
            "WARNING:root:NaN or Inf found in input tensor.\n",
            "WARNING:root:NaN or Inf found in input tensor.\n",
            "WARNING:root:NaN or Inf found in input tensor.\n"
          ],
          "name": "stderr"
        },
        {
          "output_type": "stream",
          "text": [
            "2017-01-05 00:00:00\n",
            "AAPL\n",
            "pnl: 0.00\n",
            "2017-01-06 00:00:00\n",
            "AAPL\n",
            "pnl: 0.00\n"
          ],
          "name": "stdout"
        },
        {
          "output_type": "stream",
          "text": [
            "WARNING:root:NaN or Inf found in input tensor.\n",
            "WARNING:root:NaN or Inf found in input tensor.\n",
            "WARNING:root:NaN or Inf found in input tensor.\n",
            "WARNING:root:NaN or Inf found in input tensor.\n"
          ],
          "name": "stderr"
        },
        {
          "output_type": "stream",
          "text": [
            "2017-01-09 00:00:00\n",
            "AAPL\n",
            "pnl: 0.00\n",
            "2017-01-10 00:00:00\n",
            "AAPL\n",
            "pnl: 0.00\n"
          ],
          "name": "stdout"
        },
        {
          "output_type": "stream",
          "text": [
            "WARNING:root:NaN or Inf found in input tensor.\n",
            "WARNING:root:NaN or Inf found in input tensor.\n",
            "WARNING:root:NaN or Inf found in input tensor.\n",
            "WARNING:root:NaN or Inf found in input tensor.\n"
          ],
          "name": "stderr"
        },
        {
          "output_type": "stream",
          "text": [
            "2017-01-11 00:00:00\n",
            "AAPL\n",
            "pnl: 0.00\n",
            "2017-01-12 00:00:00\n",
            "AAPL\n",
            "pnl: 0.00\n"
          ],
          "name": "stdout"
        },
        {
          "output_type": "stream",
          "text": [
            "WARNING:root:NaN or Inf found in input tensor.\n",
            "WARNING:root:NaN or Inf found in input tensor.\n",
            "WARNING:root:NaN or Inf found in input tensor.\n",
            "WARNING:root:NaN or Inf found in input tensor.\n"
          ],
          "name": "stderr"
        },
        {
          "output_type": "stream",
          "text": [
            "2017-01-13 00:00:00\n",
            "AAPL\n",
            "pnl: 0.00\n",
            "2017-01-16 00:00:00\n",
            "AAPL\n",
            "pnl: 0.00\n"
          ],
          "name": "stdout"
        },
        {
          "output_type": "stream",
          "text": [
            "WARNING:root:NaN or Inf found in input tensor.\n",
            "WARNING:root:NaN or Inf found in input tensor.\n",
            "WARNING:root:NaN or Inf found in input tensor.\n",
            "WARNING:root:NaN or Inf found in input tensor.\n"
          ],
          "name": "stderr"
        },
        {
          "output_type": "stream",
          "text": [
            "2017-01-17 00:00:00\n",
            "AAPL\n",
            "pnl: 0.00\n",
            "2017-01-18 00:00:00\n",
            "AAPL\n",
            "pnl: 0.00\n"
          ],
          "name": "stdout"
        },
        {
          "output_type": "stream",
          "text": [
            "WARNING:root:NaN or Inf found in input tensor.\n",
            "WARNING:root:NaN or Inf found in input tensor.\n",
            "WARNING:root:NaN or Inf found in input tensor.\n",
            "WARNING:root:NaN or Inf found in input tensor.\n"
          ],
          "name": "stderr"
        },
        {
          "output_type": "stream",
          "text": [
            "2017-01-19 00:00:00\n",
            "AAPL\n",
            "pnl: 0.00\n",
            "2017-01-20 00:00:00\n",
            "AAPL\n",
            "pnl: 0.00\n"
          ],
          "name": "stdout"
        },
        {
          "output_type": "stream",
          "text": [
            "WARNING:root:NaN or Inf found in input tensor.\n",
            "WARNING:root:NaN or Inf found in input tensor.\n",
            "WARNING:root:NaN or Inf found in input tensor.\n",
            "WARNING:root:NaN or Inf found in input tensor.\n"
          ],
          "name": "stderr"
        },
        {
          "output_type": "stream",
          "text": [
            "2017-01-23 00:00:00\n",
            "AAPL\n",
            "pnl: 0.00\n",
            "2017-01-24 00:00:00\n",
            "AAPL\n",
            "pnl: 0.00\n"
          ],
          "name": "stdout"
        },
        {
          "output_type": "stream",
          "text": [
            "WARNING:root:NaN or Inf found in input tensor.\n",
            "WARNING:root:NaN or Inf found in input tensor.\n",
            "WARNING:root:NaN or Inf found in input tensor.\n",
            "WARNING:root:NaN or Inf found in input tensor.\n"
          ],
          "name": "stderr"
        },
        {
          "output_type": "stream",
          "text": [
            "2017-01-25 00:00:00\n",
            "AAPL\n",
            "pnl: 0.00\n",
            "2017-01-26 00:00:00\n",
            "AAPL\n",
            "pnl: 0.00\n"
          ],
          "name": "stdout"
        },
        {
          "output_type": "stream",
          "text": [
            "WARNING:root:NaN or Inf found in input tensor.\n",
            "WARNING:root:NaN or Inf found in input tensor.\n",
            "WARNING:root:NaN or Inf found in input tensor.\n",
            "WARNING:root:NaN or Inf found in input tensor.\n"
          ],
          "name": "stderr"
        },
        {
          "output_type": "stream",
          "text": [
            "2017-01-27 00:00:00\n",
            "AAPL\n",
            "pnl: 0.00\n",
            "2017-01-30 00:00:00\n"
          ],
          "name": "stdout"
        },
        {
          "output_type": "stream",
          "text": [
            "WARNING:root:NaN or Inf found in input tensor.\n",
            "WARNING:root:NaN or Inf found in input tensor.\n",
            "WARNING:root:NaN or Inf found in input tensor.\n",
            "WARNING:root:NaN or Inf found in input tensor.\n"
          ],
          "name": "stderr"
        },
        {
          "output_type": "stream",
          "text": [
            "AAPL\n",
            "pnl: 0.00\n",
            "2017-01-31 00:00:00\n",
            "AAPL\n",
            "pnl: 0.00\n",
            "2017-02-01 00:00:00\n"
          ],
          "name": "stdout"
        },
        {
          "output_type": "stream",
          "text": [
            "WARNING:root:NaN or Inf found in input tensor.\n",
            "WARNING:root:NaN or Inf found in input tensor.\n",
            "WARNING:root:NaN or Inf found in input tensor.\n",
            "WARNING:root:NaN or Inf found in input tensor.\n"
          ],
          "name": "stderr"
        },
        {
          "output_type": "stream",
          "text": [
            "AAPL\n",
            "pnl: 0.00\n",
            "2017-02-02 00:00:00\n",
            "AAPL\n",
            "pnl: 0.00\n",
            "2017-02-03 00:00:00\n",
            "AAPL\n",
            "pnl: 0.00\n"
          ],
          "name": "stdout"
        },
        {
          "output_type": "stream",
          "text": [
            "WARNING:root:NaN or Inf found in input tensor.\n",
            "WARNING:root:NaN or Inf found in input tensor.\n",
            "WARNING:root:NaN or Inf found in input tensor.\n",
            "WARNING:root:NaN or Inf found in input tensor.\n"
          ],
          "name": "stderr"
        },
        {
          "output_type": "stream",
          "text": [
            "2017-02-06 00:00:00\n",
            "AAPL\n",
            "pnl: 0.00\n",
            "2017-02-07 00:00:00\n",
            "AAPL\n",
            "pnl: 0.00\n"
          ],
          "name": "stdout"
        },
        {
          "output_type": "stream",
          "text": [
            "WARNING:root:NaN or Inf found in input tensor.\n",
            "WARNING:root:NaN or Inf found in input tensor.\n",
            "WARNING:root:NaN or Inf found in input tensor.\n",
            "WARNING:root:NaN or Inf found in input tensor.\n"
          ],
          "name": "stderr"
        },
        {
          "output_type": "stream",
          "text": [
            "2017-02-08 00:00:00\n",
            "AAPL\n",
            "pnl: 0.00\n",
            "2017-02-09 00:00:00\n",
            "AAPL\n",
            "pnl: 0.00\n"
          ],
          "name": "stdout"
        },
        {
          "output_type": "stream",
          "text": [
            "WARNING:root:NaN or Inf found in input tensor.\n",
            "WARNING:root:NaN or Inf found in input tensor.\n",
            "WARNING:root:NaN or Inf found in input tensor.\n",
            "WARNING:root:NaN or Inf found in input tensor.\n"
          ],
          "name": "stderr"
        },
        {
          "output_type": "stream",
          "text": [
            "2017-02-10 00:00:00\n",
            "AAPL\n",
            "pnl: 0.00\n",
            "2017-02-13 00:00:00\n",
            "AAPL\n",
            "pnl: 0.00\n"
          ],
          "name": "stdout"
        },
        {
          "output_type": "stream",
          "text": [
            "WARNING:root:NaN or Inf found in input tensor.\n",
            "WARNING:root:NaN or Inf found in input tensor.\n",
            "WARNING:root:NaN or Inf found in input tensor.\n",
            "WARNING:root:NaN or Inf found in input tensor.\n",
            "WARNING:root:NaN or Inf found in input tensor.\n"
          ],
          "name": "stderr"
        },
        {
          "output_type": "stream",
          "text": [
            "2017-02-14 00:00:00\n",
            "AAPL\n",
            "pnl: 0.00\n",
            "2017-02-15 00:00:00\n",
            "AAPL\n",
            "pnl: 0.00\n"
          ],
          "name": "stdout"
        },
        {
          "output_type": "stream",
          "text": [
            "WARNING:root:NaN or Inf found in input tensor.\n",
            "WARNING:root:NaN or Inf found in input tensor.\n",
            "WARNING:root:NaN or Inf found in input tensor.\n"
          ],
          "name": "stderr"
        },
        {
          "output_type": "stream",
          "text": [
            "2017-02-16 00:00:00\n",
            "AAPL\n",
            "pnl: 0.00\n",
            "2017-02-17 00:00:00\n",
            "AAPL\n",
            "pnl: 0.00\n"
          ],
          "name": "stdout"
        },
        {
          "output_type": "stream",
          "text": [
            "WARNING:root:NaN or Inf found in input tensor.\n",
            "WARNING:root:NaN or Inf found in input tensor.\n",
            "WARNING:root:NaN or Inf found in input tensor.\n",
            "WARNING:root:NaN or Inf found in input tensor.\n"
          ],
          "name": "stderr"
        },
        {
          "output_type": "stream",
          "text": [
            "2017-02-20 00:00:00\n",
            "AAPL\n",
            "pnl: 0.00\n",
            "2017-02-21 00:00:00\n",
            "AAPL\n",
            "pnl: 0.00\n"
          ],
          "name": "stdout"
        },
        {
          "output_type": "stream",
          "text": [
            "WARNING:root:NaN or Inf found in input tensor.\n",
            "WARNING:root:NaN or Inf found in input tensor.\n",
            "WARNING:root:NaN or Inf found in input tensor.\n",
            "WARNING:root:NaN or Inf found in input tensor.\n",
            "WARNING:root:NaN or Inf found in input tensor.\n",
            "WARNING:root:NaN or Inf found in input tensor.\n"
          ],
          "name": "stderr"
        },
        {
          "output_type": "stream",
          "text": [
            "2017-02-22 00:00:00\n",
            "AAPL\n",
            "pnl: 0.00\n",
            "2017-02-23 00:00:00\n",
            "AAPL\n",
            "pnl: 0.00\n"
          ],
          "name": "stdout"
        },
        {
          "output_type": "stream",
          "text": [
            "WARNING:root:NaN or Inf found in input tensor.\n",
            "WARNING:root:NaN or Inf found in input tensor.\n",
            "WARNING:root:NaN or Inf found in input tensor.\n",
            "WARNING:root:NaN or Inf found in input tensor.\n"
          ],
          "name": "stderr"
        },
        {
          "output_type": "stream",
          "text": [
            "2017-02-24 00:00:00\n",
            "AAPL\n",
            "pnl: 0.00\n",
            "2017-02-27 00:00:00\n",
            "AAPL\n",
            "pnl: 0.00\n",
            "2017-02-28 00:00:00\n",
            "AAPL\n",
            "pnl: 0.00\n"
          ],
          "name": "stdout"
        },
        {
          "output_type": "stream",
          "text": [
            "WARNING:root:NaN or Inf found in input tensor.\n",
            "WARNING:root:NaN or Inf found in input tensor.\n",
            "WARNING:root:NaN or Inf found in input tensor.\n",
            "WARNING:root:NaN or Inf found in input tensor.\n"
          ],
          "name": "stderr"
        },
        {
          "output_type": "stream",
          "text": [
            "2017-03-01 00:00:00\n",
            "AAPL\n",
            "pnl: 0.00\n",
            "2017-03-02 00:00:00\n",
            "AAPL\n",
            "pnl: 0.00\n"
          ],
          "name": "stdout"
        },
        {
          "output_type": "stream",
          "text": [
            "WARNING:root:NaN or Inf found in input tensor.\n",
            "WARNING:root:NaN or Inf found in input tensor.\n",
            "WARNING:root:NaN or Inf found in input tensor.\n",
            "WARNING:root:NaN or Inf found in input tensor.\n"
          ],
          "name": "stderr"
        },
        {
          "output_type": "stream",
          "text": [
            "2017-03-03 00:00:00\n",
            "AAPL\n",
            "pnl: 0.00\n",
            "2017-03-06 00:00:00\n",
            "AAPL\n",
            "pnl: 0.00\n"
          ],
          "name": "stdout"
        },
        {
          "output_type": "stream",
          "text": [
            "WARNING:root:NaN or Inf found in input tensor.\n",
            "WARNING:root:NaN or Inf found in input tensor.\n",
            "WARNING:root:NaN or Inf found in input tensor.\n",
            "WARNING:root:NaN or Inf found in input tensor.\n"
          ],
          "name": "stderr"
        },
        {
          "output_type": "stream",
          "text": [
            "2017-03-07 00:00:00\n",
            "AAPL\n",
            "pnl: 0.00\n",
            "2017-03-08 00:00:00\n",
            "AAPL\n",
            "pnl: 0.00\n"
          ],
          "name": "stdout"
        },
        {
          "output_type": "stream",
          "text": [
            "WARNING:root:NaN or Inf found in input tensor.\n",
            "WARNING:root:NaN or Inf found in input tensor.\n",
            "WARNING:root:NaN or Inf found in input tensor.\n",
            "WARNING:root:NaN or Inf found in input tensor.\n"
          ],
          "name": "stderr"
        },
        {
          "output_type": "stream",
          "text": [
            "2017-03-09 00:00:00\n",
            "AAPL\n",
            "pnl: 0.00\n",
            "2017-03-10 00:00:00\n",
            "AAPL\n",
            "pnl: 0.00\n"
          ],
          "name": "stdout"
        },
        {
          "output_type": "stream",
          "text": [
            "WARNING:root:NaN or Inf found in input tensor.\n",
            "WARNING:root:NaN or Inf found in input tensor.\n",
            "WARNING:root:NaN or Inf found in input tensor.\n",
            "WARNING:root:NaN or Inf found in input tensor.\n",
            "WARNING:root:NaN or Inf found in input tensor.\n"
          ],
          "name": "stderr"
        },
        {
          "output_type": "stream",
          "text": [
            "2017-03-13 00:00:00\n",
            "AAPL\n",
            "pnl: 0.00\n",
            "2017-03-14 00:00:00\n",
            "AAPL\n",
            "pnl: 0.00\n"
          ],
          "name": "stdout"
        },
        {
          "output_type": "stream",
          "text": [
            "WARNING:root:NaN or Inf found in input tensor.\n",
            "WARNING:root:NaN or Inf found in input tensor.\n",
            "WARNING:root:NaN or Inf found in input tensor.\n",
            "WARNING:root:NaN or Inf found in input tensor.\n",
            "WARNING:root:NaN or Inf found in input tensor.\n"
          ],
          "name": "stderr"
        },
        {
          "output_type": "stream",
          "text": [
            "2017-03-15 00:00:00\n",
            "AAPL\n",
            "pnl: 0.00\n",
            "2017-03-16 00:00:00\n",
            "AAPL\n",
            "pnl: 0.00\n"
          ],
          "name": "stdout"
        },
        {
          "output_type": "stream",
          "text": [
            "WARNING:root:NaN or Inf found in input tensor.\n",
            "WARNING:root:NaN or Inf found in input tensor.\n"
          ],
          "name": "stderr"
        },
        {
          "output_type": "stream",
          "text": [
            "2017-03-17 00:00:00\n",
            "AAPL\n",
            "pnl: 0.00\n",
            "2017-03-20 00:00:00\n",
            "AAPL\n",
            "pnl: 0.00\n"
          ],
          "name": "stdout"
        },
        {
          "output_type": "stream",
          "text": [
            "WARNING:root:NaN or Inf found in input tensor.\n",
            "WARNING:root:NaN or Inf found in input tensor.\n",
            "WARNING:root:NaN or Inf found in input tensor.\n",
            "WARNING:root:NaN or Inf found in input tensor.\n"
          ],
          "name": "stderr"
        },
        {
          "output_type": "stream",
          "text": [
            "2017-03-21 00:00:00\n",
            "AAPL\n",
            "pnl: 0.00\n",
            "2017-03-22 00:00:00\n",
            "AAPL\n",
            "pnl: 0.00\n"
          ],
          "name": "stdout"
        },
        {
          "output_type": "stream",
          "text": [
            "WARNING:root:NaN or Inf found in input tensor.\n",
            "WARNING:root:NaN or Inf found in input tensor.\n",
            "WARNING:root:NaN or Inf found in input tensor.\n",
            "WARNING:root:NaN or Inf found in input tensor.\n"
          ],
          "name": "stderr"
        },
        {
          "output_type": "stream",
          "text": [
            "2017-03-23 00:00:00\n",
            "AAPL\n",
            "pnl: 0.00\n",
            "2017-03-24 00:00:00\n",
            "AAPL\n",
            "pnl: 0.00\n"
          ],
          "name": "stdout"
        },
        {
          "output_type": "stream",
          "text": [
            "WARNING:root:NaN or Inf found in input tensor.\n",
            "WARNING:root:NaN or Inf found in input tensor.\n",
            "WARNING:root:NaN or Inf found in input tensor.\n",
            "WARNING:root:NaN or Inf found in input tensor.\n",
            "WARNING:root:NaN or Inf found in input tensor.\n"
          ],
          "name": "stderr"
        },
        {
          "output_type": "stream",
          "text": [
            "2017-03-27 00:00:00\n",
            "AAPL\n",
            "pnl: 0.00\n",
            "2017-03-28 00:00:00\n",
            "AAPL\n",
            "pnl: 0.00\n"
          ],
          "name": "stdout"
        },
        {
          "output_type": "stream",
          "text": [
            "WARNING:root:NaN or Inf found in input tensor.\n",
            "WARNING:root:NaN or Inf found in input tensor.\n",
            "WARNING:root:NaN or Inf found in input tensor.\n"
          ],
          "name": "stderr"
        },
        {
          "output_type": "stream",
          "text": [
            "2017-03-29 00:00:00\n",
            "AAPL\n",
            "pnl: 0.00\n",
            "2017-03-30 00:00:00\n",
            "AAPL\n",
            "pnl: 0.00\n"
          ],
          "name": "stdout"
        },
        {
          "output_type": "stream",
          "text": [
            "WARNING:root:NaN or Inf found in input tensor.\n",
            "WARNING:root:NaN or Inf found in input tensor.\n",
            "WARNING:root:NaN or Inf found in input tensor.\n",
            "WARNING:root:NaN or Inf found in input tensor.\n",
            "WARNING:root:NaN or Inf found in input tensor.\n",
            "WARNING:root:NaN or Inf found in input tensor.\n"
          ],
          "name": "stderr"
        },
        {
          "output_type": "stream",
          "text": [
            "2017-03-31 00:00:00\n",
            "AAPL\n",
            "pnl: 0.00\n",
            "2017-04-03 00:00:00\n",
            "AAPL\n",
            "pnl: 0.00\n"
          ],
          "name": "stdout"
        },
        {
          "output_type": "stream",
          "text": [
            "WARNING:root:NaN or Inf found in input tensor.\n",
            "WARNING:root:NaN or Inf found in input tensor.\n"
          ],
          "name": "stderr"
        },
        {
          "output_type": "stream",
          "text": [
            "2017-04-04 00:00:00\n",
            "AAPL\n",
            "pnl: 0.00\n",
            "2017-04-05 00:00:00\n",
            "AAPL\n",
            "pnl: 0.00\n"
          ],
          "name": "stdout"
        },
        {
          "output_type": "stream",
          "text": [
            "WARNING:root:NaN or Inf found in input tensor.\n",
            "WARNING:root:NaN or Inf found in input tensor.\n",
            "WARNING:root:NaN or Inf found in input tensor.\n",
            "WARNING:root:NaN or Inf found in input tensor.\n"
          ],
          "name": "stderr"
        },
        {
          "output_type": "stream",
          "text": [
            "2017-04-06 00:00:00\n",
            "AAPL\n",
            "pnl: 0.00\n",
            "2017-04-07 00:00:00\n",
            "AAPL\n",
            "pnl: 0.00\n"
          ],
          "name": "stdout"
        },
        {
          "output_type": "stream",
          "text": [
            "WARNING:root:NaN or Inf found in input tensor.\n",
            "WARNING:root:NaN or Inf found in input tensor.\n",
            "WARNING:root:NaN or Inf found in input tensor.\n",
            "WARNING:root:NaN or Inf found in input tensor.\n"
          ],
          "name": "stderr"
        },
        {
          "output_type": "stream",
          "text": [
            "2017-04-10 00:00:00\n",
            "AAPL\n",
            "pnl: 0.00\n",
            "2017-04-11 00:00:00\n",
            "AAPL\n",
            "pnl: 0.00\n"
          ],
          "name": "stdout"
        },
        {
          "output_type": "stream",
          "text": [
            "WARNING:root:NaN or Inf found in input tensor.\n",
            "WARNING:root:NaN or Inf found in input tensor.\n",
            "WARNING:root:NaN or Inf found in input tensor.\n",
            "WARNING:root:NaN or Inf found in input tensor.\n"
          ],
          "name": "stderr"
        },
        {
          "output_type": "stream",
          "text": [
            "2017-04-12 00:00:00\n",
            "AAPL\n",
            "pnl: 0.00\n",
            "2017-04-13 00:00:00\n",
            "AAPL\n",
            "pnl: 0.00\n"
          ],
          "name": "stdout"
        },
        {
          "output_type": "stream",
          "text": [
            "WARNING:root:NaN or Inf found in input tensor.\n",
            "WARNING:root:NaN or Inf found in input tensor.\n",
            "WARNING:root:NaN or Inf found in input tensor.\n",
            "WARNING:root:NaN or Inf found in input tensor.\n"
          ],
          "name": "stderr"
        },
        {
          "output_type": "stream",
          "text": [
            "2017-04-14 00:00:00\n",
            "AAPL\n",
            "pnl: 0.00\n",
            "2017-04-17 00:00:00\n",
            "AAPL\n",
            "pnl: 0.00\n"
          ],
          "name": "stdout"
        },
        {
          "output_type": "stream",
          "text": [
            "WARNING:root:NaN or Inf found in input tensor.\n",
            "WARNING:root:NaN or Inf found in input tensor.\n",
            "WARNING:root:NaN or Inf found in input tensor.\n",
            "WARNING:root:NaN or Inf found in input tensor.\n"
          ],
          "name": "stderr"
        },
        {
          "output_type": "stream",
          "text": [
            "2017-04-18 00:00:00\n",
            "AAPL\n",
            "pnl: 0.00\n",
            "2017-04-19 00:00:00\n",
            "AAPL\n",
            "pnl: 0.00\n"
          ],
          "name": "stdout"
        },
        {
          "output_type": "stream",
          "text": [
            "WARNING:root:NaN or Inf found in input tensor.\n",
            "WARNING:root:NaN or Inf found in input tensor.\n",
            "WARNING:root:NaN or Inf found in input tensor.\n",
            "WARNING:root:NaN or Inf found in input tensor.\n",
            "WARNING:root:NaN or Inf found in input tensor.\n",
            "WARNING:root:NaN or Inf found in input tensor.\n"
          ],
          "name": "stderr"
        },
        {
          "output_type": "stream",
          "text": [
            "2017-04-20 00:00:00\n",
            "AAPL\n",
            "pnl: 0.00\n",
            "2017-04-21 00:00:00\n",
            "AAPL\n",
            "pnl: 0.00\n",
            "2017-04-24 00:00:00\n"
          ],
          "name": "stdout"
        },
        {
          "output_type": "stream",
          "text": [
            "WARNING:root:NaN or Inf found in input tensor.\n",
            "WARNING:root:NaN or Inf found in input tensor.\n",
            "WARNING:root:NaN or Inf found in input tensor.\n",
            "WARNING:root:NaN or Inf found in input tensor.\n"
          ],
          "name": "stderr"
        },
        {
          "output_type": "stream",
          "text": [
            "AAPL\n",
            "pnl: 0.00\n",
            "2017-04-25 00:00:00\n",
            "AAPL\n",
            "pnl: 0.00\n",
            "2017-04-26 00:00:00\n"
          ],
          "name": "stdout"
        },
        {
          "output_type": "stream",
          "text": [
            "WARNING:root:NaN or Inf found in input tensor.\n",
            "WARNING:root:NaN or Inf found in input tensor.\n",
            "WARNING:root:NaN or Inf found in input tensor.\n",
            "WARNING:root:NaN or Inf found in input tensor.\n"
          ],
          "name": "stderr"
        },
        {
          "output_type": "stream",
          "text": [
            "AAPL\n",
            "pnl: 0.00\n",
            "2017-04-27 00:00:00\n",
            "AAPL\n",
            "pnl: 0.00\n",
            "2017-04-28 00:00:00\n",
            "AAPL\n",
            "pnl: 0.00\n"
          ],
          "name": "stdout"
        },
        {
          "output_type": "stream",
          "text": [
            "WARNING:root:NaN or Inf found in input tensor.\n",
            "WARNING:root:NaN or Inf found in input tensor.\n",
            "WARNING:root:NaN or Inf found in input tensor.\n",
            "WARNING:root:NaN or Inf found in input tensor.\n"
          ],
          "name": "stderr"
        },
        {
          "output_type": "stream",
          "text": [
            "2017-05-01 00:00:00\n",
            "AAPL\n",
            "pnl: 0.00\n",
            "2017-05-02 00:00:00\n",
            "AAPL\n",
            "pnl: 0.00\n"
          ],
          "name": "stdout"
        },
        {
          "output_type": "stream",
          "text": [
            "WARNING:root:NaN or Inf found in input tensor.\n",
            "WARNING:root:NaN or Inf found in input tensor.\n",
            "WARNING:root:NaN or Inf found in input tensor.\n",
            "WARNING:root:NaN or Inf found in input tensor.\n"
          ],
          "name": "stderr"
        },
        {
          "output_type": "stream",
          "text": [
            "2017-05-03 00:00:00\n",
            "AAPL\n",
            "pnl: 0.00\n",
            "2017-05-04 00:00:00\n",
            "AAPL\n",
            "pnl: 0.00\n"
          ],
          "name": "stdout"
        },
        {
          "output_type": "stream",
          "text": [
            "WARNING:root:NaN or Inf found in input tensor.\n",
            "WARNING:root:NaN or Inf found in input tensor.\n",
            "WARNING:root:NaN or Inf found in input tensor.\n",
            "WARNING:root:NaN or Inf found in input tensor.\n"
          ],
          "name": "stderr"
        },
        {
          "output_type": "stream",
          "text": [
            "2017-05-05 00:00:00\n",
            "AAPL\n",
            "pnl: 0.00\n",
            "2017-05-08 00:00:00\n",
            "AAPL\n",
            "pnl: 0.00\n"
          ],
          "name": "stdout"
        },
        {
          "output_type": "stream",
          "text": [
            "WARNING:root:NaN or Inf found in input tensor.\n",
            "WARNING:root:NaN or Inf found in input tensor.\n",
            "WARNING:root:NaN or Inf found in input tensor.\n",
            "WARNING:root:NaN or Inf found in input tensor.\n"
          ],
          "name": "stderr"
        },
        {
          "output_type": "stream",
          "text": [
            "2017-05-09 00:00:00\n",
            "AAPL\n",
            "pnl: 0.00\n",
            "2017-05-10 00:00:00\n",
            "AAPL\n",
            "pnl: 0.00\n"
          ],
          "name": "stdout"
        },
        {
          "output_type": "stream",
          "text": [
            "WARNING:root:NaN or Inf found in input tensor.\n",
            "WARNING:root:NaN or Inf found in input tensor.\n",
            "WARNING:root:NaN or Inf found in input tensor.\n",
            "WARNING:root:NaN or Inf found in input tensor.\n"
          ],
          "name": "stderr"
        },
        {
          "output_type": "stream",
          "text": [
            "2017-05-11 00:00:00\n",
            "AAPL\n",
            "pnl: 0.00\n",
            "2017-05-12 00:00:00\n",
            "AAPL\n",
            "pnl: 0.00\n"
          ],
          "name": "stdout"
        },
        {
          "output_type": "stream",
          "text": [
            "WARNING:root:NaN or Inf found in input tensor.\n",
            "WARNING:root:NaN or Inf found in input tensor.\n",
            "WARNING:root:NaN or Inf found in input tensor.\n",
            "WARNING:root:NaN or Inf found in input tensor.\n"
          ],
          "name": "stderr"
        },
        {
          "output_type": "stream",
          "text": [
            "2017-05-15 00:00:00\n",
            "AAPL\n",
            "pnl: 0.00\n",
            "2017-05-16 00:00:00\n",
            "AAPL\n",
            "pnl: 0.00\n"
          ],
          "name": "stdout"
        },
        {
          "output_type": "stream",
          "text": [
            "WARNING:root:NaN or Inf found in input tensor.\n",
            "WARNING:root:NaN or Inf found in input tensor.\n",
            "WARNING:root:NaN or Inf found in input tensor.\n",
            "WARNING:root:NaN or Inf found in input tensor.\n"
          ],
          "name": "stderr"
        },
        {
          "output_type": "stream",
          "text": [
            "2017-05-17 00:00:00\n",
            "AAPL\n",
            "pnl: 0.00\n",
            "2017-05-18 00:00:00\n",
            "AAPL\n",
            "pnl: 0.00\n"
          ],
          "name": "stdout"
        },
        {
          "output_type": "stream",
          "text": [
            "WARNING:root:NaN or Inf found in input tensor.\n",
            "WARNING:root:NaN or Inf found in input tensor.\n",
            "WARNING:root:NaN or Inf found in input tensor.\n",
            "WARNING:root:NaN or Inf found in input tensor.\n"
          ],
          "name": "stderr"
        },
        {
          "output_type": "stream",
          "text": [
            "2017-05-19 00:00:00\n",
            "AAPL\n",
            "pnl: 0.00\n",
            "2017-05-22 00:00:00\n",
            "AAPL\n",
            "pnl: 0.00\n"
          ],
          "name": "stdout"
        },
        {
          "output_type": "stream",
          "text": [
            "WARNING:root:NaN or Inf found in input tensor.\n",
            "WARNING:root:NaN or Inf found in input tensor.\n",
            "WARNING:root:NaN or Inf found in input tensor.\n",
            "WARNING:root:NaN or Inf found in input tensor.\n"
          ],
          "name": "stderr"
        },
        {
          "output_type": "stream",
          "text": [
            "2017-05-23 00:00:00\n",
            "AAPL\n",
            "pnl: 0.00\n",
            "2017-05-24 00:00:00\n",
            "AAPL\n",
            "pnl: 0.00\n"
          ],
          "name": "stdout"
        },
        {
          "output_type": "stream",
          "text": [
            "WARNING:root:NaN or Inf found in input tensor.\n",
            "WARNING:root:NaN or Inf found in input tensor.\n",
            "WARNING:root:NaN or Inf found in input tensor.\n",
            "WARNING:root:NaN or Inf found in input tensor.\n",
            "WARNING:root:NaN or Inf found in input tensor.\n",
            "WARNING:root:NaN or Inf found in input tensor.\n"
          ],
          "name": "stderr"
        },
        {
          "output_type": "stream",
          "text": [
            "2017-05-25 00:00:00\n",
            "AAPL\n",
            "pnl: 0.00\n",
            "2017-05-26 00:00:00\n",
            "AAPL\n",
            "pnl: 0.00\n",
            "2017-05-29 00:00:00\n"
          ],
          "name": "stdout"
        },
        {
          "output_type": "stream",
          "text": [
            "WARNING:root:NaN or Inf found in input tensor.\n",
            "WARNING:root:NaN or Inf found in input tensor.\n",
            "WARNING:root:NaN or Inf found in input tensor.\n",
            "WARNING:root:NaN or Inf found in input tensor.\n"
          ],
          "name": "stderr"
        },
        {
          "output_type": "stream",
          "text": [
            "AAPL\n",
            "pnl: 0.00\n",
            "2017-05-30 00:00:00\n",
            "AAPL\n",
            "pnl: 0.00\n",
            "2017-05-31 00:00:00\n"
          ],
          "name": "stdout"
        },
        {
          "output_type": "stream",
          "text": [
            "WARNING:root:NaN or Inf found in input tensor.\n",
            "WARNING:root:NaN or Inf found in input tensor.\n",
            "WARNING:root:NaN or Inf found in input tensor.\n",
            "WARNING:root:NaN or Inf found in input tensor.\n"
          ],
          "name": "stderr"
        },
        {
          "output_type": "stream",
          "text": [
            "AAPL\n",
            "pnl: 0.00\n",
            "2017-06-01 00:00:00\n",
            "AAPL\n",
            "pnl: 0.00\n",
            "2017-06-02 00:00:00\n",
            "AAPL\n",
            "pnl: 0.00\n"
          ],
          "name": "stdout"
        },
        {
          "output_type": "stream",
          "text": [
            "WARNING:root:NaN or Inf found in input tensor.\n",
            "WARNING:root:NaN or Inf found in input tensor.\n",
            "WARNING:root:NaN or Inf found in input tensor.\n",
            "WARNING:root:NaN or Inf found in input tensor.\n",
            "WARNING:root:NaN or Inf found in input tensor.\n"
          ],
          "name": "stderr"
        },
        {
          "output_type": "stream",
          "text": [
            "2017-06-05 00:00:00\n",
            "AAPL\n",
            "pnl: 0.00\n",
            "2017-06-06 00:00:00\n",
            "AAPL\n",
            "pnl: 0.00\n"
          ],
          "name": "stdout"
        },
        {
          "output_type": "stream",
          "text": [
            "WARNING:root:NaN or Inf found in input tensor.\n",
            "WARNING:root:NaN or Inf found in input tensor.\n",
            "WARNING:root:NaN or Inf found in input tensor.\n",
            "WARNING:root:NaN or Inf found in input tensor.\n",
            "WARNING:root:NaN or Inf found in input tensor.\n"
          ],
          "name": "stderr"
        },
        {
          "output_type": "stream",
          "text": [
            "2017-06-07 00:00:00\n",
            "AAPL\n",
            "pnl: 0.00\n",
            "2017-06-08 00:00:00\n",
            "AAPL\n",
            "pnl: 0.00\n",
            "2017-06-09 00:00:00\n",
            "AAPL\n",
            "pnl: 0.00\n"
          ],
          "name": "stdout"
        },
        {
          "output_type": "stream",
          "text": [
            "WARNING:root:NaN or Inf found in input tensor.\n",
            "WARNING:root:NaN or Inf found in input tensor.\n",
            "WARNING:root:NaN or Inf found in input tensor.\n",
            "WARNING:root:NaN or Inf found in input tensor.\n"
          ],
          "name": "stderr"
        },
        {
          "output_type": "stream",
          "text": [
            "2017-06-12 00:00:00\n",
            "AAPL\n",
            "pnl: 0.00\n",
            "2017-06-13 00:00:00\n",
            "AAPL\n",
            "pnl: 0.00\n"
          ],
          "name": "stdout"
        },
        {
          "output_type": "stream",
          "text": [
            "WARNING:root:NaN or Inf found in input tensor.\n",
            "WARNING:root:NaN or Inf found in input tensor.\n",
            "WARNING:root:NaN or Inf found in input tensor.\n",
            "WARNING:root:NaN or Inf found in input tensor.\n"
          ],
          "name": "stderr"
        },
        {
          "output_type": "stream",
          "text": [
            "2017-06-14 00:00:00\n",
            "AAPL\n",
            "pnl: 0.00\n",
            "2017-06-15 00:00:00\n",
            "AAPL\n",
            "pnl: 0.00\n"
          ],
          "name": "stdout"
        },
        {
          "output_type": "stream",
          "text": [
            "WARNING:root:NaN or Inf found in input tensor.\n",
            "WARNING:root:NaN or Inf found in input tensor.\n",
            "WARNING:root:NaN or Inf found in input tensor.\n",
            "WARNING:root:NaN or Inf found in input tensor.\n",
            "WARNING:root:NaN or Inf found in input tensor.\n",
            "WARNING:root:NaN or Inf found in input tensor.\n"
          ],
          "name": "stderr"
        },
        {
          "output_type": "stream",
          "text": [
            "2017-06-16 00:00:00\n",
            "AAPL\n",
            "pnl: 0.00\n",
            "2017-06-19 00:00:00\n",
            "AAPL\n",
            "pnl: 0.00\n"
          ],
          "name": "stdout"
        },
        {
          "output_type": "stream",
          "text": [
            "WARNING:root:NaN or Inf found in input tensor.\n",
            "WARNING:root:NaN or Inf found in input tensor.\n"
          ],
          "name": "stderr"
        },
        {
          "output_type": "stream",
          "text": [
            "2017-06-20 00:00:00\n",
            "AAPL\n",
            "pnl: 0.00\n",
            "2017-06-21 00:00:00\n",
            "AAPL\n",
            "pnl: 0.00\n"
          ],
          "name": "stdout"
        },
        {
          "output_type": "stream",
          "text": [
            "WARNING:root:NaN or Inf found in input tensor.\n",
            "WARNING:root:NaN or Inf found in input tensor.\n",
            "WARNING:root:NaN or Inf found in input tensor.\n",
            "WARNING:root:NaN or Inf found in input tensor.\n"
          ],
          "name": "stderr"
        },
        {
          "output_type": "stream",
          "text": [
            "2017-06-22 00:00:00\n",
            "AAPL\n",
            "pnl: 0.00\n",
            "2017-06-23 00:00:00\n",
            "AAPL\n",
            "pnl: 0.00\n"
          ],
          "name": "stdout"
        },
        {
          "output_type": "stream",
          "text": [
            "WARNING:root:NaN or Inf found in input tensor.\n",
            "WARNING:root:NaN or Inf found in input tensor.\n",
            "WARNING:root:NaN or Inf found in input tensor.\n",
            "WARNING:root:NaN or Inf found in input tensor.\n"
          ],
          "name": "stderr"
        },
        {
          "output_type": "stream",
          "text": [
            "2017-06-26 00:00:00\n",
            "AAPL\n",
            "pnl: 0.00\n",
            "2017-06-27 00:00:00\n",
            "AAPL\n",
            "pnl: 0.00\n"
          ],
          "name": "stdout"
        },
        {
          "output_type": "stream",
          "text": [
            "WARNING:root:NaN or Inf found in input tensor.\n",
            "WARNING:root:NaN or Inf found in input tensor.\n",
            "WARNING:root:NaN or Inf found in input tensor.\n",
            "WARNING:root:NaN or Inf found in input tensor.\n"
          ],
          "name": "stderr"
        },
        {
          "output_type": "stream",
          "text": [
            "2017-06-28 00:00:00\n",
            "AAPL\n",
            "pnl: 0.00\n",
            "2017-06-29 00:00:00\n",
            "AAPL\n",
            "pnl: 0.00\n"
          ],
          "name": "stdout"
        },
        {
          "output_type": "stream",
          "text": [
            "WARNING:root:NaN or Inf found in input tensor.\n",
            "WARNING:root:NaN or Inf found in input tensor.\n",
            "WARNING:root:NaN or Inf found in input tensor.\n",
            "WARNING:root:NaN or Inf found in input tensor.\n"
          ],
          "name": "stderr"
        },
        {
          "output_type": "stream",
          "text": [
            "2017-06-30 00:00:00\n",
            "AAPL\n",
            "pnl: 0.00\n",
            "2017-07-03 00:00:00\n",
            "AAPL\n",
            "pnl: 0.00\n"
          ],
          "name": "stdout"
        },
        {
          "output_type": "stream",
          "text": [
            "WARNING:root:NaN or Inf found in input tensor.\n",
            "WARNING:root:NaN or Inf found in input tensor.\n",
            "WARNING:root:NaN or Inf found in input tensor.\n",
            "WARNING:root:NaN or Inf found in input tensor.\n"
          ],
          "name": "stderr"
        },
        {
          "output_type": "stream",
          "text": [
            "2017-07-04 00:00:00\n",
            "AAPL\n",
            "pnl: 0.00\n",
            "2017-07-05 00:00:00\n",
            "AAPL\n",
            "pnl: 0.00\n"
          ],
          "name": "stdout"
        },
        {
          "output_type": "stream",
          "text": [
            "WARNING:root:NaN or Inf found in input tensor.\n",
            "WARNING:root:NaN or Inf found in input tensor.\n",
            "WARNING:root:NaN or Inf found in input tensor.\n",
            "WARNING:root:NaN or Inf found in input tensor.\n"
          ],
          "name": "stderr"
        },
        {
          "output_type": "stream",
          "text": [
            "2017-07-06 00:00:00\n",
            "AAPL\n",
            "pnl: 0.00\n",
            "2017-07-07 00:00:00\n",
            "AAPL\n",
            "pnl: 0.00\n"
          ],
          "name": "stdout"
        },
        {
          "output_type": "stream",
          "text": [
            "WARNING:root:NaN or Inf found in input tensor.\n",
            "WARNING:root:NaN or Inf found in input tensor.\n",
            "WARNING:root:NaN or Inf found in input tensor.\n",
            "WARNING:root:NaN or Inf found in input tensor.\n",
            "WARNING:root:NaN or Inf found in input tensor.\n",
            "WARNING:root:NaN or Inf found in input tensor.\n"
          ],
          "name": "stderr"
        },
        {
          "output_type": "stream",
          "text": [
            "2017-07-10 00:00:00\n",
            "AAPL\n",
            "pnl: 0.00\n",
            "2017-07-11 00:00:00\n",
            "AAPL\n",
            "pnl: 0.00\n"
          ],
          "name": "stdout"
        },
        {
          "output_type": "stream",
          "text": [
            "WARNING:root:NaN or Inf found in input tensor.\n",
            "WARNING:root:NaN or Inf found in input tensor.\n"
          ],
          "name": "stderr"
        },
        {
          "output_type": "stream",
          "text": [
            "2017-07-12 00:00:00\n",
            "AAPL\n",
            "pnl: 0.00\n",
            "2017-07-13 00:00:00\n",
            "AAPL\n",
            "pnl: 0.00\n"
          ],
          "name": "stdout"
        },
        {
          "output_type": "stream",
          "text": [
            "WARNING:root:NaN or Inf found in input tensor.\n",
            "WARNING:root:NaN or Inf found in input tensor.\n",
            "WARNING:root:NaN or Inf found in input tensor.\n",
            "WARNING:root:NaN or Inf found in input tensor.\n"
          ],
          "name": "stderr"
        },
        {
          "output_type": "stream",
          "text": [
            "2017-07-14 00:00:00\n",
            "AAPL\n",
            "pnl: 0.00\n",
            "2017-07-17 00:00:00\n",
            "AAPL\n",
            "pnl: 0.00\n"
          ],
          "name": "stdout"
        },
        {
          "output_type": "stream",
          "text": [
            "WARNING:root:NaN or Inf found in input tensor.\n",
            "WARNING:root:NaN or Inf found in input tensor.\n",
            "WARNING:root:NaN or Inf found in input tensor.\n",
            "WARNING:root:NaN or Inf found in input tensor.\n"
          ],
          "name": "stderr"
        },
        {
          "output_type": "stream",
          "text": [
            "2017-07-18 00:00:00\n",
            "AAPL\n",
            "pnl: 0.00\n",
            "2017-07-19 00:00:00\n",
            "AAPL\n",
            "pnl: 0.00\n"
          ],
          "name": "stdout"
        },
        {
          "output_type": "stream",
          "text": [
            "WARNING:root:NaN or Inf found in input tensor.\n",
            "WARNING:root:NaN or Inf found in input tensor.\n",
            "WARNING:root:NaN or Inf found in input tensor.\n",
            "WARNING:root:NaN or Inf found in input tensor.\n"
          ],
          "name": "stderr"
        },
        {
          "output_type": "stream",
          "text": [
            "2017-07-20 00:00:00\n",
            "AAPL\n",
            "pnl: 0.00\n",
            "2017-07-21 00:00:00\n",
            "AAPL\n",
            "pnl: 0.00\n"
          ],
          "name": "stdout"
        },
        {
          "output_type": "stream",
          "text": [
            "WARNING:root:NaN or Inf found in input tensor.\n",
            "WARNING:root:NaN or Inf found in input tensor.\n",
            "WARNING:root:NaN or Inf found in input tensor.\n",
            "WARNING:root:NaN or Inf found in input tensor.\n"
          ],
          "name": "stderr"
        },
        {
          "output_type": "stream",
          "text": [
            "2017-07-24 00:00:00\n",
            "AAPL\n",
            "pnl: 0.00\n",
            "2017-07-25 00:00:00\n",
            "AAPL\n",
            "pnl: 0.00\n"
          ],
          "name": "stdout"
        },
        {
          "output_type": "stream",
          "text": [
            "WARNING:root:NaN or Inf found in input tensor.\n",
            "WARNING:root:NaN or Inf found in input tensor.\n",
            "WARNING:root:NaN or Inf found in input tensor.\n",
            "WARNING:root:NaN or Inf found in input tensor.\n"
          ],
          "name": "stderr"
        },
        {
          "output_type": "stream",
          "text": [
            "2017-07-26 00:00:00\n",
            "AAPL\n",
            "pnl: 0.00\n",
            "2017-07-27 00:00:00\n",
            "AAPL\n",
            "pnl: 0.00\n"
          ],
          "name": "stdout"
        },
        {
          "output_type": "stream",
          "text": [
            "WARNING:root:NaN or Inf found in input tensor.\n",
            "WARNING:root:NaN or Inf found in input tensor.\n",
            "WARNING:root:NaN or Inf found in input tensor.\n",
            "WARNING:root:NaN or Inf found in input tensor.\n"
          ],
          "name": "stderr"
        },
        {
          "output_type": "stream",
          "text": [
            "2017-07-28 00:00:00\n",
            "AAPL\n",
            "pnl: 0.00\n",
            "2017-07-31 00:00:00\n",
            "AAPL\n",
            "pnl: 0.00\n"
          ],
          "name": "stdout"
        },
        {
          "output_type": "stream",
          "text": [
            "WARNING:root:NaN or Inf found in input tensor.\n",
            "WARNING:root:NaN or Inf found in input tensor.\n",
            "WARNING:root:NaN or Inf found in input tensor.\n",
            "WARNING:root:NaN or Inf found in input tensor.\n"
          ],
          "name": "stderr"
        },
        {
          "output_type": "stream",
          "text": [
            "2017-08-01 00:00:00\n",
            "AAPL\n",
            "pnl: 0.00\n",
            "2017-08-02 00:00:00\n",
            "AAPL\n",
            "pnl: 0.00\n"
          ],
          "name": "stdout"
        },
        {
          "output_type": "stream",
          "text": [
            "WARNING:root:NaN or Inf found in input tensor.\n",
            "WARNING:root:NaN or Inf found in input tensor.\n",
            "WARNING:root:NaN or Inf found in input tensor.\n",
            "WARNING:root:NaN or Inf found in input tensor.\n",
            "WARNING:root:NaN or Inf found in input tensor.\n",
            "WARNING:root:NaN or Inf found in input tensor.\n"
          ],
          "name": "stderr"
        },
        {
          "output_type": "stream",
          "text": [
            "2017-08-03 00:00:00\n",
            "AAPL\n",
            "pnl: 0.00\n",
            "2017-08-04 00:00:00\n",
            "AAPL\n",
            "pnl: 0.00\n",
            "2017-08-07 00:00:00\n"
          ],
          "name": "stdout"
        },
        {
          "output_type": "stream",
          "text": [
            "WARNING:root:NaN or Inf found in input tensor.\n",
            "WARNING:root:NaN or Inf found in input tensor.\n",
            "WARNING:root:NaN or Inf found in input tensor.\n",
            "WARNING:root:NaN or Inf found in input tensor.\n"
          ],
          "name": "stderr"
        },
        {
          "output_type": "stream",
          "text": [
            "AAPL\n",
            "pnl: 0.00\n",
            "2017-08-08 00:00:00\n",
            "AAPL\n",
            "pnl: 0.00\n",
            "2017-08-09 00:00:00\n"
          ],
          "name": "stdout"
        },
        {
          "output_type": "stream",
          "text": [
            "WARNING:root:NaN or Inf found in input tensor.\n",
            "WARNING:root:NaN or Inf found in input tensor.\n",
            "WARNING:root:NaN or Inf found in input tensor.\n",
            "WARNING:root:NaN or Inf found in input tensor.\n"
          ],
          "name": "stderr"
        },
        {
          "output_type": "stream",
          "text": [
            "AAPL\n",
            "pnl: 0.00\n",
            "2017-08-10 00:00:00\n",
            "AAPL\n",
            "pnl: 0.00\n",
            "2017-08-11 00:00:00\n",
            "AAPL\n"
          ],
          "name": "stdout"
        },
        {
          "output_type": "stream",
          "text": [
            "WARNING:root:NaN or Inf found in input tensor.\n",
            "WARNING:root:NaN or Inf found in input tensor.\n",
            "WARNING:root:NaN or Inf found in input tensor.\n",
            "WARNING:root:NaN or Inf found in input tensor.\n"
          ],
          "name": "stderr"
        },
        {
          "output_type": "stream",
          "text": [
            "pnl: 0.00\n",
            "2017-08-14 00:00:00\n",
            "AAPL\n",
            "pnl: 0.00\n",
            "2017-08-15 00:00:00\n",
            "AAPL\n",
            "pnl: 0.00\n"
          ],
          "name": "stdout"
        },
        {
          "output_type": "stream",
          "text": [
            "WARNING:root:NaN or Inf found in input tensor.\n",
            "WARNING:root:NaN or Inf found in input tensor.\n",
            "WARNING:root:NaN or Inf found in input tensor.\n",
            "WARNING:root:NaN or Inf found in input tensor.\n"
          ],
          "name": "stderr"
        },
        {
          "output_type": "stream",
          "text": [
            "2017-08-16 00:00:00\n",
            "AAPL\n",
            "pnl: 0.00\n",
            "2017-08-17 00:00:00\n",
            "AAPL\n",
            "pnl: 0.00\n"
          ],
          "name": "stdout"
        },
        {
          "output_type": "stream",
          "text": [
            "WARNING:root:NaN or Inf found in input tensor.\n",
            "WARNING:root:NaN or Inf found in input tensor.\n",
            "WARNING:root:NaN or Inf found in input tensor.\n",
            "WARNING:root:NaN or Inf found in input tensor.\n"
          ],
          "name": "stderr"
        },
        {
          "output_type": "stream",
          "text": [
            "2017-08-18 00:00:00\n",
            "AAPL\n",
            "pnl: 0.00\n",
            "2017-08-21 00:00:00\n",
            "AAPL\n",
            "pnl: 0.00\n"
          ],
          "name": "stdout"
        },
        {
          "output_type": "stream",
          "text": [
            "WARNING:root:NaN or Inf found in input tensor.\n",
            "WARNING:root:NaN or Inf found in input tensor.\n",
            "WARNING:root:NaN or Inf found in input tensor.\n",
            "WARNING:root:NaN or Inf found in input tensor.\n",
            "WARNING:root:NaN or Inf found in input tensor.\n",
            "WARNING:root:NaN or Inf found in input tensor.\n"
          ],
          "name": "stderr"
        },
        {
          "output_type": "stream",
          "text": [
            "2017-08-22 00:00:00\n",
            "AAPL\n",
            "pnl: 0.00\n",
            "2017-08-23 00:00:00\n",
            "AAPL\n",
            "pnl: 0.00\n"
          ],
          "name": "stdout"
        },
        {
          "output_type": "stream",
          "text": [
            "WARNING:root:NaN or Inf found in input tensor.\n",
            "WARNING:root:NaN or Inf found in input tensor.\n",
            "WARNING:root:NaN or Inf found in input tensor.\n",
            "WARNING:root:NaN or Inf found in input tensor.\n"
          ],
          "name": "stderr"
        },
        {
          "output_type": "stream",
          "text": [
            "2017-08-24 00:00:00\n",
            "AAPL\n",
            "pnl: 0.00\n",
            "2017-08-25 00:00:00\n",
            "AAPL\n",
            "pnl: 0.00\n",
            "2017-08-28 00:00:00\n"
          ],
          "name": "stdout"
        },
        {
          "output_type": "stream",
          "text": [
            "WARNING:root:NaN or Inf found in input tensor.\n",
            "WARNING:root:NaN or Inf found in input tensor.\n",
            "WARNING:root:NaN or Inf found in input tensor.\n",
            "WARNING:root:NaN or Inf found in input tensor.\n"
          ],
          "name": "stderr"
        },
        {
          "output_type": "stream",
          "text": [
            "AAPL\n",
            "pnl: 0.00\n",
            "2017-08-29 00:00:00\n",
            "AAPL\n",
            "pnl: 0.00\n",
            "2017-08-30 00:00:00\n"
          ],
          "name": "stdout"
        },
        {
          "output_type": "stream",
          "text": [
            "WARNING:root:NaN or Inf found in input tensor.\n",
            "WARNING:root:NaN or Inf found in input tensor.\n"
          ],
          "name": "stderr"
        },
        {
          "output_type": "stream",
          "text": [
            "AAPL\n",
            "pnl: 0.00\n",
            "[Timestamp('2015-01-02 00:00:00', freq='C'), datetime.datetime(2017, 8, 30, 0, 0)]\n"
          ],
          "name": "stdout"
        }
      ]
    },
    {
      "cell_type": "code",
      "metadata": {
        "id": "VjgUGQNb1eQn",
        "colab_type": "code",
        "colab": {
          "base_uri": "https://localhost:8080/",
          "height": 323
        },
        "outputId": "5cdf0645-8cbc-4510-b3a0-fbd3e0e9e6ef"
      },
      "source": [
        "results"
      ],
      "execution_count": 13,
      "outputs": [
        {
          "output_type": "execute_result",
          "data": {
            "text/plain": [
              "{'annual_return': 0.0,\n",
              " 'annual_vol': 0.0,\n",
              " 'capital': 1000.0,\n",
              " 'capitalUsage': 0,\n",
              " 'count_loss': 0,\n",
              " 'count_profit': 0,\n",
              " 'instrument_names': ['AAPL'],\n",
              " 'instrument_stats': [{'pnl': {'AAPL': 0.0}, 'score': {'AAPL': -1.0}}],\n",
              " 'maxDrawdown': 0,\n",
              " 'maxPortfolioValue': 1000.0,\n",
              " 'pnl': 0.0,\n",
              " 'portfolio_value': 1000.0,\n",
              " 'score': -1.0,\n",
              " 'sharpe_ratio': nan,\n",
              " 'total_loss': 0,\n",
              " 'total_profit': 0,\n",
              " 'trading_days': 694,\n",
              " 'variance': 0.0}"
            ]
          },
          "metadata": {
            "tags": []
          },
          "execution_count": 13
        }
      ]
    },
    {
      "cell_type": "code",
      "metadata": {
        "id": "yI3tiMs72Tcq",
        "colab_type": "code",
        "colab": {}
      },
      "source": [
        ""
      ],
      "execution_count": null,
      "outputs": []
    }
  ]
}